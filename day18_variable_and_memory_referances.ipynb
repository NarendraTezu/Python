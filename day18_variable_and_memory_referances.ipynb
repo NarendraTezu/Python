{
 "cells": [
  {
   "cell_type": "markdown",
   "id": "276f0c9e",
   "metadata": {},
   "source": [
    "### Object refrence "
   ]
  },
  {
   "cell_type": "code",
   "execution_count": 5,
   "id": "5cdb635e",
   "metadata": {},
   "outputs": [
    {
     "name": "stdout",
     "output_type": "stream",
     "text": [
      "5\n",
      "93855794929088\n",
      "5\n",
      "93855794929088\n"
     ]
    }
   ],
   "source": [
    "# alisaing in Python\n",
    "a = 5\n",
    "b = a\n",
    "print(a)\n",
    "print(id(a))\n",
    "print(b)\n",
    "print(id(b))"
   ]
  },
  {
   "cell_type": "code",
   "execution_count": 7,
   "id": "150f9000",
   "metadata": {},
   "outputs": [
    {
     "name": "stdout",
     "output_type": "stream",
     "text": [
      "5\n",
      "93855794929088\n"
     ]
    }
   ],
   "source": [
    "c = b\n",
    "print(c)\n",
    "print(id(c))"
   ]
  },
  {
   "cell_type": "code",
   "execution_count": 8,
   "id": "dbcb8c98",
   "metadata": {},
   "outputs": [],
   "source": [
    "del a"
   ]
  },
  {
   "cell_type": "code",
   "execution_count": 9,
   "id": "4bd4ae72",
   "metadata": {},
   "outputs": [
    {
     "ename": "NameError",
     "evalue": "name 'a' is not defined",
     "output_type": "error",
     "traceback": [
      "\u001b[0;31m---------------------------------------------------------------------------\u001b[0m",
      "\u001b[0;31mNameError\u001b[0m                                 Traceback (most recent call last)",
      "Cell \u001b[0;32mIn [9], line 1\u001b[0m\n\u001b[0;32m----> 1\u001b[0m \u001b[43ma\u001b[49m\n",
      "\u001b[0;31mNameError\u001b[0m: name 'a' is not defined"
     ]
    }
   ],
   "source": [
    "a"
   ]
  },
  {
   "cell_type": "code",
   "execution_count": 10,
   "id": "85c48f84",
   "metadata": {},
   "outputs": [
    {
     "name": "stdout",
     "output_type": "stream",
     "text": [
      "5\n"
     ]
    }
   ],
   "source": [
    "print(b)"
   ]
  },
  {
   "cell_type": "code",
   "execution_count": 11,
   "id": "04dd2822",
   "metadata": {},
   "outputs": [
    {
     "name": "stdout",
     "output_type": "stream",
     "text": [
      "5\n"
     ]
    }
   ],
   "source": [
    "print(c)"
   ]
  },
  {
   "cell_type": "code",
   "execution_count": 12,
   "id": "603ae53c",
   "metadata": {},
   "outputs": [],
   "source": [
    "a = \"corona\"\n",
    "b = a\n",
    "c = b"
   ]
  },
  {
   "cell_type": "code",
   "execution_count": 13,
   "id": "21e224f3",
   "metadata": {},
   "outputs": [
    {
     "name": "stdout",
     "output_type": "stream",
     "text": [
      "139638581514096\n",
      "139638581514096\n",
      "139638581514096\n"
     ]
    }
   ],
   "source": [
    "print(id(a))\n",
    "print(id(b))\n",
    "print(id(c))"
   ]
  },
  {
   "cell_type": "code",
   "execution_count": 14,
   "id": "0f661e91",
   "metadata": {},
   "outputs": [],
   "source": [
    "import sys"
   ]
  },
  {
   "cell_type": "code",
   "execution_count": 17,
   "id": "76666cf1",
   "metadata": {},
   "outputs": [
    {
     "data": {
      "text/plain": [
       "4"
      ]
     },
     "execution_count": 17,
     "metadata": {},
     "output_type": "execute_result"
    }
   ],
   "source": [
    "sys.getrefcount(a) # always get one more count of variable getrefcount() also will a refrence to that memory location "
   ]
  },
  {
   "cell_type": "markdown",
   "id": "53df0f5f",
   "metadata": {},
   "source": [
    "### Garbage Collection "
   ]
  },
  {
   "cell_type": "markdown",
   "id": "2aaf02a9",
   "metadata": {},
   "source": [
    "* Garbage collector are use to free the memory space which is occupy by some value but not refrence by any variable\n",
    "* In python there is autometic garbage collector "
   ]
  },
  {
   "cell_type": "markdown",
   "id": "2d3fa585",
   "metadata": {},
   "source": [
    "### Weird Stuff"
   ]
  },
  {
   "cell_type": "code",
   "execution_count": 20,
   "id": "82599bc8",
   "metadata": {},
   "outputs": [
    {
     "data": {
      "text/plain": [
       "1574"
      ]
     },
     "execution_count": 20,
     "metadata": {},
     "output_type": "execute_result"
    }
   ],
   "source": [
    "# 2 is common number and in our system so many variable already refer to 2\n",
    "a = 2\n",
    "b = a\n",
    "c = b\n",
    "\n",
    "sys.getrefcount(a)"
   ]
  },
  {
   "cell_type": "code",
   "execution_count": 21,
   "id": "061dbe7d",
   "metadata": {},
   "outputs": [
    {
     "data": {
      "text/plain": [
       "84"
      ]
     },
     "execution_count": 21,
     "metadata": {},
     "output_type": "execute_result"
    }
   ],
   "source": [
    "a = 61\n",
    "b = a\n",
    "c = b\n",
    "\n",
    "sys.getrefcount(a)"
   ]
  },
  {
   "cell_type": "code",
   "execution_count": 22,
   "id": "680762e3",
   "metadata": {},
   "outputs": [
    {
     "data": {
      "text/plain": [
       "3"
      ]
     },
     "execution_count": 22,
     "metadata": {},
     "output_type": "execute_result"
    }
   ],
   "source": [
    "a = 717\n",
    "sys.getrefcount(a)"
   ]
  },
  {
   "cell_type": "code",
   "execution_count": 23,
   "id": "6e29a129",
   "metadata": {},
   "outputs": [
    {
     "data": {
      "text/plain": [
       "4"
      ]
     },
     "execution_count": 23,
     "metadata": {},
     "output_type": "execute_result"
    }
   ],
   "source": [
    "b = a\n",
    "c = b\n",
    "sys.getrefcount(a)"
   ]
  },
  {
   "cell_type": "code",
   "execution_count": 24,
   "id": "c6038fcf",
   "metadata": {},
   "outputs": [
    {
     "name": "stdout",
     "output_type": "stream",
     "text": [
      "93855794937120\n",
      "93855794937120\n"
     ]
    }
   ],
   "source": [
    "# both below example showing when we giving the value in range 0-256 id is same \n",
    "a = 256\n",
    "b = 256\n",
    "print((id(a)))\n",
    "print((id(b)))"
   ]
  },
  {
   "cell_type": "code",
   "execution_count": 25,
   "id": "c356dc8a",
   "metadata": {},
   "outputs": [
    {
     "name": "stdout",
     "output_type": "stream",
     "text": [
      "139638582199952\n",
      "139638582200400\n"
     ]
    }
   ],
   "source": [
    "# both below example showing when we giving the value after the range 0-256 id is different  \n",
    "\n",
    "a = 257\n",
    "b = 257\n",
    "print((id(a)))\n",
    "print((id(b)))"
   ]
  },
  {
   "cell_type": "code",
   "execution_count": 30,
   "id": "0fad5cdb",
   "metadata": {},
   "outputs": [],
   "source": [
    "# in below three we can absorbed is string is valid identifiers and same then Id will be same "
   ]
  },
  {
   "cell_type": "code",
   "execution_count": 26,
   "id": "b21b1fce",
   "metadata": {},
   "outputs": [
    {
     "name": "stdout",
     "output_type": "stream",
     "text": [
      "139638581141168\n",
      "139638581141168\n"
     ]
    }
   ],
   "source": [
    "a =\"Jodhpur\"\n",
    "b =\"Jodhpur\"\n",
    "print(id(a))\n",
    "print(id(b))"
   ]
  },
  {
   "cell_type": "code",
   "execution_count": 27,
   "id": "600794e3",
   "metadata": {},
   "outputs": [
    {
     "name": "stdout",
     "output_type": "stream",
     "text": [
      "139638581175152\n",
      "139638581177904\n"
     ]
    }
   ],
   "source": [
    "a =\"IIT Jodhpur\"\n",
    "b =\"IITJ Jodhpur\"\n",
    "print(id(a))\n",
    "print(id(b))"
   ]
  },
  {
   "cell_type": "code",
   "execution_count": 29,
   "id": "910fad2f",
   "metadata": {},
   "outputs": [
    {
     "name": "stdout",
     "output_type": "stream",
     "text": [
      "139638581176112\n",
      "139638581176112\n"
     ]
    }
   ],
   "source": [
    "a =\"IIT_Jodhpur\"\n",
    "b =\"IIT_Jodhpur\"\n",
    "print(id(a))\n",
    "print(id(b))"
   ]
  },
  {
   "cell_type": "markdown",
   "id": "40ee4059",
   "metadata": {},
   "source": [
    "### Mutability"
   ]
  },
  {
   "cell_type": "code",
   "execution_count": 34,
   "id": "678d2f9e",
   "metadata": {},
   "outputs": [
    {
     "name": "stdout",
     "output_type": "stream",
     "text": [
      "[1, 2, 3, 4, 5]\n",
      "[1, 2, 3, 4, 5]\n",
      "139638581662464\n",
      "139638581662464\n"
     ]
    }
   ],
   "source": [
    "### What is cloning in python?\n",
    "# Clonaning is use to copy a mutable data type variable to new new variable for avoiding the modification in first variable example are given below\n",
    "\n",
    "\n",
    "l1 = [1,2,3,4,5]\n",
    "l2 = l1\n",
    "print(l1)\n",
    "print(l2)\n",
    "print(id(l1))\n",
    "print(id(l2))"
   ]
  },
  {
   "cell_type": "code",
   "execution_count": 35,
   "id": "943fa292",
   "metadata": {},
   "outputs": [],
   "source": [
    "l2.append(7)"
   ]
  },
  {
   "cell_type": "code",
   "execution_count": 36,
   "id": "4748319a",
   "metadata": {},
   "outputs": [
    {
     "name": "stdout",
     "output_type": "stream",
     "text": [
      "[1, 2, 3, 4, 5, 7]\n",
      "[1, 2, 3, 4, 5, 7]\n",
      "139638581662464\n",
      "139638581662464\n"
     ]
    }
   ],
   "source": [
    "print(l1)\n",
    "print(l2)\n",
    "print(id(l1))\n",
    "print(id(l2))"
   ]
  },
  {
   "cell_type": "code",
   "execution_count": 37,
   "id": "bfca55a2",
   "metadata": {},
   "outputs": [],
   "source": [
    "# To avoid the above problem we use cloning \n",
    "l3 = l1[:]"
   ]
  },
  {
   "cell_type": "code",
   "execution_count": 40,
   "id": "2a1bce4b",
   "metadata": {},
   "outputs": [
    {
     "name": "stdout",
     "output_type": "stream",
     "text": [
      "[1, 2, 3, 4, 5, 7]\n",
      "139638581662464\n",
      "[1, 2, 3, 4, 5, 7]\n",
      "139638581545920\n"
     ]
    }
   ],
   "source": [
    "# we can see that id for l1 and l3 is different so we can modify l3 without worry\n",
    "\n",
    "print(l1)\n",
    "print(id(l1))\n",
    "print(l3)\n",
    "print(id(l3))"
   ]
  },
  {
   "cell_type": "code",
   "execution_count": 41,
   "id": "ab2ae8b0",
   "metadata": {},
   "outputs": [
    {
     "name": "stdout",
     "output_type": "stream",
     "text": [
      "[1, 2, 3, 4, 5, 7]\n",
      "139638581662464\n",
      "[1, 2, 3, 4, 5, 7, 9]\n",
      "139638581545920\n"
     ]
    }
   ],
   "source": [
    "l3.append(9)\n",
    "print(l1)\n",
    "print(id(l1))\n",
    "print(l3)\n",
    "print(id(l3))"
   ]
  },
  {
   "cell_type": "code",
   "execution_count": 43,
   "id": "4b97fe05",
   "metadata": {},
   "outputs": [
    {
     "data": {
      "text/plain": [
       "(1, 2, 3, 4, 5, [6, 7])"
      ]
     },
     "execution_count": 43,
     "metadata": {},
     "output_type": "execute_result"
    }
   ],
   "source": [
    "# keeping list in tuple is mutable or not?\n",
    "t1 = (1,2,3,4,5,[6,7])\n",
    "t1"
   ]
  },
  {
   "cell_type": "code",
   "execution_count": 44,
   "id": "8df91c45",
   "metadata": {},
   "outputs": [],
   "source": [
    "t1[-1][-1] = 200"
   ]
  },
  {
   "cell_type": "code",
   "execution_count": 45,
   "id": "24d43eb9",
   "metadata": {},
   "outputs": [
    {
     "data": {
      "text/plain": [
       "(1, 2, 3, 4, 5, [6, 200])"
      ]
     },
     "execution_count": 45,
     "metadata": {},
     "output_type": "execute_result"
    }
   ],
   "source": [
    "t1"
   ]
  },
  {
   "cell_type": "code",
   "execution_count": 46,
   "id": "26d0b429",
   "metadata": {},
   "outputs": [],
   "source": [
    "t1[-1].append(300)"
   ]
  },
  {
   "cell_type": "code",
   "execution_count": 47,
   "id": "8780e493",
   "metadata": {},
   "outputs": [
    {
     "data": {
      "text/plain": [
       "(1, 2, 3, 4, 5, [6, 200, 300])"
      ]
     },
     "execution_count": 47,
     "metadata": {},
     "output_type": "execute_result"
    }
   ],
   "source": [
    "t1"
   ]
  },
  {
   "cell_type": "code",
   "execution_count": null,
   "id": "7b84ea52",
   "metadata": {},
   "outputs": [],
   "source": [
    " "
   ]
  }
 ],
 "metadata": {
  "kernelspec": {
   "display_name": "Python 3",
   "language": "python",
   "name": "python3"
  },
  "language_info": {
   "codemirror_mode": {
    "name": "ipython",
    "version": 3
   },
   "file_extension": ".py",
   "mimetype": "text/x-python",
   "name": "python",
   "nbconvert_exporter": "python",
   "pygments_lexer": "ipython3",
   "version": "3.8.8"
  }
 },
 "nbformat": 4,
 "nbformat_minor": 5
}
