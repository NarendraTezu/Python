{
 "cells": [
  {
   "cell_type": "markdown",
   "id": "74c0af24",
   "metadata": {},
   "source": [
    "### Type Conversion\n",
    "* Type conversion use to convert one data type in to another data type with some rules\n",
    "* There are two type of type conversion \n",
    "    - Implicit\n",
    "    - Explicit"
   ]
  },
  {
   "cell_type": "markdown",
   "id": "0ea1e96a",
   "metadata": {},
   "source": [
    "### Implicite type conversion perform by python "
   ]
  },
  {
   "cell_type": "code",
   "execution_count": 2,
   "id": "a89fbed1",
   "metadata": {},
   "outputs": [
    {
     "data": {
      "text/plain": [
       "8.5"
      ]
     },
     "execution_count": 2,
     "metadata": {},
     "output_type": "execute_result"
    }
   ],
   "source": [
    "# Example of implicite data \n",
    "4 + 4.5"
   ]
  },
  {
   "cell_type": "code",
   "execution_count": 3,
   "id": "5c18bf5f",
   "metadata": {},
   "outputs": [
    {
     "data": {
      "text/plain": [
       "(8.5+5j)"
      ]
     },
     "execution_count": 3,
     "metadata": {},
     "output_type": "execute_result"
    }
   ],
   "source": [
    "4+4.5+5j"
   ]
  },
  {
   "cell_type": "code",
   "execution_count": null,
   "id": "0d9c8aee",
   "metadata": {},
   "outputs": [],
   "source": []
  }
 ],
 "metadata": {
  "kernelspec": {
   "display_name": "Python 3",
   "language": "python",
   "name": "python3"
  },
  "language_info": {
   "codemirror_mode": {
    "name": "ipython",
    "version": 3
   },
   "file_extension": ".py",
   "mimetype": "text/x-python",
   "name": "python",
   "nbconvert_exporter": "python",
   "pygments_lexer": "ipython3",
   "version": "3.8.8"
  }
 },
 "nbformat": 4,
 "nbformat_minor": 5
}
