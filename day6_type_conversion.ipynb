{
 "cells": [
  {
   "cell_type": "markdown",
   "id": "74c0af24",
   "metadata": {},
   "source": [
    "### Type Conversion\n",
    "* Type conversion use to convert one data type in to another data type with some rules\n",
    "* There are two type of type conversion \n",
    "    - Implicit\n",
    "    - Explicit"
   ]
  },
  {
   "cell_type": "markdown",
   "id": "0ea1e96a",
   "metadata": {},
   "source": [
    "### Implicite type conversion perform by python "
   ]
  },
  {
   "cell_type": "code",
   "execution_count": 2,
   "id": "a89fbed1",
   "metadata": {},
   "outputs": [
    {
     "data": {
      "text/plain": [
       "8.5"
      ]
     },
     "execution_count": 2,
     "metadata": {},
     "output_type": "execute_result"
    }
   ],
   "source": [
    "# Example of implicite data \n",
    "4 + 4.5"
   ]
  },
  {
   "cell_type": "code",
   "execution_count": 3,
   "id": "5c18bf5f",
   "metadata": {},
   "outputs": [
    {
     "data": {
      "text/plain": [
       "(8.5+5j)"
      ]
     },
     "execution_count": 3,
     "metadata": {},
     "output_type": "execute_result"
    }
   ],
   "source": [
    "4+4.5+5j"
   ]
  },
  {
   "cell_type": "code",
   "execution_count": 1,
   "id": "0d9c8aee",
   "metadata": {},
   "outputs": [
    {
     "name": "stdout",
     "output_type": "stream",
     "text": [
      "Enter your number12\n",
      "Enter your number23\n"
     ]
    }
   ],
   "source": [
    "num1 = input(\"Enter your number\")\n",
    "num2 = input(\"Enter your number\")"
   ]
  },
  {
   "cell_type": "code",
   "execution_count": 2,
   "id": "6d92a17c",
   "metadata": {},
   "outputs": [
    {
     "name": "stdout",
     "output_type": "stream",
     "text": [
      "1223\n"
     ]
    }
   ],
   "source": [
    "result = num1 + num2\n",
    "print(result)"
   ]
  },
  {
   "cell_type": "markdown",
   "id": "eaa82c30",
   "metadata": {},
   "source": [
    "* In above code we need to do implicite type conversion"
   ]
  },
  {
   "cell_type": "code",
   "execution_count": 3,
   "id": "49115d76",
   "metadata": {},
   "outputs": [
    {
     "name": "stdout",
     "output_type": "stream",
     "text": [
      "Enter your number12\n",
      "Enter your number12\n"
     ]
    }
   ],
   "source": [
    "num1 = int(input(\"Enter your number\"))\n",
    "num2 = int(input(\"Enter your number\"))"
   ]
  },
  {
   "cell_type": "code",
   "execution_count": 4,
   "id": "63cd9b13",
   "metadata": {},
   "outputs": [
    {
     "name": "stdout",
     "output_type": "stream",
     "text": [
      "24\n"
     ]
    }
   ],
   "source": [
    "result = num1 + num2\n",
    "print(result)"
   ]
  },
  {
   "cell_type": "code",
   "execution_count": null,
   "id": "c565d16a",
   "metadata": {},
   "outputs": [],
   "source": []
  }
 ],
 "metadata": {
  "kernelspec": {
   "display_name": "Python 3",
   "language": "python",
   "name": "python3"
  },
  "language_info": {
   "codemirror_mode": {
    "name": "ipython",
    "version": 3
   },
   "file_extension": ".py",
   "mimetype": "text/x-python",
   "name": "python",
   "nbconvert_exporter": "python",
   "pygments_lexer": "ipython3",
   "version": "3.8.8"
  }
 },
 "nbformat": 4,
 "nbformat_minor": 5
}
