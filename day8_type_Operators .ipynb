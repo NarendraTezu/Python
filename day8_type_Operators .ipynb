{
 "cells": [
  {
   "cell_type": "markdown",
   "id": "31dd0f50",
   "metadata": {},
   "source": [
    "### Operators \n",
    "Operators are special symbols or characters that perform operations on operands (values or variables)."
   ]
  },
  {
   "cell_type": "markdown",
   "id": "3012a38c",
   "metadata": {},
   "source": [
    "### 1. Arithmetic Operators"
   ]
  },
  {
   "cell_type": "code",
   "execution_count": 1,
   "id": "5428d68b",
   "metadata": {},
   "outputs": [],
   "source": [
    "x = 5\n",
    "y = 3"
   ]
  },
  {
   "cell_type": "code",
   "execution_count": 2,
   "id": "2e4ac8a4",
   "metadata": {},
   "outputs": [
    {
     "name": "stdout",
     "output_type": "stream",
     "text": [
      "8\n",
      "2\n",
      "15\n",
      "1.6666666666666667\n",
      "1\n",
      "2\n",
      "125\n"
     ]
    }
   ],
   "source": [
    "print(x + y)\n",
    "print(x - y)\n",
    "print(x * y)\n",
    "print(x / y)\n",
    "print(x // y)\n",
    "print(x % y)\n",
    "print(x ** y)"
   ]
  },
  {
   "cell_type": "markdown",
   "id": "f92dd739",
   "metadata": {},
   "source": [
    "### 2. Assignment Operators"
   ]
  },
  {
   "cell_type": "code",
   "execution_count": 11,
   "id": "455cd60c",
   "metadata": {},
   "outputs": [
    {
     "name": "stdout",
     "output_type": "stream",
     "text": [
      "10\n",
      "John\n",
      "8\n",
      "6\n",
      "15\n",
      "5.0\n",
      "3\n",
      "8\n",
      "4\n"
     ]
    }
   ],
   "source": [
    "x = 10\n",
    "print(x)\n",
    "name = \"John\"\n",
    "print(name)\n",
    "\n",
    "x = 5\n",
    "x += 3  # Equivalent to x = x + 3\n",
    "print(x)  # Output: 8\n",
    "\n",
    "x = 10\n",
    "x -= 4  # Equivalent to x = x - 4\n",
    "print(x)  # Output: 6\n",
    "\n",
    "x = 3\n",
    "x *= 5  # Equivalent to x = x * 5\n",
    "print(x)  # Output: 15\n",
    "\n",
    "x = 20\n",
    "x /= 4  # Equivalent to x = x / 4\n",
    "print(x)  # Output: 5.0\n",
    "\n",
    "x = 13\n",
    "x %= 5  # Equivalent to x = x % 5\n",
    "print(x)  # Output: 3\n",
    "\n",
    "x = 2\n",
    "x **= 3  # Equivalent to x = x ** 3\n",
    "print(x)  # Output: 8\n",
    "\n",
    "x = 17\n",
    "x //= 4  # Equivalent to x = x // 4\n",
    "print(x)  # Output: 4"
   ]
  },
  {
   "cell_type": "markdown",
   "id": "e6f5adf9",
   "metadata": {},
   "source": [
    "### 3. Comparison Operators"
   ]
  },
  {
   "cell_type": "code",
   "execution_count": 13,
   "id": "c52a9b65",
   "metadata": {},
   "outputs": [
    {
     "name": "stdout",
     "output_type": "stream",
     "text": [
      "False\n",
      "True\n",
      "False\n",
      "True\n",
      "False\n",
      "True\n"
     ]
    }
   ],
   "source": [
    "x = 10\n",
    "y = 13\n",
    "\n",
    "print(x > y)\n",
    "print(x < y)\n",
    "print(x == y)\n",
    "print(x != y)\n",
    "print(x >= y)\n",
    "print(x <= y)"
   ]
  },
  {
   "cell_type": "markdown",
   "id": "b51721e8",
   "metadata": {},
   "source": [
    "### 4. Logical Operators"
   ]
  },
  {
   "cell_type": "code",
   "execution_count": 14,
   "id": "c68eaf13",
   "metadata": {},
   "outputs": [
    {
     "name": "stdout",
     "output_type": "stream",
     "text": [
      "True\n",
      "False\n",
      "True\n"
     ]
    }
   ],
   "source": [
    "x = True\n",
    "y = False\n",
    "\n",
    "print(x or y)\n",
    "print(x and y)\n",
    "print(not y)"
   ]
  },
  {
   "cell_type": "markdown",
   "id": "757aa415",
   "metadata": {},
   "source": [
    "### 5. Bitwise Operators"
   ]
  },
  {
   "cell_type": "code",
   "execution_count": 17,
   "id": "71315a39",
   "metadata": {},
   "outputs": [
    {
     "name": "stdout",
     "output_type": "stream",
     "text": [
      "2\n",
      "3\n",
      "0\n",
      "24\n",
      "-3\n"
     ]
    }
   ],
   "source": [
    "x = 2\n",
    "y = 3\n",
    "\n",
    "# bitwise operators always work on binary value\n",
    "# 010\n",
    "# 110\n",
    "# ----\n",
    "# 010\n",
    "\n",
    "print(x & y)\n",
    "print(x | y)\n",
    "print(x >> 2)\n",
    "print(y << 3)\n",
    "print(~x)"
   ]
  },
  {
   "cell_type": "markdown",
   "id": "510eee43",
   "metadata": {},
   "source": [
    "### 6. Membership Operators"
   ]
  },
  {
   "cell_type": "code",
   "execution_count": 22,
   "id": "1f3b0874",
   "metadata": {},
   "outputs": [
    {
     "name": "stdout",
     "output_type": "stream",
     "text": [
      "True\n",
      "False\n",
      "True\n",
      "False\n"
     ]
    }
   ],
   "source": [
    "x = \"Delhi\"\n",
    "print(\"D\" in x)\n",
    "print(\"l\" not in x)\n",
    "\n",
    "x = [1,2,3,4]\n",
    "print(1 in x)\n",
    "\n",
    "x = (1,2,3,4)\n",
    "print(5 in x)"
   ]
  },
  {
   "cell_type": "markdown",
   "id": "5bbf58ad",
   "metadata": {},
   "source": [
    "### 7. Identity Operators"
   ]
  },
  {
   "cell_type": "code",
   "execution_count": 25,
   "id": "1aa417c6",
   "metadata": {},
   "outputs": [
    {
     "name": "stdout",
     "output_type": "stream",
     "text": [
      "True\n",
      "False\n"
     ]
    }
   ],
   "source": [
    "a = \"Narendra\"\n",
    "b = \"Narendra\"\n",
    "\n",
    "print(a is b)\n",
    "print(a is not b)"
   ]
  }
 ],
 "metadata": {
  "kernelspec": {
   "display_name": "Python 3",
   "language": "python",
   "name": "python3"
  },
  "language_info": {
   "codemirror_mode": {
    "name": "ipython",
    "version": 3
   },
   "file_extension": ".py",
   "mimetype": "text/x-python",
   "name": "python",
   "nbconvert_exporter": "python",
   "pygments_lexer": "ipython3",
   "version": "3.8.8"
  }
 },
 "nbformat": 4,
 "nbformat_minor": 5
}
