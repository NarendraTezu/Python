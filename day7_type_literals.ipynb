{
 "cells": [
  {
   "cell_type": "markdown",
   "id": "39c46e57",
   "metadata": {},
   "source": [
    "### Literlas\n",
    "\n",
    "It is notation or representation of a value within the source code of a program. It represents a fixed value that can be assigned to variables or used directly in expressions. there are four type of literals \n",
    "* Numerical Literals\n",
    "* String Literals\n",
    "* Boolean Literals\n",
    "* Special Literals\n"
   ]
  },
  {
   "cell_type": "markdown",
   "id": "8013d977",
   "metadata": {},
   "source": [
    "### 1. Numeric Literals\n",
    "Numeric literals represent numeric values. They can be integers, floating-point numbers, or complex numbers"
   ]
  },
  {
   "cell_type": "code",
   "execution_count": 3,
   "id": "a8e7c24c",
   "metadata": {},
   "outputs": [],
   "source": [
    "x = 42         # Integer literal\n",
    "y = 3.14       # Floating-point literal\n",
    "z = 2 + 3j     # Complex number literal\n",
    "p = 0b1010     # Binary literal"
   ]
  },
  {
   "cell_type": "code",
   "execution_count": 4,
   "id": "ec3b14e7",
   "metadata": {},
   "outputs": [
    {
     "name": "stdout",
     "output_type": "stream",
     "text": [
      "42\n",
      "3.14\n",
      "(2+3j)\n",
      "10\n"
     ]
    }
   ],
   "source": [
    "print(x)\n",
    "print(y)\n",
    "print(z)\n",
    "print(p)"
   ]
  },
  {
   "cell_type": "markdown",
   "id": "07acb52f",
   "metadata": {},
   "source": [
    "### 2. String Literals \n",
    "String literals represent sequences of characters enclosed in single quotes ('') or double quotes (\"\"). Examples of string literals include"
   ]
  },
  {
   "cell_type": "code",
   "execution_count": 11,
   "id": "07d9e115",
   "metadata": {},
   "outputs": [],
   "source": [
    "name = 'John'       # String literal using single quotes\n",
    "message = \"Hello!\"  # String literal using double quotes\n",
    "char = \"d\"\n",
    "multiline_str = \"\"\"Hi how are you?\n",
    "What are you doing now?\"\"\"\n",
    "\n",
    "unicode = u\"u0001f600\"\n",
    "raw_str = r\"raw \\n string\""
   ]
  },
  {
   "cell_type": "code",
   "execution_count": 12,
   "id": "ba20aadc",
   "metadata": {},
   "outputs": [
    {
     "name": "stdout",
     "output_type": "stream",
     "text": [
      "John\n",
      "Hello!\n",
      "d\n",
      "Hi how are you?\n",
      "What are you doing now?\n",
      "u0001f600\n",
      "raw \\n string\n"
     ]
    }
   ],
   "source": [
    "print(name)\n",
    "print(message)\n",
    "print(char)\n",
    "print(multiline_str)\n",
    "print(unicode)\n",
    "print(raw_str)"
   ]
  },
  {
   "cell_type": "markdown",
   "id": "f1477e24",
   "metadata": {},
   "source": [
    "### 3. Boolean Literals\n",
    "Boolean literals represent the truth values True and False. They are used to express logical conditions."
   ]
  },
  {
   "cell_type": "code",
   "execution_count": 13,
   "id": "a86853dd",
   "metadata": {},
   "outputs": [],
   "source": [
    "is_raining = True\n",
    "is_sunny = False"
   ]
  },
  {
   "cell_type": "code",
   "execution_count": 14,
   "id": "b26849ee",
   "metadata": {},
   "outputs": [
    {
     "name": "stdout",
     "output_type": "stream",
     "text": [
      "True\n",
      "False\n"
     ]
    }
   ],
   "source": [
    "print(is_raining)\n",
    "print(is_sunny)"
   ]
  },
  {
   "cell_type": "code",
   "execution_count": 16,
   "id": "0b2d469d",
   "metadata": {},
   "outputs": [
    {
     "name": "stdout",
     "output_type": "stream",
     "text": [
      "5\n"
     ]
    }
   ],
   "source": [
    "a = True + 4 # True mean 1 in python so implecite type conversion here \n",
    "print(a)"
   ]
  },
  {
   "cell_type": "markdown",
   "id": "7fe2f648",
   "metadata": {},
   "source": [
    "### 4. None Literal / Special Literal\n",
    "The None literal represents the absence of a value or a null value. It is often used to indicate the absence of a valid result or uninitialized variables"
   ]
  },
  {
   "cell_type": "code",
   "execution_count": 17,
   "id": "140daccb",
   "metadata": {},
   "outputs": [],
   "source": [
    "result = None"
   ]
  },
  {
   "cell_type": "code",
   "execution_count": 21,
   "id": "377463a3",
   "metadata": {},
   "outputs": [
    {
     "name": "stdout",
     "output_type": "stream",
     "text": [
      "None\n"
     ]
    }
   ],
   "source": [
    "print(result)"
   ]
  },
  {
   "cell_type": "markdown",
   "id": "02d2d44b",
   "metadata": {},
   "source": [
    "* There are other types of literals as well, such as list, dictinory, tuple literals, set literals, and more. Literals provide a convenient way to express values directly in your code without the need for complex expressions or calculations"
   ]
  },
  {
   "cell_type": "code",
   "execution_count": null,
   "id": "05e6115c",
   "metadata": {},
   "outputs": [],
   "source": []
  }
 ],
 "metadata": {
  "kernelspec": {
   "display_name": "Python 3",
   "language": "python",
   "name": "python3"
  },
  "language_info": {
   "codemirror_mode": {
    "name": "ipython",
    "version": 3
   },
   "file_extension": ".py",
   "mimetype": "text/x-python",
   "name": "python",
   "nbconvert_exporter": "python",
   "pygments_lexer": "ipython3",
   "version": "3.8.8"
  }
 },
 "nbformat": 4,
 "nbformat_minor": 5
}
