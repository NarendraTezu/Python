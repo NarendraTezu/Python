{
 "cells": [
  {
   "cell_type": "markdown",
   "id": "5ea8839f",
   "metadata": {},
   "source": [
    "## Sets\n",
    "* sets do not allow duplicate \n",
    "* sets have no index so slicing not possible\n",
    "* set do not allow mutable data type\n",
    "* Sets itself is a mutable data type\n",
    "* set is mutable it's mean sets can't have sets as element because sets element is immutable so 2D, 3D sets not possible\n",
    "* sets not fallow indexing fallow hashing "
   ]
  },
  {
   "cell_type": "code",
   "execution_count": 3,
   "id": "716aba5d",
   "metadata": {},
   "outputs": [
    {
     "name": "stdout",
     "output_type": "stream",
     "text": [
      "{1, 2, 3}\n"
     ]
    },
    {
     "data": {
      "text/plain": [
       "set"
      ]
     },
     "execution_count": 3,
     "metadata": {},
     "output_type": "execute_result"
    }
   ],
   "source": [
    "# creating set \n",
    "\n",
    "s1 = {1,2,3}\n",
    "print(s1)\n",
    "type(s1)"
   ]
  },
  {
   "cell_type": "code",
   "execution_count": 5,
   "id": "4464659f",
   "metadata": {},
   "outputs": [
    {
     "name": "stdout",
     "output_type": "stream",
     "text": [
      "{}\n",
      "<class 'dict'>\n",
      "set()\n",
      "<class 'set'>\n"
     ]
    }
   ],
   "source": [
    "# creating emply set is tricky\n",
    "\n",
    "s2 = {}\n",
    "\n",
    "print(s2)\n",
    "print(type(s2))\n",
    "\n",
    "s3 = set()\n",
    "print(s3)\n",
    "print(type(s3))"
   ]
  },
  {
   "cell_type": "code",
   "execution_count": 6,
   "id": "fd00eb7b",
   "metadata": {},
   "outputs": [
    {
     "name": "stdout",
     "output_type": "stream",
     "text": [
      "{2, 3, 4, 5, 6}\n",
      "<class 'set'>\n"
     ]
    }
   ],
   "source": [
    "# creating homogenious sets\n",
    "\n",
    "s4 = {2,3,4,5,6}\n",
    "print(s4)\n",
    "print(type(s4))"
   ]
  },
  {
   "cell_type": "code",
   "execution_count": 7,
   "id": "3049340a",
   "metadata": {},
   "outputs": [
    {
     "name": "stdout",
     "output_type": "stream",
     "text": [
      "{2, 3, 4.5, 4, 'Narendra'}\n",
      "<class 'set'>\n"
     ]
    }
   ],
   "source": [
    "# creating hetrogenous set \n",
    "\n",
    "s5 = {2,3,4,\"Narendra\",4.5}\n",
    "print(s5)\n",
    "print(type(s5))"
   ]
  },
  {
   "cell_type": "code",
   "execution_count": 8,
   "id": "cce9e3b1",
   "metadata": {},
   "outputs": [
    {
     "name": "stdout",
     "output_type": "stream",
     "text": [
      "{1, 2, 3, 4, 7}\n"
     ]
    }
   ],
   "source": [
    "# sets does not allow duplicate\n",
    "\n",
    "s6 = {1,2,3,4,3,4,1,2,7}\n",
    "print(s6)"
   ]
  },
  {
   "cell_type": "code",
   "execution_count": 10,
   "id": "27e833b5",
   "metadata": {},
   "outputs": [
    {
     "ename": "TypeError",
     "evalue": "unhashable type: 'list'",
     "output_type": "error",
     "traceback": [
      "\u001b[0;31m---------------------------------------------------------------------------\u001b[0m",
      "\u001b[0;31mTypeError\u001b[0m                                 Traceback (most recent call last)",
      "Cell \u001b[0;32mIn [10], line 3\u001b[0m\n\u001b[1;32m      1\u001b[0m \u001b[38;5;66;03m# sets don't allow mutable data type we get error TypeError: unhashable type: 'list'\u001b[39;00m\n\u001b[0;32m----> 3\u001b[0m s7 \u001b[38;5;241m=\u001b[39m {\u001b[38;5;241m1\u001b[39m,\u001b[38;5;241m2\u001b[39m,\u001b[38;5;241m3\u001b[39m,\u001b[38;5;241m4\u001b[39m,[\u001b[38;5;241m1\u001b[39m,\u001b[38;5;241m2\u001b[39m,\u001b[38;5;241m3\u001b[39m,\u001b[38;5;241m4\u001b[39m,\u001b[38;5;241m5\u001b[39m,\u001b[38;5;241m6\u001b[39m,\u001b[38;5;241m7\u001b[39m]}\n\u001b[1;32m      4\u001b[0m \u001b[38;5;28mprint\u001b[39m(s7)\n\u001b[1;32m      5\u001b[0m \u001b[38;5;28mprint\u001b[39m(\u001b[38;5;28mtype\u001b[39m(s7))\n",
      "\u001b[0;31mTypeError\u001b[0m: unhashable type: 'list'"
     ]
    }
   ],
   "source": [
    "# sets don't allow mutable data type we get error TypeError: unhashable type: 'list'\n",
    "\n",
    "s7 = {1,2,3,4,[1,2,3,4,5,6,7]}\n",
    "print(s7)\n",
    "print(type(s7))"
   ]
  },
  {
   "cell_type": "code",
   "execution_count": 11,
   "id": "1263e1f3",
   "metadata": {},
   "outputs": [
    {
     "name": "stdout",
     "output_type": "stream",
     "text": [
      "{1, 2, 3, 4, (1, 2, 3, 4, 5, 6, 7)}\n",
      "<class 'set'>\n"
     ]
    }
   ],
   "source": [
    "# sets allow immutable itterable data type as one element\n",
    "\n",
    "s8 = {1,2,3,4,(1,2,3,4,5,6,7)}\n",
    "print(s8)\n",
    "print(type(s8))"
   ]
  },
  {
   "cell_type": "code",
   "execution_count": 12,
   "id": "92e0ccab",
   "metadata": {},
   "outputs": [
    {
     "data": {
      "text/plain": [
       "{(6, 7, 8), 1, 2, 3, 4, 'Narendra'}"
      ]
     },
     "execution_count": 12,
     "metadata": {},
     "output_type": "execute_result"
    }
   ],
   "source": [
    "# sets not fallow indexing its fallow hashing \n",
    "\n",
    "set1 = {1,2,3,4,\"Narendra\", (6,7,8)}\n",
    "set1"
   ]
  },
  {
   "cell_type": "code",
   "execution_count": 13,
   "id": "81adb0df",
   "metadata": {},
   "outputs": [
    {
     "ename": "TypeError",
     "evalue": "unhashable type: 'set'",
     "output_type": "error",
     "traceback": [
      "\u001b[0;31m---------------------------------------------------------------------------\u001b[0m",
      "\u001b[0;31mTypeError\u001b[0m                                 Traceback (most recent call last)",
      "Cell \u001b[0;32mIn [13], line 2\u001b[0m\n\u001b[1;32m      1\u001b[0m \u001b[38;5;66;03m# 2D sets are not possible \u001b[39;00m\n\u001b[0;32m----> 2\u001b[0m set2 \u001b[38;5;241m=\u001b[39m {{\u001b[38;5;241m1\u001b[39m,\u001b[38;5;241m2\u001b[39m,\u001b[38;5;241m3\u001b[39m},{\u001b[38;5;241m4\u001b[39m,\u001b[38;5;241m5\u001b[39m,\u001b[38;5;241m6\u001b[39m}}\n\u001b[1;32m      3\u001b[0m set2\n",
      "\u001b[0;31mTypeError\u001b[0m: unhashable type: 'set'"
     ]
    }
   ],
   "source": [
    "# 2D sets are not possible so we get TypeError: unhashable type: 'set'\n",
    "set2 = {{1,2,3},{4,5,6}}\n",
    "set2"
   ]
  },
  {
   "cell_type": "code",
   "execution_count": 14,
   "id": "66bac7dc",
   "metadata": {},
   "outputs": [],
   "source": [
    "# Accessing items from set "
   ]
  },
  {
   "cell_type": "code",
   "execution_count": 16,
   "id": "b6bcddf8",
   "metadata": {},
   "outputs": [
    {
     "ename": "TypeError",
     "evalue": "'set' object is not subscriptable",
     "output_type": "error",
     "traceback": [
      "\u001b[0;31m---------------------------------------------------------------------------\u001b[0m",
      "\u001b[0;31mTypeError\u001b[0m                                 Traceback (most recent call last)",
      "Cell \u001b[0;32mIn [16], line 1\u001b[0m\n\u001b[0;32m----> 1\u001b[0m \u001b[43mset1\u001b[49m\u001b[43m[\u001b[49m\u001b[38;5;241;43m0\u001b[39;49m\u001b[43m]\u001b[49m \u001b[38;5;66;03m# will get error 'set' object is not subscriptable\u001b[39;00m\n",
      "\u001b[0;31mTypeError\u001b[0m: 'set' object is not subscriptable"
     ]
    }
   ],
   "source": [
    "set1[0] # will get error 'set' object is not subscriptable\n"
   ]
  },
  {
   "cell_type": "code",
   "execution_count": 25,
   "id": "0a45f868",
   "metadata": {},
   "outputs": [],
   "source": [
    "# not able access items in sets\n",
    "# not edit items in sets\n",
    "# set is mutable so we can add items its mean we can modify set at same memory location"
   ]
  },
  {
   "cell_type": "code",
   "execution_count": 33,
   "id": "4d6d3ef2",
   "metadata": {},
   "outputs": [
    {
     "name": "stdout",
     "output_type": "stream",
     "text": [
      "139954597758784\n"
     ]
    }
   ],
   "source": [
    "set3 = {1,2,3,4}\n",
    "print(id(set3))\n",
    "set3.add(6)"
   ]
  },
  {
   "cell_type": "code",
   "execution_count": 34,
   "id": "1ba77c8b",
   "metadata": {},
   "outputs": [
    {
     "name": "stdout",
     "output_type": "stream",
     "text": [
      "139954597758784\n"
     ]
    }
   ],
   "source": [
    "set3  # its mean we can add element in set and it should be non mutable data type\n",
    "\n",
    "print(id(set3))"
   ]
  },
  {
   "cell_type": "code",
   "execution_count": 35,
   "id": "02839b3e",
   "metadata": {},
   "outputs": [
    {
     "ename": "TypeError",
     "evalue": "'set' object doesn't support item deletion",
     "output_type": "error",
     "traceback": [
      "\u001b[0;31m---------------------------------------------------------------------------\u001b[0m",
      "\u001b[0;31mTypeError\u001b[0m                                 Traceback (most recent call last)",
      "Cell \u001b[0;32mIn [35], line 3\u001b[0m\n\u001b[1;32m      1\u001b[0m \u001b[38;5;66;03m# delet remove and pop in set \u001b[39;00m\n\u001b[1;32m      2\u001b[0m \u001b[38;5;66;03m# del will not work for item/items in sets\u001b[39;00m\n\u001b[0;32m----> 3\u001b[0m \u001b[38;5;28;01mdel\u001b[39;00m set3[\u001b[38;5;241m0\u001b[39m]\n",
      "\u001b[0;31mTypeError\u001b[0m: 'set' object doesn't support item deletion"
     ]
    }
   ],
   "source": [
    "# delet remove and pop in set \n",
    "# del will not work for item/items in sets\n",
    "del set3[0]"
   ]
  },
  {
   "cell_type": "code",
   "execution_count": 36,
   "id": "48953539",
   "metadata": {},
   "outputs": [
    {
     "name": "stdout",
     "output_type": "stream",
     "text": [
      "{1, 2, 3, 4, 6}\n",
      "139954597758784\n",
      "{1, 2, 4, 6}\n",
      "139954597758784\n"
     ]
    }
   ],
   "source": [
    "# remove function work in set and it will remove elements from same set\n",
    "\n",
    "print(set3)\n",
    "print(id(set3))\n",
    "set3.remove(3)\n",
    "print(set3)\n",
    "print(id(set3))"
   ]
  },
  {
   "cell_type": "code",
   "execution_count": 38,
   "id": "a62d6287",
   "metadata": {},
   "outputs": [
    {
     "name": "stdout",
     "output_type": "stream",
     "text": [
      "{1, 2, 4, 6}\n",
      "139954597758784\n",
      "{2, 4, 6}\n",
      "139954597758784\n"
     ]
    }
   ],
   "source": [
    "# pop function work in set and it will remove elements from same set based on hashindex\n",
    "\n",
    "print(set3)\n",
    "print(id(set3))\n",
    "set3.pop() # it will remove last element from the set but based on hash index\n",
    "print(set3)\n",
    "print(id(set3))"
   ]
  },
  {
   "cell_type": "code",
   "execution_count": 39,
   "id": "491d9edf",
   "metadata": {},
   "outputs": [],
   "source": [
    "# Set Operations"
   ]
  },
  {
   "cell_type": "code",
   "execution_count": 40,
   "id": "dd2c8955",
   "metadata": {},
   "outputs": [],
   "source": [
    "s1 = {1,2,3,4,5,6}\n",
    "s2 = {4,5,6,7,8,9,0}"
   ]
  },
  {
   "cell_type": "code",
   "execution_count": 42,
   "id": "e4d23fbe",
   "metadata": {},
   "outputs": [
    {
     "ename": "TypeError",
     "evalue": "unsupported operand type(s) for +: 'set' and 'set'",
     "output_type": "error",
     "traceback": [
      "\u001b[0;31m---------------------------------------------------------------------------\u001b[0m",
      "\u001b[0;31mTypeError\u001b[0m                                 Traceback (most recent call last)",
      "Cell \u001b[0;32mIn [42], line 2\u001b[0m\n\u001b[1;32m      1\u001b[0m \u001b[38;5;66;03m# sets not able to concatnite getting erroe unsupported operand type(s) for +: 'set' and 'set'\u001b[39;00m\n\u001b[0;32m----> 2\u001b[0m \u001b[43ms1\u001b[49m\u001b[38;5;241;43m+\u001b[39;49m\u001b[43ms2\u001b[49m\n",
      "\u001b[0;31mTypeError\u001b[0m: unsupported operand type(s) for +: 'set' and 'set'"
     ]
    }
   ],
   "source": [
    "# sets not able to concatnite getting erroe unsupported operand type(s) for +: 'set' and 'set'\n",
    "s1+s2"
   ]
  },
  {
   "cell_type": "code",
   "execution_count": 44,
   "id": "36418a24",
   "metadata": {},
   "outputs": [
    {
     "ename": "TypeError",
     "evalue": "unsupported operand type(s) for *: 'set' and 'set'",
     "output_type": "error",
     "traceback": [
      "\u001b[0;31m---------------------------------------------------------------------------\u001b[0m",
      "\u001b[0;31mTypeError\u001b[0m                                 Traceback (most recent call last)",
      "Cell \u001b[0;32mIn [44], line 2\u001b[0m\n\u001b[1;32m      1\u001b[0m \u001b[38;5;66;03m# sets not able to multiply getting erroe unsupported operand type(s) for *: 'set' and 'set'\u001b[39;00m\n\u001b[0;32m----> 2\u001b[0m \u001b[43ms1\u001b[49m\u001b[38;5;241;43m*\u001b[39;49m\u001b[43ms2\u001b[49m\n",
      "\u001b[0;31mTypeError\u001b[0m: unsupported operand type(s) for *: 'set' and 'set'"
     ]
    }
   ],
   "source": [
    "# sets not able to multiply getting erroe unsupported operand type(s) for *: 'set' and 'set'\n",
    "s1*s2"
   ]
  },
  {
   "cell_type": "code",
   "execution_count": 45,
   "id": "76112197",
   "metadata": {},
   "outputs": [
    {
     "name": "stdout",
     "output_type": "stream",
     "text": [
      "1\n",
      "2\n",
      "3\n",
      "4\n",
      "5\n",
      "6\n"
     ]
    }
   ],
   "source": [
    "# loop will work on sets\n",
    "\n",
    "for i in s1:\n",
    "    print(i)"
   ]
  },
  {
   "cell_type": "code",
   "execution_count": 46,
   "id": "61b88df7",
   "metadata": {},
   "outputs": [
    {
     "data": {
      "text/plain": [
       "True"
      ]
     },
     "execution_count": 46,
     "metadata": {},
     "output_type": "execute_result"
    }
   ],
   "source": [
    "1 in s1 # membership oprator supported by set"
   ]
  },
  {
   "cell_type": "code",
   "execution_count": 47,
   "id": "e8418efc",
   "metadata": {},
   "outputs": [
    {
     "data": {
      "text/plain": [
       "6"
      ]
     },
     "execution_count": 47,
     "metadata": {},
     "output_type": "execute_result"
    }
   ],
   "source": [
    "# len function will work for set\n",
    "len(s1)"
   ]
  },
  {
   "cell_type": "code",
   "execution_count": 48,
   "id": "7cb30626",
   "metadata": {},
   "outputs": [
    {
     "data": {
      "text/plain": [
       "1"
      ]
     },
     "execution_count": 48,
     "metadata": {},
     "output_type": "execute_result"
    }
   ],
   "source": [
    "min(s1)"
   ]
  },
  {
   "cell_type": "code",
   "execution_count": 49,
   "id": "b6ad4271",
   "metadata": {},
   "outputs": [
    {
     "data": {
      "text/plain": [
       "6"
      ]
     },
     "execution_count": 49,
     "metadata": {},
     "output_type": "execute_result"
    }
   ],
   "source": [
    "max(s1)"
   ]
  },
  {
   "cell_type": "code",
   "execution_count": 50,
   "id": "7635ac98",
   "metadata": {},
   "outputs": [
    {
     "data": {
      "text/plain": [
       "21"
      ]
     },
     "execution_count": 50,
     "metadata": {},
     "output_type": "execute_result"
    }
   ],
   "source": [
    "sum(s1)"
   ]
  },
  {
   "cell_type": "code",
   "execution_count": 51,
   "id": "0603c96f",
   "metadata": {},
   "outputs": [
    {
     "data": {
      "text/plain": [
       "[1, 2, 3, 4, 5, 6]"
      ]
     },
     "execution_count": 51,
     "metadata": {},
     "output_type": "execute_result"
    }
   ],
   "source": [
    "sorted(s1)"
   ]
  },
  {
   "cell_type": "code",
   "execution_count": 53,
   "id": "0f9b9747",
   "metadata": {},
   "outputs": [
    {
     "data": {
      "text/plain": [
       "[6, 5, 4, 3, 2, 1]"
      ]
     },
     "execution_count": 53,
     "metadata": {},
     "output_type": "execute_result"
    }
   ],
   "source": [
    "sorted(s1, reverse=True)"
   ]
  },
  {
   "cell_type": "code",
   "execution_count": 54,
   "id": "f5b2c1a3",
   "metadata": {},
   "outputs": [
    {
     "data": {
      "text/plain": [
       "{0, 1, 2, 3, 4, 5, 6, 7, 8, 9}"
      ]
     },
     "execution_count": 54,
     "metadata": {},
     "output_type": "execute_result"
    }
   ],
   "source": [
    "s1.union(s2)"
   ]
  },
  {
   "cell_type": "code",
   "execution_count": 55,
   "id": "71fca339",
   "metadata": {},
   "outputs": [
    {
     "data": {
      "text/plain": [
       "{4, 5, 6}"
      ]
     },
     "execution_count": 55,
     "metadata": {},
     "output_type": "execute_result"
    }
   ],
   "source": [
    "s1.intersection(s2)"
   ]
  },
  {
   "cell_type": "code",
   "execution_count": 56,
   "id": "113e9e31",
   "metadata": {},
   "outputs": [
    {
     "data": {
      "text/plain": [
       "{1, 2, 3}"
      ]
     },
     "execution_count": 56,
     "metadata": {},
     "output_type": "execute_result"
    }
   ],
   "source": [
    "s1.difference(s2)"
   ]
  },
  {
   "cell_type": "code",
   "execution_count": 57,
   "id": "83380df7",
   "metadata": {},
   "outputs": [
    {
     "data": {
      "text/plain": [
       "{0, 1, 2, 3, 7, 8, 9}"
      ]
     },
     "execution_count": 57,
     "metadata": {},
     "output_type": "execute_result"
    }
   ],
   "source": [
    "s1.symmetric_difference(s2)"
   ]
  },
  {
   "cell_type": "code",
   "execution_count": 58,
   "id": "783d863a",
   "metadata": {},
   "outputs": [
    {
     "data": {
      "text/plain": [
       "False"
      ]
     },
     "execution_count": 58,
     "metadata": {},
     "output_type": "execute_result"
    }
   ],
   "source": [
    "s1.isdisjoint(s2)"
   ]
  },
  {
   "cell_type": "code",
   "execution_count": 60,
   "id": "587f6c47",
   "metadata": {},
   "outputs": [
    {
     "data": {
      "text/plain": [
       "False"
      ]
     },
     "execution_count": 60,
     "metadata": {},
     "output_type": "execute_result"
    }
   ],
   "source": [
    "s1.issubset(s2)"
   ]
  },
  {
   "cell_type": "code",
   "execution_count": 61,
   "id": "10a455ab",
   "metadata": {},
   "outputs": [
    {
     "data": {
      "text/plain": [
       "False"
      ]
     },
     "execution_count": 61,
     "metadata": {},
     "output_type": "execute_result"
    }
   ],
   "source": [
    "s1.issuperset(s2)"
   ]
  },
  {
   "cell_type": "code",
   "execution_count": 62,
   "id": "0c2842ea",
   "metadata": {},
   "outputs": [],
   "source": [
    "s2.clear()"
   ]
  },
  {
   "cell_type": "code",
   "execution_count": null,
   "id": "dcee30b6",
   "metadata": {},
   "outputs": [],
   "source": []
  }
 ],
 "metadata": {
  "kernelspec": {
   "display_name": "Python 3",
   "language": "python",
   "name": "python3"
  },
  "language_info": {
   "codemirror_mode": {
    "name": "ipython",
    "version": 3
   },
   "file_extension": ".py",
   "mimetype": "text/x-python",
   "name": "python",
   "nbconvert_exporter": "python",
   "pygments_lexer": "ipython3",
   "version": "3.8.8"
  }
 },
 "nbformat": 4,
 "nbformat_minor": 5
}
