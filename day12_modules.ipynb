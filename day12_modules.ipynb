{
 "cells": [
  {
   "cell_type": "markdown",
   "id": "c132ed82",
   "metadata": {},
   "source": [
    "### Modules in Python\n",
    "A module typically consists of Python code that defines functions, classes, and variables related to a specific purpose or functionality. These modules can be imported into other Python programs or scripts to make use of the code they contain.\n",
    "\n",
    "Examples\n",
    "* math\n",
    "* random\n",
    "* os\n",
    "* time"
   ]
  },
  {
   "cell_type": "code",
   "execution_count": 1,
   "id": "e6558cd1",
   "metadata": {},
   "outputs": [],
   "source": [
    " import math"
   ]
  },
  {
   "cell_type": "code",
   "execution_count": 2,
   "id": "58d770ae",
   "metadata": {},
   "outputs": [
    {
     "data": {
      "text/plain": [
       "120"
      ]
     },
     "execution_count": 2,
     "metadata": {},
     "output_type": "execute_result"
    }
   ],
   "source": [
    "math.factorial(5)"
   ]
  },
  {
   "cell_type": "code",
   "execution_count": 3,
   "id": "76a5167b",
   "metadata": {},
   "outputs": [
    {
     "data": {
      "text/plain": [
       "4.0"
      ]
     },
     "execution_count": 3,
     "metadata": {},
     "output_type": "execute_result"
    }
   ],
   "source": [
    "math.sqrt(16)"
   ]
  },
  {
   "cell_type": "code",
   "execution_count": 4,
   "id": "31166e9f",
   "metadata": {},
   "outputs": [],
   "source": [
    "import random"
   ]
  },
  {
   "cell_type": "code",
   "execution_count": 5,
   "id": "8d32195f",
   "metadata": {},
   "outputs": [
    {
     "data": {
      "text/plain": [
       "72"
      ]
     },
     "execution_count": 5,
     "metadata": {},
     "output_type": "execute_result"
    }
   ],
   "source": [
    "random.randint(1,100)"
   ]
  },
  {
   "cell_type": "code",
   "execution_count": 9,
   "id": "18214320",
   "metadata": {},
   "outputs": [
    {
     "data": {
      "text/plain": [
       "[2, 3, 5, 4, 1]"
      ]
     },
     "execution_count": 9,
     "metadata": {},
     "output_type": "execute_result"
    }
   ],
   "source": [
    "a = [1,2,3,4,5]\n",
    "random.shuffle(a)\n",
    "a"
   ]
  },
  {
   "cell_type": "code",
   "execution_count": 10,
   "id": "af393d20",
   "metadata": {},
   "outputs": [],
   "source": [
    "import time"
   ]
  },
  {
   "cell_type": "code",
   "execution_count": 11,
   "id": "e288c47c",
   "metadata": {},
   "outputs": [
    {
     "data": {
      "text/plain": [
       "1686139596.4736102"
      ]
     },
     "execution_count": 11,
     "metadata": {},
     "output_type": "execute_result"
    }
   ],
   "source": [
    "time.time()"
   ]
  },
  {
   "cell_type": "code",
   "execution_count": 12,
   "id": "40333c44",
   "metadata": {},
   "outputs": [
    {
     "data": {
      "text/plain": [
       "'Wed Jun  7 17:48:50 2023'"
      ]
     },
     "execution_count": 12,
     "metadata": {},
     "output_type": "execute_result"
    }
   ],
   "source": [
    "time.ctime()"
   ]
  },
  {
   "cell_type": "code",
   "execution_count": 14,
   "id": "05479f19",
   "metadata": {},
   "outputs": [
    {
     "name": "stdout",
     "output_type": "stream",
     "text": [
      "Hello Narendra\n",
      "How are you?\n"
     ]
    }
   ],
   "source": [
    "print(\"Hello Narendra\")\n",
    "time.sleep(2)\n",
    "print(\"How are you?\")"
   ]
  },
  {
   "cell_type": "code",
   "execution_count": 15,
   "id": "a7320c87",
   "metadata": {},
   "outputs": [],
   "source": [
    "import os"
   ]
  },
  {
   "cell_type": "code",
   "execution_count": 16,
   "id": "14457c60",
   "metadata": {},
   "outputs": [
    {
     "data": {
      "text/plain": [
       "'/home/narendra-iitj/SelfStudy/Python'"
      ]
     },
     "execution_count": 16,
     "metadata": {},
     "output_type": "execute_result"
    }
   ],
   "source": [
    "os.getcwd()"
   ]
  },
  {
   "cell_type": "code",
   "execution_count": 17,
   "id": "57df3a7f",
   "metadata": {},
   "outputs": [
    {
     "data": {
      "text/plain": [
       "['valid_pin.py',\n",
       " 'day3_variables.ipynb',\n",
       " 'day8_type_Operators .ipynb',\n",
       " 'day11_built-in_function.ipynb',\n",
       " 'vowels_consonants.py',\n",
       " 'day12_modules.ipynb',\n",
       " 'even_no_sum.py',\n",
       " 'day2_data_types.ipynb',\n",
       " 'day6_type_conversion.ipynb',\n",
       " '.ipynb_checkpoints',\n",
       " 'day7_type_literals.ipynb',\n",
       " 'day4_keywords.ipynb',\n",
       " 'README.md',\n",
       " 'day10_loops.ipynb',\n",
       " 'day9_decision_control.ipynb',\n",
       " '.git',\n",
       " 'day5_user_input.ipynb',\n",
       " 'day1_print_function.ipynb',\n",
       " 'positive_negative.py',\n",
       " 'bigger.py',\n",
       " 'odd_even.py',\n",
       " 'sumation.py',\n",
       " 'rm_duplicate_char.py']"
      ]
     },
     "execution_count": 17,
     "metadata": {},
     "output_type": "execute_result"
    }
   ],
   "source": [
    "os.listdir()"
   ]
  },
  {
   "cell_type": "code",
   "execution_count": 18,
   "id": "46fb5afc",
   "metadata": {},
   "outputs": [
    {
     "name": "stdout",
     "output_type": "stream",
     "text": [
      "Hello World\n"
     ]
    }
   ],
   "source": [
    "#slicing \n",
    "\n",
    "c = \"Hello World\"\n",
    "\n",
    "print(c)"
   ]
  },
  {
   "cell_type": "code",
   "execution_count": 19,
   "id": "b79c8e1b",
   "metadata": {},
   "outputs": [
    {
     "name": "stdout",
     "output_type": "stream",
     "text": [
      "lo World\n"
     ]
    }
   ],
   "source": [
    "print(c[3:])"
   ]
  },
  {
   "cell_type": "code",
   "execution_count": 24,
   "id": "b9542ce2",
   "metadata": {},
   "outputs": [
    {
     "name": "stdout",
     "output_type": "stream",
     "text": [
      "Hello Worl\n"
     ]
    }
   ],
   "source": [
    "print(c[:-1])"
   ]
  },
  {
   "cell_type": "code",
   "execution_count": 25,
   "id": "8a7e8351",
   "metadata": {},
   "outputs": [
    {
     "name": "stdout",
     "output_type": "stream",
     "text": [
      "d\n"
     ]
    }
   ],
   "source": [
    "print(c[-1:])"
   ]
  },
  {
   "cell_type": "code",
   "execution_count": 26,
   "id": "22d69af3",
   "metadata": {},
   "outputs": [
    {
     "data": {
      "text/plain": [
       "'Hello World'"
      ]
     },
     "execution_count": 26,
     "metadata": {},
     "output_type": "execute_result"
    }
   ],
   "source": [
    "c[::]"
   ]
  },
  {
   "cell_type": "code",
   "execution_count": 27,
   "id": "607a64ad",
   "metadata": {},
   "outputs": [
    {
     "data": {
      "text/plain": [
       "'HloWrd'"
      ]
     },
     "execution_count": 27,
     "metadata": {},
     "output_type": "execute_result"
    }
   ],
   "source": [
    "c[::2]"
   ]
  },
  {
   "cell_type": "code",
   "execution_count": 29,
   "id": "96b7738b",
   "metadata": {},
   "outputs": [
    {
     "name": "stdout",
     "output_type": "stream",
     "text": [
      "dlroW olleH\n"
     ]
    }
   ],
   "source": [
    "print(c[::-1])"
   ]
  },
  {
   "cell_type": "code",
   "execution_count": null,
   "id": "d0f90fae",
   "metadata": {},
   "outputs": [],
   "source": []
  }
 ],
 "metadata": {
  "kernelspec": {
   "display_name": "Python 3",
   "language": "python",
   "name": "python3"
  },
  "language_info": {
   "codemirror_mode": {
    "name": "ipython",
    "version": 3
   },
   "file_extension": ".py",
   "mimetype": "text/x-python",
   "name": "python",
   "nbconvert_exporter": "python",
   "pygments_lexer": "ipython3",
   "version": "3.8.8"
  }
 },
 "nbformat": 4,
 "nbformat_minor": 5
}
