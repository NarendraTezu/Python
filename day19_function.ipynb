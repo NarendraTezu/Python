{
 "cells": [
  {
   "cell_type": "markdown",
   "id": "ded57c03",
   "metadata": {},
   "source": [
    "### Functions\n",
    "* Functions are block of code which can used by developer in their code just by calling the function, function will take input and give outpur"
   ]
  },
  {
   "cell_type": "markdown",
   "id": "19b35809",
   "metadata": {},
   "source": [
    "### Function abstraction \n",
    "* we don't know the code we know only the working process"
   ]
  },
  {
   "cell_type": "markdown",
   "id": "0786cba1",
   "metadata": {},
   "source": [
    "### Function Decomposition\n",
    "* Integrate the many small function to make big application is called function decompositions"
   ]
  },
  {
   "cell_type": "markdown",
   "id": "d8e9772e",
   "metadata": {},
   "source": [
    "### Component of function\n",
    "* def keyword for defining a function\n",
    "* function name it should be fallow the python identifiers proporty\n",
    "* function argument and function ending :\n",
    "* function comment for making more readibility of the code\n",
    "* function body where actual code will present\n",
    "* return keywords for the function what will return \n",
    "* function call"
   ]
  },
  {
   "cell_type": "code",
   "execution_count": 8,
   "id": "f26bcc67",
   "metadata": {},
   "outputs": [
    {
     "name": "stdout",
     "output_type": "stream",
     "text": [
      "Enter your number : 8\n"
     ]
    },
    {
     "data": {
      "text/plain": [
       "'even'"
      ]
     },
     "execution_count": 8,
     "metadata": {},
     "output_type": "execute_result"
    }
   ],
   "source": [
    "# create a function for check odd or even \n",
    "\n",
    "def odd_even(num):\n",
    "    \"\"\"\n",
    "    This function tells us given number is odd or even\n",
    "    input - any valid integer\n",
    "    output - odd/even\n",
    "    Created by - Narendra Yadav\n",
    "    last edited : 13 Jan 2023\n",
    "    \"\"\"\n",
    "    if type(number) == int:\n",
    "        if number % 2 == 0:\n",
    "            return \"even\"\n",
    "        else:\n",
    "            return \"odd\"\n",
    "    else:\n",
    "        return(\"wrong input please integer as input\")\n",
    "    \n",
    "    \n",
    "number = int(input(\"Enter your number : \"))\n",
    "\n",
    "odd_even(number)"
   ]
  },
  {
   "cell_type": "code",
   "execution_count": 10,
   "id": "03c8cab9",
   "metadata": {},
   "outputs": [
    {
     "data": {
      "text/plain": [
       "'\\n    This function tells us given number is odd or even\\n    input - any valid integer\\n    output - odd/even\\n    Created by - Narendra Yadav\\n    last edited : 13 Jan 2023\\n    '"
      ]
     },
     "execution_count": 10,
     "metadata": {},
     "output_type": "execute_result"
    }
   ],
   "source": [
    "# how to print docmentation of a function?\n",
    "odd_even.__doc__"
   ]
  },
  {
   "cell_type": "code",
   "execution_count": 11,
   "id": "2e7c7684",
   "metadata": {},
   "outputs": [
    {
     "name": "stdout",
     "output_type": "stream",
     "text": [
      "Enter your number : 4\n",
      "even\n"
     ]
    }
   ],
   "source": [
    "# here is no return statement its mean function will return None bydefault \n",
    "\n",
    "# create a function for check odd or even \n",
    "\n",
    "def odd_even(num):\n",
    "    \"\"\"\n",
    "    This function tells us given number is odd or even\n",
    "    input - any valid integer\n",
    "    output - odd/even\n",
    "    Created by - Narendra Yadav\n",
    "    last edited : 13 Jan 2023\n",
    "    \"\"\"\n",
    "    if type(number) == int:\n",
    "        if number % 2 == 0:\n",
    "            print(\"even\")\n",
    "        else:\n",
    "            print(\"odd\")\n",
    "    else:\n",
    "        return(\"wrong input please integer as input\")\n",
    "    \n",
    "    \n",
    "number = int(input(\"Enter your number : \"))\n",
    "\n",
    "odd_even(number)"
   ]
  },
  {
   "cell_type": "markdown",
   "id": "d5d002ce",
   "metadata": {},
   "source": [
    "### Parameter Vs Argument in python\n",
    "* Default Arguments\n",
    "* Positional Arguments\n",
    "* Keyword Arguments\n",
    "* Arbitrary Arguments"
   ]
  },
  {
   "cell_type": "code",
   "execution_count": 13,
   "id": "0a8b67f4",
   "metadata": {},
   "outputs": [],
   "source": [
    "def power(a,b):\n",
    "    return a**b   "
   ]
  },
  {
   "cell_type": "code",
   "execution_count": 14,
   "id": "98dcc580",
   "metadata": {},
   "outputs": [
    {
     "data": {
      "text/plain": [
       "8"
      ]
     },
     "execution_count": 14,
     "metadata": {},
     "output_type": "execute_result"
    }
   ],
   "source": [
    "power(2,3)"
   ]
  },
  {
   "cell_type": "code",
   "execution_count": null,
   "id": "58b0a8eb",
   "metadata": {},
   "outputs": [],
   "source": []
  }
 ],
 "metadata": {
  "kernelspec": {
   "display_name": "Python 3",
   "language": "python",
   "name": "python3"
  },
  "language_info": {
   "codemirror_mode": {
    "name": "ipython",
    "version": 3
   },
   "file_extension": ".py",
   "mimetype": "text/x-python",
   "name": "python",
   "nbconvert_exporter": "python",
   "pygments_lexer": "ipython3",
   "version": "3.8.8"
  }
 },
 "nbformat": 4,
 "nbformat_minor": 5
}
