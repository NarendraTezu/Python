{
 "cells": [
  {
   "cell_type": "markdown",
   "id": "5d6f7589",
   "metadata": {},
   "source": [
    "### Functions\n",
    "* Functions are block of code which can used by developer in their code just by calling the function, function will take input and give outpur"
   ]
  },
  {
   "cell_type": "markdown",
   "id": "46370a98",
   "metadata": {},
   "source": [
    "### Function abstraction \n",
    "* we don't know the code we know only the working process"
   ]
  },
  {
   "cell_type": "markdown",
   "id": "f56fb8b5",
   "metadata": {},
   "source": [
    "### Function Decomposition\n",
    "* Integrate the many small function to make big application is called function decompositions"
   ]
  },
  {
   "cell_type": "markdown",
   "id": "efe49eb4",
   "metadata": {},
   "source": [
    "### Component of function\n",
    "* def keyword for defining a function\n",
    "* function name it should be fallow the python identifiers proporty\n",
    "* function argument and function ending :\n",
    "* function comment for making more readibility of the code\n",
    "* function body where actual code will present\n",
    "* return keywords for the function what will return \n",
    "* function call"
   ]
  },
  {
   "cell_type": "code",
   "execution_count": 8,
   "id": "72999040",
   "metadata": {},
   "outputs": [
    {
     "name": "stdout",
     "output_type": "stream",
     "text": [
      "Enter your number : 8\n"
     ]
    },
    {
     "data": {
      "text/plain": [
       "'even'"
      ]
     },
     "execution_count": 8,
     "metadata": {},
     "output_type": "execute_result"
    }
   ],
   "source": [
    "# create a function for check odd or even \n",
    "\n",
    "def odd_even(num):\n",
    "    \"\"\"\n",
    "    This function tells us given number is odd or even\n",
    "    input - any valid integer\n",
    "    output - odd/even\n",
    "    Created by - Narendra Yadav\n",
    "    last edited : 13 Jan 2023\n",
    "    \"\"\"\n",
    "    if type(number) == int:\n",
    "        if number % 2 == 0:\n",
    "            return \"even\"\n",
    "        else:\n",
    "            return \"odd\"\n",
    "    else:\n",
    "        return(\"wrong input please integer as input\")\n",
    "    \n",
    "    \n",
    "number = int(input(\"Enter your number : \"))\n",
    "\n",
    "odd_even(number)"
   ]
  },
  {
   "cell_type": "code",
   "execution_count": 10,
   "id": "596979a6",
   "metadata": {},
   "outputs": [
    {
     "data": {
      "text/plain": [
       "'\\n    This function tells us given number is odd or even\\n    input - any valid integer\\n    output - odd/even\\n    Created by - Narendra Yadav\\n    last edited : 13 Jan 2023\\n    '"
      ]
     },
     "execution_count": 10,
     "metadata": {},
     "output_type": "execute_result"
    }
   ],
   "source": [
    "# how to print docmentation of a function?\n",
    "odd_even.__doc__"
   ]
  },
  {
   "cell_type": "code",
   "execution_count": 11,
   "id": "a905f230",
   "metadata": {},
   "outputs": [
    {
     "name": "stdout",
     "output_type": "stream",
     "text": [
      "Enter your number : 4\n",
      "even\n"
     ]
    }
   ],
   "source": [
    "# here is no return statement its mean function will return None bydefault \n",
    "\n",
    "# create a function for check odd or even \n",
    "\n",
    "def odd_even(num):\n",
    "    \"\"\"\n",
    "    This function tells us given number is odd or even\n",
    "    input - any valid integer\n",
    "    output - odd/even\n",
    "    Created by - Narendra Yadav\n",
    "    last edited : 13 Jan 2023\n",
    "    \"\"\"\n",
    "    if type(number) == int:\n",
    "        if number % 2 == 0:\n",
    "            print(\"even\")\n",
    "        else:\n",
    "            print(\"odd\")\n",
    "    else:\n",
    "        return(\"wrong input please integer as input\")\n",
    "    \n",
    "    \n",
    "number = int(input(\"Enter your number : \"))\n",
    "\n",
    "odd_even(number)"
   ]
  },
  {
   "cell_type": "markdown",
   "id": "5535fcd0",
   "metadata": {},
   "source": [
    "### Parameter Vs Argument in python\n",
    "* Default Arguments\n",
    "* Positional Arguments\n",
    "* Keyword Arguments\n",
    "* Arbitrary Arguments"
   ]
  },
  {
   "cell_type": "code",
   "execution_count": 15,
   "id": "3f275183",
   "metadata": {},
   "outputs": [],
   "source": [
    "# Default Arguments\n",
    "def power(a,b): \n",
    "    return a**b   "
   ]
  },
  {
   "cell_type": "code",
   "execution_count": 16,
   "id": "1849a0de",
   "metadata": {},
   "outputs": [
    {
     "data": {
      "text/plain": [
       "8"
      ]
     },
     "execution_count": 16,
     "metadata": {},
     "output_type": "execute_result"
    }
   ],
   "source": [
    "# Default Arguments example\n",
    "power(2,3)"
   ]
  },
  {
   "cell_type": "code",
   "execution_count": 17,
   "id": "a747debc",
   "metadata": {},
   "outputs": [
    {
     "ename": "TypeError",
     "evalue": "power() missing 1 required positional argument: 'b'",
     "output_type": "error",
     "traceback": [
      "\u001b[0;31m---------------------------------------------------------------------------\u001b[0m",
      "\u001b[0;31mTypeError\u001b[0m                                 Traceback (most recent call last)",
      "Cell \u001b[0;32mIn [17], line 1\u001b[0m\n\u001b[0;32m----> 1\u001b[0m \u001b[43mpower\u001b[49m\u001b[43m(\u001b[49m\u001b[38;5;241;43m2\u001b[39;49m\u001b[43m)\u001b[49m\n",
      "\u001b[0;31mTypeError\u001b[0m: power() missing 1 required positional argument: 'b'"
     ]
    }
   ],
   "source": [
    "power(2)"
   ]
  },
  {
   "cell_type": "code",
   "execution_count": 18,
   "id": "ff0074dd",
   "metadata": {},
   "outputs": [
    {
     "data": {
      "text/plain": [
       "8"
      ]
     },
     "execution_count": 18,
     "metadata": {},
     "output_type": "execute_result"
    }
   ],
   "source": [
    "# Positional Arguments\n",
    "def power(a=1,b=1):\n",
    "    return a**b\n",
    "\n",
    "power(2,3)"
   ]
  },
  {
   "cell_type": "code",
   "execution_count": 19,
   "id": "807a0d36",
   "metadata": {},
   "outputs": [
    {
     "data": {
      "text/plain": [
       "9"
      ]
     },
     "execution_count": 19,
     "metadata": {},
     "output_type": "execute_result"
    }
   ],
   "source": [
    "# Keyword Arguments\n",
    "power(b=2,a=3)"
   ]
  },
  {
   "cell_type": "code",
   "execution_count": null,
   "id": "6ccc3f87",
   "metadata": {},
   "outputs": [],
   "source": [
    "11"
   ]
  }
 ],
 "metadata": {
  "kernelspec": {
   "display_name": "Python 3",
   "language": "python",
   "name": "python3"
  },
  "language_info": {
   "codemirror_mode": {
    "name": "ipython",
    "version": 3
   },
   "file_extension": ".py",
   "mimetype": "text/x-python",
   "name": "python",
   "nbconvert_exporter": "python",
   "pygments_lexer": "ipython3",
   "version": "3.8.8"
  }
 },
 "nbformat": 4,
 "nbformat_minor": 5
}
