{
 "cells": [
  {
   "cell_type": "code",
   "execution_count": 4,
   "id": "e9001149",
   "metadata": {},
   "outputs": [
    {
     "name": "stdout",
     "output_type": "stream",
     "text": [
      "12\n"
     ]
    }
   ],
   "source": [
    "# multiply 2 numbers without using * operand \n",
    "\n",
    "def multiply(a,b):\n",
    "    result = 0\n",
    "    for i in range(b):\n",
    "        result = result + a\n",
    "    print(result)\n",
    "    \n",
    "multiply(3,4)"
   ]
  },
  {
   "cell_type": "code",
   "execution_count": 5,
   "id": "514b8b88",
   "metadata": {},
   "outputs": [
    {
     "data": {
      "text/plain": [
       "12"
      ]
     },
     "execution_count": 5,
     "metadata": {},
     "output_type": "execute_result"
    }
   ],
   "source": [
    "# multiply 2 numbers using recursion\n",
    "def mult(a,b):\n",
    "    if b == 1:\n",
    "        return a\n",
    "    else:\n",
    "        return a + mult(a,b-1)\n",
    "    \n",
    "mult(3,4)"
   ]
  },
  {
   "cell_type": "code",
   "execution_count": 7,
   "id": "7785abe8",
   "metadata": {},
   "outputs": [
    {
     "data": {
      "text/plain": [
       "120"
      ]
     },
     "execution_count": 7,
     "metadata": {},
     "output_type": "execute_result"
    }
   ],
   "source": [
    "# find the factorial of number using factorial\n",
    "def fact(number):\n",
    "    if number == 0:\n",
    "        return 0\n",
    "    if number == 1:\n",
    "        return number\n",
    "    else:\n",
    "        return number * fact(number -1)\n",
    "    \n",
    "fact(5)"
   ]
  },
  {
   "cell_type": "code",
   "execution_count": 28,
   "id": "e467ebd8",
   "metadata": {},
   "outputs": [],
   "source": [
    "# find the string is palidrome\n",
    "\n",
    "def palindrome(str1):\n",
    "    if len(str1) <= 1:\n",
    "        print(\"String is palindrome\")\n",
    "    else:\n",
    "        if str1[0] == str1[-1]:\n",
    "            palindrome(str1[1:-1])\n",
    "        else:\n",
    "            print(\"Not a palindrome\")"
   ]
  },
  {
   "cell_type": "code",
   "execution_count": 33,
   "id": "08458e2c",
   "metadata": {},
   "outputs": [
    {
     "name": "stdout",
     "output_type": "stream",
     "text": [
      "String is palindrome\n"
     ]
    }
   ],
   "source": [
    "str1 = \"abba\"\n",
    "palindrome(str1)"
   ]
  },
  {
   "cell_type": "code",
   "execution_count": 38,
   "id": "de6bd4ec",
   "metadata": {},
   "outputs": [
    {
     "data": {
      "text/plain": [
       "13"
      ]
     },
     "execution_count": 38,
     "metadata": {},
     "output_type": "execute_result"
    }
   ],
   "source": [
    "def fib(m):\n",
    "    if m == 0 or m == 1:\n",
    "        return 1\n",
    "    else:\n",
    "        return fib(m-1) + fib(m-2)\n",
    "    \n",
    "    \n",
    "fib(6)"
   ]
  },
  {
   "cell_type": "code",
   "execution_count": 42,
   "id": "6ddbb5d6",
   "metadata": {},
   "outputs": [],
   "source": [
    "def memo(m,d):\n",
    "    if m in d:\n",
    "        return d[m]\n",
    "    else:\n",
    "        d[m] = memo(m-1,d) + memo(m-2,d)\n",
    "        return d[m]"
   ]
  },
  {
   "cell_type": "code",
   "execution_count": 43,
   "id": "085fc00e",
   "metadata": {},
   "outputs": [
    {
     "data": {
      "text/plain": [
       "233"
      ]
     },
     "execution_count": 43,
     "metadata": {},
     "output_type": "execute_result"
    }
   ],
   "source": [
    "d = {0:1,1:1}\n",
    "memo(12,d)"
   ]
  },
  {
   "cell_type": "code",
   "execution_count": null,
   "id": "9a890b3c",
   "metadata": {},
   "outputs": [],
   "source": []
  }
 ],
 "metadata": {
  "kernelspec": {
   "display_name": "Python 3",
   "language": "python",
   "name": "python3"
  },
  "language_info": {
   "codemirror_mode": {
    "name": "ipython",
    "version": 3
   },
   "file_extension": ".py",
   "mimetype": "text/x-python",
   "name": "python",
   "nbconvert_exporter": "python",
   "pygments_lexer": "ipython3",
   "version": "3.8.8"
  }
 },
 "nbformat": 4,
 "nbformat_minor": 5
}
