{
 "cells": [
  {
   "cell_type": "markdown",
   "id": "285402ef",
   "metadata": {},
   "source": [
    "### Built-in function\n",
    "These built-in functions are part of the Python standard library and cover various areas such as data manipulation, mathematical operations, string handling, input/output operations, type conversion, and more."
   ]
  },
  {
   "cell_type": "markdown",
   "id": "1295af90",
   "metadata": {},
   "source": [
    "### 1. print"
   ]
  },
  {
   "cell_type": "code",
   "execution_count": 1,
   "id": "51641020",
   "metadata": {},
   "outputs": [
    {
     "name": "stdout",
     "output_type": "stream",
     "text": [
      "Hello Narendra\n"
     ]
    }
   ],
   "source": [
    "print(\"Hello Narendra\")"
   ]
  },
  {
   "cell_type": "markdown",
   "id": "8decff69",
   "metadata": {},
   "source": [
    "### 2. input "
   ]
  },
  {
   "cell_type": "code",
   "execution_count": 2,
   "id": "f2e967c8",
   "metadata": {},
   "outputs": [
    {
     "name": "stdout",
     "output_type": "stream",
     "text": [
      "Enter you name : Narendra\n",
      "Narendra\n"
     ]
    }
   ],
   "source": [
    "print(input(\"Enter you name : \"))"
   ]
  },
  {
   "cell_type": "markdown",
   "id": "b7c7c927",
   "metadata": {},
   "source": [
    "### 3. type"
   ]
  },
  {
   "cell_type": "code",
   "execution_count": 4,
   "id": "8652202d",
   "metadata": {},
   "outputs": [
    {
     "data": {
      "text/plain": [
       "bool"
      ]
     },
     "execution_count": 4,
     "metadata": {},
     "output_type": "execute_result"
    }
   ],
   "source": [
    "a = True\n",
    "type(a)"
   ]
  },
  {
   "cell_type": "markdown",
   "id": "a1c0c987",
   "metadata": {},
   "source": [
    "### 4. int etc"
   ]
  },
  {
   "cell_type": "code",
   "execution_count": 5,
   "id": "3b7dcb3c",
   "metadata": {},
   "outputs": [
    {
     "data": {
      "text/plain": [
       "4"
      ]
     },
     "execution_count": 5,
     "metadata": {},
     "output_type": "execute_result"
    }
   ],
   "source": [
    "int(4.5)"
   ]
  },
  {
   "cell_type": "markdown",
   "id": "b688bcfe",
   "metadata": {},
   "source": [
    "### 5. abs"
   ]
  },
  {
   "cell_type": "code",
   "execution_count": 7,
   "id": "283041e0",
   "metadata": {},
   "outputs": [
    {
     "name": "stdout",
     "output_type": "stream",
     "text": [
      "12\n"
     ]
    }
   ],
   "source": [
    "print(abs(-12))"
   ]
  },
  {
   "cell_type": "markdown",
   "id": "676e2f2d",
   "metadata": {},
   "source": [
    "### 6. pow"
   ]
  },
  {
   "cell_type": "code",
   "execution_count": 8,
   "id": "83a5682f",
   "metadata": {},
   "outputs": [
    {
     "data": {
      "text/plain": [
       "8"
      ]
     },
     "execution_count": 8,
     "metadata": {},
     "output_type": "execute_result"
    }
   ],
   "source": [
    "pow(2,3)"
   ]
  },
  {
   "cell_type": "markdown",
   "id": "e8fdddd6",
   "metadata": {},
   "source": [
    "### 7. min/max"
   ]
  },
  {
   "cell_type": "code",
   "execution_count": 9,
   "id": "d9090725",
   "metadata": {},
   "outputs": [
    {
     "data": {
      "text/plain": [
       "1"
      ]
     },
     "execution_count": 9,
     "metadata": {},
     "output_type": "execute_result"
    }
   ],
   "source": [
    "min([1,2,3,4,5,6])"
   ]
  },
  {
   "cell_type": "code",
   "execution_count": 14,
   "id": "d993ecff",
   "metadata": {},
   "outputs": [
    {
     "data": {
      "text/plain": [
       "'N'"
      ]
     },
     "execution_count": 14,
     "metadata": {},
     "output_type": "execute_result"
    }
   ],
   "source": [
    "min(\"Narendra\") #giving the N based on ASCII Value"
   ]
  },
  {
   "cell_type": "code",
   "execution_count": 15,
   "id": "0851fa3e",
   "metadata": {},
   "outputs": [
    {
     "data": {
      "text/plain": [
       "'a'"
      ]
     },
     "execution_count": 15,
     "metadata": {},
     "output_type": "execute_result"
    }
   ],
   "source": [
    "min(\"narendra\")  #giving the a based on ASCII Value"
   ]
  },
  {
   "cell_type": "markdown",
   "id": "0281017c",
   "metadata": {},
   "source": [
    "### 8. round"
   ]
  },
  {
   "cell_type": "code",
   "execution_count": 16,
   "id": "b61fbb44",
   "metadata": {},
   "outputs": [
    {
     "data": {
      "text/plain": [
       "3"
      ]
     },
     "execution_count": 16,
     "metadata": {},
     "output_type": "execute_result"
    }
   ],
   "source": [
    "c = 22/7\n",
    "round(c)"
   ]
  },
  {
   "cell_type": "markdown",
   "id": "9fc44701",
   "metadata": {},
   "source": [
    "### 9. divmod"
   ]
  },
  {
   "cell_type": "code",
   "execution_count": 17,
   "id": "7c8c7dbb",
   "metadata": {},
   "outputs": [
    {
     "data": {
      "text/plain": [
       "(2, 1)"
      ]
     },
     "execution_count": 17,
     "metadata": {},
     "output_type": "execute_result"
    }
   ],
   "source": [
    "divmod(5,2) # find the intdiv and modlues of 5"
   ]
  },
  {
   "cell_type": "markdown",
   "id": "4f63c40b",
   "metadata": {},
   "source": [
    "### 10. bin/oct/hex"
   ]
  },
  {
   "cell_type": "code",
   "execution_count": 18,
   "id": "44bfce81",
   "metadata": {},
   "outputs": [
    {
     "data": {
      "text/plain": [
       "'0b100'"
      ]
     },
     "execution_count": 18,
     "metadata": {},
     "output_type": "execute_result"
    }
   ],
   "source": [
    "bin(4) # find the binary of the number"
   ]
  },
  {
   "cell_type": "markdown",
   "id": "cf04fb8f",
   "metadata": {},
   "source": [
    "### 11. id"
   ]
  },
  {
   "cell_type": "code",
   "execution_count": 20,
   "id": "81fe8ad7",
   "metadata": {},
   "outputs": [
    {
     "data": {
      "text/plain": [
       "94211899079808"
      ]
     },
     "execution_count": 20,
     "metadata": {},
     "output_type": "execute_result"
    }
   ],
   "source": [
    "a = 123\n",
    "id(a)"
   ]
  },
  {
   "cell_type": "markdown",
   "id": "ad9eec9e",
   "metadata": {},
   "source": [
    "### 12. ord"
   ]
  },
  {
   "cell_type": "code",
   "execution_count": 21,
   "id": "9c17e396",
   "metadata": {},
   "outputs": [
    {
     "data": {
      "text/plain": [
       "99"
      ]
     },
     "execution_count": 21,
     "metadata": {},
     "output_type": "execute_result"
    }
   ],
   "source": [
    "# it will the ASCII code for any charecter \n",
    "ord(\"c\")"
   ]
  },
  {
   "cell_type": "markdown",
   "id": "4b4603b2",
   "metadata": {},
   "source": [
    "### 13.len"
   ]
  },
  {
   "cell_type": "code",
   "execution_count": 23,
   "id": "fbcc3639",
   "metadata": {},
   "outputs": [
    {
     "data": {
      "text/plain": [
       "10"
      ]
     },
     "execution_count": 23,
     "metadata": {},
     "output_type": "execute_result"
    }
   ],
   "source": [
    "# used to find the length of the itterable like string, list, etc\n",
    "\n",
    "a = [1,2,3,4,5,6,7,8,9,0]\n",
    "len(a)"
   ]
  },
  {
   "cell_type": "markdown",
   "id": "9a513953",
   "metadata": {},
   "source": [
    "### 14. sum"
   ]
  },
  {
   "cell_type": "code",
   "execution_count": 24,
   "id": "135248db",
   "metadata": {},
   "outputs": [
    {
     "data": {
      "text/plain": [
       "45"
      ]
     },
     "execution_count": 24,
     "metadata": {},
     "output_type": "execute_result"
    }
   ],
   "source": [
    "# find the sum of the itterable in number\n",
    "\n",
    "a = [1,2,3,4,5,6,7,8,9,0]\n",
    "sum(a)"
   ]
  },
  {
   "cell_type": "markdown",
   "id": "22fc54da",
   "metadata": {},
   "source": [
    "### 15. help"
   ]
  },
  {
   "cell_type": "code",
   "execution_count": 25,
   "id": "3eff92c0",
   "metadata": {},
   "outputs": [
    {
     "name": "stdout",
     "output_type": "stream",
     "text": [
      "Help on built-in function sum in module builtins:\n",
      "\n",
      "sum(iterable, /, start=0)\n",
      "    Return the sum of a 'start' value (default: 0) plus an iterable of numbers\n",
      "    \n",
      "    When the iterable is empty, return the start value.\n",
      "    This function is intended specifically for use with numeric values and may\n",
      "    reject non-numeric types.\n",
      "\n"
     ]
    }
   ],
   "source": [
    "help(\"sum\")"
   ]
  },
  {
   "cell_type": "code",
   "execution_count": null,
   "id": "b69858ea",
   "metadata": {},
   "outputs": [],
   "source": []
  }
 ],
 "metadata": {
  "kernelspec": {
   "display_name": "Python 3",
   "language": "python",
   "name": "python3"
  },
  "language_info": {
   "codemirror_mode": {
    "name": "ipython",
    "version": 3
   },
   "file_extension": ".py",
   "mimetype": "text/x-python",
   "name": "python",
   "nbconvert_exporter": "python",
   "pygments_lexer": "ipython3",
   "version": "3.8.8"
  }
 },
 "nbformat": 4,
 "nbformat_minor": 5
}
