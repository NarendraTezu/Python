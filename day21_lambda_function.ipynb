{
 "cells": [
  {
   "cell_type": "code",
   "execution_count": 1,
   "id": "2b9d3a82",
   "metadata": {},
   "outputs": [
    {
     "data": {
      "text/plain": [
       "81"
      ]
     },
     "execution_count": 1,
     "metadata": {},
     "output_type": "execute_result"
    }
   ],
   "source": [
    "# lambda function\n",
    "# lambda input: expression\n",
    "# Square of number\n",
    "x = lambda x: x**2\n",
    "x(9)"
   ]
  },
  {
   "cell_type": "code",
   "execution_count": 4,
   "id": "fb558b79",
   "metadata": {},
   "outputs": [],
   "source": [
    "a = lambda x,y:x+y"
   ]
  },
  {
   "cell_type": "code",
   "execution_count": 5,
   "id": "11354ade",
   "metadata": {},
   "outputs": [
    {
     "data": {
      "text/plain": [
       "9"
      ]
     },
     "execution_count": 5,
     "metadata": {},
     "output_type": "execute_result"
    }
   ],
   "source": [
    "a(4,5)"
   ]
  },
  {
   "cell_type": "code",
   "execution_count": 7,
   "id": "c32883a0",
   "metadata": {},
   "outputs": [
    {
     "data": {
      "text/plain": [
       "True"
      ]
     },
     "execution_count": 7,
     "metadata": {},
     "output_type": "execute_result"
    }
   ],
   "source": [
    "b = lambda x : x[0] == \"a\"\n",
    "b(\"apple\")"
   ]
  },
  {
   "cell_type": "code",
   "execution_count": 8,
   "id": "e330183c",
   "metadata": {},
   "outputs": [
    {
     "data": {
      "text/plain": [
       "False"
      ]
     },
     "execution_count": 8,
     "metadata": {},
     "output_type": "execute_result"
    }
   ],
   "source": [
    "b(\"banana\")"
   ]
  },
  {
   "cell_type": "code",
   "execution_count": 9,
   "id": "f1810493",
   "metadata": {},
   "outputs": [
    {
     "data": {
      "text/plain": [
       "'Odd'"
      ]
     },
     "execution_count": 9,
     "metadata": {},
     "output_type": "execute_result"
    }
   ],
   "source": [
    "# Even or odd using lambda function\n",
    "b = lambda x:\"Even\" if x%2 == 0 else \"Odd\"\n",
    "b(3)"
   ]
  },
  {
   "cell_type": "code",
   "execution_count": 10,
   "id": "de6bfe86",
   "metadata": {},
   "outputs": [
    {
     "data": {
      "text/plain": [
       "'Even'"
      ]
     },
     "execution_count": 10,
     "metadata": {},
     "output_type": "execute_result"
    }
   ],
   "source": [
    "b(2)"
   ]
  },
  {
   "cell_type": "code",
   "execution_count": 12,
   "id": "1fcabf4e",
   "metadata": {},
   "outputs": [
    {
     "name": "stdout",
     "output_type": "stream",
     "text": [
      "176\n",
      "129\n",
      "144\n"
     ]
    }
   ],
   "source": [
    "# Higher order function in python\n",
    "l = [11,14,21,23,56,78,45,29,28]\n",
    "\n",
    "def return_sum(func,l):\n",
    "    result = 0\n",
    "    for i in l:\n",
    "        if func(i):\n",
    "            result = result + i\n",
    "            \n",
    "    return result\n",
    "\n",
    "x = lambda x: x%2 == 0\n",
    "y = lambda x: x%2 != 0\n",
    "z = lambda x: x%3 == 0\n",
    "\n",
    "print(return_sum(x,l))\n",
    "print(return_sum(y,l))\n",
    "print(return_sum(z,l))"
   ]
  },
  {
   "cell_type": "code",
   "execution_count": 15,
   "id": "f35ded81",
   "metadata": {},
   "outputs": [
    {
     "data": {
      "text/plain": [
       "[1, 4, 9, 16, 25, 36, 49]"
      ]
     },
     "execution_count": 15,
     "metadata": {},
     "output_type": "execute_result"
    }
   ],
   "source": [
    "# Map function in python\n",
    "#The map function is used to perform a particular operation on each and every element of the iterable it takes the lambda function and an iterable as input and performs the defined task on iterable in lambda function\n",
    "\n",
    "#square the each element of the list\n",
    "\n",
    "l = [1,2,3,4,5,6,7]\n",
    "\n",
    "l2 = list(map(lambda x: x**2,l))\n",
    "l2"
   ]
  },
  {
   "cell_type": "code",
   "execution_count": 16,
   "id": "06e6b070",
   "metadata": {},
   "outputs": [
    {
     "data": {
      "text/plain": [
       "[False, True, False, True, False, True, False]"
      ]
     },
     "execution_count": 16,
     "metadata": {},
     "output_type": "execute_result"
    }
   ],
   "source": [
    "# find the elementd of list is even or odd\n",
    "\n",
    "list(map(lambda x: x%2 == 0, l2))"
   ]
  },
  {
   "cell_type": "code",
   "execution_count": 17,
   "id": "efeebf53",
   "metadata": {},
   "outputs": [
    {
     "data": {
      "text/plain": [
       "[16, 25, 36, 49]"
      ]
     },
     "execution_count": 17,
     "metadata": {},
     "output_type": "execute_result"
    }
   ],
   "source": [
    "list((filter(lambda x: x>14,l2)))"
   ]
  },
  {
   "cell_type": "code",
   "execution_count": 23,
   "id": "8b8d68cd",
   "metadata": {},
   "outputs": [
    {
     "data": {
      "text/plain": [
       "140"
      ]
     },
     "execution_count": 23,
     "metadata": {},
     "output_type": "execute_result"
    }
   ],
   "source": [
    "# reduce funtion in python use to reduce the list based on condition\n",
    "\n",
    "import functools\n",
    "\n",
    "functools.reduce(lambda x,y:x+y, l2)"
   ]
  },
  {
   "cell_type": "code",
   "execution_count": 24,
   "id": "972a7fb4",
   "metadata": {},
   "outputs": [
    {
     "data": {
      "text/plain": [
       "1"
      ]
     },
     "execution_count": 24,
     "metadata": {},
     "output_type": "execute_result"
    }
   ],
   "source": [
    "functools.reduce(lambda x,y:x if x<y else y, l2)"
   ]
  },
  {
   "cell_type": "code",
   "execution_count": 27,
   "id": "175c58f9",
   "metadata": {},
   "outputs": [],
   "source": [
    "# List comprehansion use to multply 2 in each items\n",
    "\n",
    "lst = [1,2,3,4,5,6]\n",
    "lst1 = [item*2 for item in lst]"
   ]
  },
  {
   "cell_type": "code",
   "execution_count": 28,
   "id": "88a0901c",
   "metadata": {},
   "outputs": [
    {
     "data": {
      "text/plain": [
       "[2, 4, 6, 8, 10, 12]"
      ]
     },
     "execution_count": 28,
     "metadata": {},
     "output_type": "execute_result"
    }
   ],
   "source": [
    "lst1"
   ]
  },
  {
   "cell_type": "code",
   "execution_count": 29,
   "id": "be6a73c9",
   "metadata": {},
   "outputs": [
    {
     "data": {
      "text/plain": [
       "[0, 1, 4, 9, 16, 25, 36, 49, 64, 81]"
      ]
     },
     "execution_count": 29,
     "metadata": {},
     "output_type": "execute_result"
    }
   ],
   "source": [
    "# list comprihansion \n",
    "l3 = [i**2 for i in range(10)]\n",
    "l3"
   ]
  },
  {
   "cell_type": "code",
   "execution_count": 30,
   "id": "72570061",
   "metadata": {},
   "outputs": [],
   "source": [
    "l4 = [i**3 for i in range(12) if i%2 !=0]"
   ]
  },
  {
   "cell_type": "code",
   "execution_count": 31,
   "id": "b8a3fb23",
   "metadata": {},
   "outputs": [
    {
     "data": {
      "text/plain": [
       "[1, 27, 125, 343, 729, 1331]"
      ]
     },
     "execution_count": 31,
     "metadata": {},
     "output_type": "execute_result"
    }
   ],
   "source": [
    "l4"
   ]
  },
  {
   "cell_type": "code",
   "execution_count": 32,
   "id": "9eaa4699",
   "metadata": {},
   "outputs": [
    {
     "data": {
      "text/plain": [
       "dict_items([('Name', 'Narendra'), ('gender', 'Male'), ('Age', 30)])"
      ]
     },
     "execution_count": 32,
     "metadata": {},
     "output_type": "execute_result"
    }
   ],
   "source": [
    "# Dictnory comprihension\n",
    "\n",
    "d = {\"Name\":\"Narendra\",\"gender\":\"Male\", \"Age\":30}\n",
    "d.items()"
   ]
  },
  {
   "cell_type": "code",
   "execution_count": 33,
   "id": "1dcffc48",
   "metadata": {},
   "outputs": [],
   "source": [
    "d1 = {key:value for key,value in d.items() if len(key) > 3}"
   ]
  },
  {
   "cell_type": "code",
   "execution_count": 34,
   "id": "722989ac",
   "metadata": {},
   "outputs": [
    {
     "data": {
      "text/plain": [
       "{'Name': 'Narendra', 'gender': 'Male'}"
      ]
     },
     "execution_count": 34,
     "metadata": {},
     "output_type": "execute_result"
    }
   ],
   "source": [
    "d1"
   ]
  },
  {
   "cell_type": "code",
   "execution_count": null,
   "id": "c570b7b7",
   "metadata": {},
   "outputs": [],
   "source": []
  }
 ],
 "metadata": {
  "kernelspec": {
   "display_name": "Python 3",
   "language": "python",
   "name": "python3"
  },
  "language_info": {
   "codemirror_mode": {
    "name": "ipython",
    "version": 3
   },
   "file_extension": ".py",
   "mimetype": "text/x-python",
   "name": "python",
   "nbconvert_exporter": "python",
   "pygments_lexer": "ipython3",
   "version": "3.8.8"
  }
 },
 "nbformat": 4,
 "nbformat_minor": 5
}
