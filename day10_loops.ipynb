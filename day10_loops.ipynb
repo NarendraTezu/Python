{
 "cells": [
  {
   "cell_type": "markdown",
   "id": "e8bf1fa7",
   "metadata": {},
   "source": [
    "## Loops \n",
    "Loops in Python are used to repeatedly execute a block of code until a certain condition is met. They help automate repetitive tasks and iterate over collections of data. Python provides two types of loops: for loop and while loop."
   ]
  },
  {
   "cell_type": "markdown",
   "id": "be696419",
   "metadata": {},
   "source": [
    "### 1. for Loop\n",
    "The for loop iterates over a sequence (such as a list, tuple, string, or range) or any object that supports iteration. It executes a block of code for each item in the sequence"
   ]
  },
  {
   "cell_type": "code",
   "execution_count": 1,
   "id": "eeaf7caf",
   "metadata": {},
   "outputs": [
    {
     "name": "stdout",
     "output_type": "stream",
     "text": [
      "apple\n",
      "banana\n",
      "cherry\n"
     ]
    }
   ],
   "source": [
    "# For loop on List\n",
    "fruits = [\"apple\", \"banana\", \"cherry\"]\n",
    "\n",
    "for fruit in fruits:\n",
    "    print(fruit)\n"
   ]
  },
  {
   "cell_type": "code",
   "execution_count": 2,
   "id": "c5d31cbf",
   "metadata": {},
   "outputs": [
    {
     "name": "stdout",
     "output_type": "stream",
     "text": [
      "apple\n",
      "banana\n",
      "cherry\n"
     ]
    }
   ],
   "source": [
    "# For Loop on Tuple\n",
    "fruits = (\"apple\", \"banana\", \"cherry\")\n",
    "\n",
    "for fruit in fruits:\n",
    "    print(fruit)"
   ]
  },
  {
   "cell_type": "code",
   "execution_count": 3,
   "id": "1799db53",
   "metadata": {},
   "outputs": [
    {
     "name": "stdout",
     "output_type": "stream",
     "text": [
      "apple\n",
      "banana\n",
      "cherry\n"
     ]
    }
   ],
   "source": [
    "# For loop on set\n",
    "fruits = {\"apple\", \"banana\", \"cherry\"}\n",
    "\n",
    "for fruit in fruits:\n",
    "    print(fruit)"
   ]
  },
  {
   "cell_type": "markdown",
   "id": "7e198e62",
   "metadata": {},
   "source": [
    "The range() function is often used in conjunction with for loops to generate a sequence of numbers. It returns an iterable sequence of numbers, which can be used to control the number of iterations in a loop.\n",
    "* range(start, stop, step)\n"
   ]
  },
  {
   "cell_type": "code",
   "execution_count": 4,
   "id": "2200ca28",
   "metadata": {},
   "outputs": [
    {
     "name": "stdout",
     "output_type": "stream",
     "text": [
      "1\n",
      "3\n",
      "5\n",
      "7\n",
      "9\n"
     ]
    }
   ],
   "source": [
    "for num in range(1, 10, 2):\n",
    "    print(num)"
   ]
  },
  {
   "cell_type": "code",
   "execution_count": 5,
   "id": "e21b2b0a",
   "metadata": {},
   "outputs": [
    {
     "name": "stdout",
     "output_type": "stream",
     "text": [
      "10\n",
      "8\n",
      "6\n",
      "4\n",
      "2\n"
     ]
    }
   ],
   "source": [
    "for num in range(10, 1, -2):\n",
    "    print(num)"
   ]
  },
  {
   "cell_type": "markdown",
   "id": "0feef6f0",
   "metadata": {},
   "source": [
    "#### Nested for loop"
   ]
  },
  {
   "cell_type": "code",
   "execution_count": 16,
   "id": "63bf3293",
   "metadata": {},
   "outputs": [
    {
     "name": "stdout",
     "output_type": "stream",
     "text": [
      "Enter number of row : 5\n",
      "* \n",
      "* * \n",
      "* * * \n",
      "* * * * \n",
      "* * * * * \n"
     ]
    }
   ],
   "source": [
    "num = int(input(\"Enter number of row : \"))\n",
    "for i in range(1,num+1):\n",
    "    for j in range(1, i+1):\n",
    "        print(\"*\", end=\" \")\n",
    "        j += j\n",
    "    i += i\n",
    "    print()"
   ]
  },
  {
   "cell_type": "markdown",
   "id": "ddddf846",
   "metadata": {},
   "source": [
    "### 2. while Loop\n",
    "The while loop repeatedly executes a block of code as long as a certain condition is true. It is useful when you don't know in advance how many times the loop needs to run"
   ]
  },
  {
   "cell_type": "code",
   "execution_count": 6,
   "id": "bf305ee8",
   "metadata": {},
   "outputs": [
    {
     "name": "stdout",
     "output_type": "stream",
     "text": [
      "count : 10\n",
      "count : 11\n",
      "count : 12\n",
      "count : 13\n",
      "count : 14\n",
      "count : 15\n",
      "count : 16\n",
      "count : 17\n",
      "count : 18\n",
      "count : 19\n"
     ]
    }
   ],
   "source": [
    "count = 10\n",
    "while count < 20:\n",
    "    print(\"count :\", count)\n",
    "    count += 1"
   ]
  },
  {
   "cell_type": "code",
   "execution_count": 7,
   "id": "5974b40a",
   "metadata": {},
   "outputs": [
    {
     "name": "stdout",
     "output_type": "stream",
     "text": [
      "Enter your number : 22\n",
      "Table of Number 22 is :\n",
      "22 X 1 : 22\n",
      "22 X 2 : 44\n",
      "22 X 3 : 66\n",
      "22 X 4 : 88\n",
      "22 X 5 : 110\n",
      "22 X 6 : 132\n",
      "22 X 7 : 154\n",
      "22 X 8 : 176\n",
      "22 X 9 : 198\n",
      "22 X 10 : 220\n"
     ]
    }
   ],
   "source": [
    "num = int(input(\"Enter your number : \"))\n",
    "print(f\"Table of Number {num} is :\")\n",
    "count = 1\n",
    "while count < 11:\n",
    "    print(f\"{num} X {count} :\", num * count)\n",
    "    count += 1"
   ]
  },
  {
   "cell_type": "markdown",
   "id": "eb208fde",
   "metadata": {},
   "source": [
    "### Guessing game in python"
   ]
  },
  {
   "cell_type": "code",
   "execution_count": 8,
   "id": "12d31fbd",
   "metadata": {},
   "outputs": [
    {
     "name": "stdout",
     "output_type": "stream",
     "text": [
      "Guess the number : 22\n",
      "Fail!! guess higher number :\n",
      "Guess the number : 33\n",
      "Fail!! guess lower number :\n",
      "Guess the number : 44\n",
      "Fail!! guess lower number :\n",
      "Guess the number : 24\n",
      "Fail!! guess higher number :\n",
      "Guess the number : 27\n",
      "Fail!! guess lower number :\n",
      "Guess the number : 26\n",
      "Wow!! congratulation sucess guess in 6 times\n"
     ]
    }
   ],
   "source": [
    "import random\n",
    "\n",
    "count = 1\n",
    "jackpot = random.randint(1,100)\n",
    "guess = int(input(\"Guess the number : \"))\n",
    "\n",
    "while guess != jackpot:\n",
    "    if guess < jackpot:\n",
    "        print(\"Fail!! guess higher number :\")\n",
    "    else:\n",
    "        print(\"Fail!! guess lower number :\")\n",
    "        \n",
    "    guess = int(input(\"Guess the number : \"))\n",
    "    count = count + 1\n",
    "\n",
    "print(f\"Wow!! congratulation sucess guess in {count} times\" )\n"
   ]
  },
  {
   "cell_type": "code",
   "execution_count": 20,
   "id": "cca8237b",
   "metadata": {},
   "outputs": [
    {
     "name": "stdout",
     "output_type": "stream",
     "text": [
      "Count: 0\n",
      "Count: 1\n",
      "Count: 2\n",
      "Count: 3\n",
      "Count: 4\n",
      "Loop completed.\n"
     ]
    }
   ],
   "source": [
    "# We can use while loop with else statememnt also \n",
    "count = 0\n",
    "\n",
    "while count < 5:\n",
    "    print(\"Count:\", count)\n",
    "    count += 1\n",
    "else:\n",
    "    print(\"Loop completed.\")\n"
   ]
  },
  {
   "cell_type": "markdown",
   "id": "eaab9f2c",
   "metadata": {},
   "source": [
    "### break\n",
    "The break statement is typically used when you want to terminate a loop early based on a certain condition.\n",
    "while condition:\n",
    "    # Code block\n",
    "    \n",
    "    if some_condition:\n",
    "        break  # Exit the loop if the condition is met\n",
    "\n",
    "code after the loop"
   ]
  },
  {
   "cell_type": "code",
   "execution_count": 22,
   "id": "fe5cc024",
   "metadata": {},
   "outputs": [
    {
     "name": "stdout",
     "output_type": "stream",
     "text": [
      "0\n",
      "1\n",
      "2\n",
      "3\n",
      "4\n",
      "Loop completed.\n"
     ]
    }
   ],
   "source": [
    "for num in range(10):\n",
    "    if num == 5:\n",
    "        break\n",
    "    print(num)\n",
    "\n",
    "print(\"Loop completed.\")"
   ]
  },
  {
   "cell_type": "markdown",
   "id": "eaefef0d",
   "metadata": {},
   "source": [
    "### continue\n",
    "The continue statement is typically used when you want to skip certain parts of the loop's code based on a specific condition, but continue with the next iteration of the loop. \n",
    "while condition:\n",
    "    # Code block\n",
    "    \n",
    "    if some_condition:\n",
    "        continue  # Skip the rest of the code in the current iteration and move to the next iteration\n",
    "\n",
    "Code after the loop\n",
    "\n",
    "for item in sequence:\n",
    "    # Code block\n",
    "    \n",
    "    if some_condition:\n",
    "        continue  # Skip the rest of the code in the current iteration and move to the next iteration\n",
    "\n",
    "Code after the loop"
   ]
  },
  {
   "cell_type": "code",
   "execution_count": 24,
   "id": "5bcef0ae",
   "metadata": {},
   "outputs": [
    {
     "name": "stdout",
     "output_type": "stream",
     "text": [
      "1\n",
      "3\n",
      "5\n",
      "7\n",
      "9\n",
      "Loop completed.\n"
     ]
    }
   ],
   "source": [
    "for num in range(10):\n",
    "    if num % 2 == 0:\n",
    "        continue\n",
    "    print(num)\n",
    "\n",
    "print(\"Loop completed.\")\n"
   ]
  },
  {
   "cell_type": "markdown",
   "id": "97e49faa",
   "metadata": {},
   "source": [
    "### pass\n",
    "The pass keyword is mainly used to handle situations where you need a statement or code block to exist syntactically, but you don't want to add any functionality at that moment. It helps you avoid syntax errors and serves as a placeholder until you're ready to implement the desired code."
   ]
  },
  {
   "cell_type": "code",
   "execution_count": 30,
   "id": "e79d9e97",
   "metadata": {},
   "outputs": [],
   "source": [
    "def my_function():\n",
    "    pass\n",
    "\n",
    "class MyClass:\n",
    "    pass"
   ]
  },
  {
   "cell_type": "code",
   "execution_count": 31,
   "id": "2d1379ac",
   "metadata": {},
   "outputs": [],
   "source": [
    "x = 10\n",
    "if x > 5:\n",
    "    pass  # Placeholder for the code block\n",
    "sequence = [1,2,3,4,5]\n",
    "for item in sequence:\n",
    "    pass  # Placeholder for the code block\n",
    "\n",
    "while x < 9:\n",
    "    pass  # Placeholder for the code block\n"
   ]
  },
  {
   "cell_type": "code",
   "execution_count": null,
   "id": "48af44ad",
   "metadata": {},
   "outputs": [],
   "source": []
  }
 ],
 "metadata": {
  "kernelspec": {
   "display_name": "Python 3",
   "language": "python",
   "name": "python3"
  },
  "language_info": {
   "codemirror_mode": {
    "name": "ipython",
    "version": 3
   },
   "file_extension": ".py",
   "mimetype": "text/x-python",
   "name": "python",
   "nbconvert_exporter": "python",
   "pygments_lexer": "ipython3",
   "version": "3.8.8"
  }
 },
 "nbformat": 4,
 "nbformat_minor": 5
}
