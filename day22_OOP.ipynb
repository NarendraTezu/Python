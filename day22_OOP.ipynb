{
 "cells": [
  {
   "cell_type": "code",
   "execution_count": 1,
   "id": "a35f8db7",
   "metadata": {},
   "outputs": [],
   "source": [
    "# __init__ is a constructor in python its mean when we careate a object of the class constructor will call autometically\n",
    "class Atm:\n",
    "    # constructor\n",
    "    \n",
    "    def __init__(self):\n",
    "        \n",
    "        print(\"Hello\")\n",
    "    \n",
    "    def menu(self):\n",
    "        pass\n",
    "        "
   ]
  },
  {
   "cell_type": "code",
   "execution_count": 2,
   "id": "d314f979",
   "metadata": {},
   "outputs": [
    {
     "name": "stdout",
     "output_type": "stream",
     "text": [
      "Hello\n"
     ]
    }
   ],
   "source": [
    "# creating object of ATM class\n",
    "ptr = Atm()"
   ]
  },
  {
   "cell_type": "code",
   "execution_count": 3,
   "id": "8b578b28",
   "metadata": {},
   "outputs": [],
   "source": [
    "class Atm:\n",
    "    # constructor\n",
    "    def __init__(self):\n",
    "        self.pin = \"\"\n",
    "        self.balance = 0\n",
    "        self.menu()\n",
    "    \n",
    "    def menu(self):\n",
    "        user_input = input(\"\"\"\n",
    "                        Hello, How would you like to proceed?\n",
    "                        1. Enter 1 to create a pin\n",
    "                        2. Enter 2 to deposit\n",
    "                        3. Enter 3 to withdraw\n",
    "                        4. Enter 4 to check the balance\n",
    "                        5. Enter 5 to exit\n",
    "        \"\"\")\n",
    "        if user_input == \"1\":\n",
    "            self.create_pin()\n",
    "        elif user_input == \"2\":\n",
    "            self.deposit()\n",
    "        elif user_input == \"3\":\n",
    "            self.withdraw()\n",
    "        elif user_input == \"4\":\n",
    "            self.check_balance()\n",
    "        else:\n",
    "            print(\"Goodbye\")\n",
    "        \n",
    "    def create_pin(self):\n",
    "        self.pin = input(\"Enter your pin: \")\n",
    "        print(\"Pin set successfully\")\n",
    "        \n",
    "    def deposit(self):\n",
    "        temp_pin = input(\"Enter your pin: \")\n",
    "        if temp_pin == self.pin:\n",
    "            amount = float(input(\"Enter the amount to deposit: \"))\n",
    "            self.balance += amount\n",
    "            print(\"Deposit successful\")\n",
    "        else:\n",
    "            print(\"Invalid pin\")\n",
    "    \n",
    "    def withdraw(self):\n",
    "        temp_pin = input(\"Enter your pin: \")\n",
    "        if temp_pin == self.pin:\n",
    "            amount = float(input(\"Enter the amount to withdraw: \"))\n",
    "            if amount <= self.balance:\n",
    "                self.balance -= amount\n",
    "                print(\"Withdrawal successful\")\n",
    "            else:\n",
    "                print(\"Insufficient funds\")\n",
    "        else:\n",
    "            print(\"Invalid pin\")\n",
    "    \n",
    "    def check_balance(self):\n",
    "        temp_pin = input(\"Enter your pin: \")\n",
    "        if temp_pin == self.pin:\n",
    "            print(\"Current balance: \", self.balance)\n",
    "        else:\n",
    "            print(\"Invalid pin\")"
   ]
  },
  {
   "cell_type": "code",
   "execution_count": 4,
   "id": "e06900d0",
   "metadata": {},
   "outputs": [
    {
     "name": "stdout",
     "output_type": "stream",
     "text": [
      "\n",
      "                        Hello, How would you like to proceed?\n",
      "                        1. Enter 1 to create a pin\n",
      "                        2. Enter 2 to deposit\n",
      "                        3. Enter 3 to withdraw\n",
      "                        4. Enter 4 to check the balance\n",
      "                        5. Enter 5 to exit\n",
      "        123\n",
      "Goodbye\n"
     ]
    }
   ],
   "source": [
    "sbi = Atm()"
   ]
  },
  {
   "cell_type": "code",
   "execution_count": 5,
   "id": "12110d80",
   "metadata": {},
   "outputs": [
    {
     "name": "stdout",
     "output_type": "stream",
     "text": [
      "Enter your pin: 1234\n",
      "Invalid pin\n"
     ]
    }
   ],
   "source": [
    "sbi.deposit()"
   ]
  },
  {
   "cell_type": "code",
   "execution_count": 6,
   "id": "5ea464c4",
   "metadata": {},
   "outputs": [
    {
     "name": "stdout",
     "output_type": "stream",
     "text": [
      "Enter your pin: 1200\n",
      "Invalid pin\n"
     ]
    }
   ],
   "source": [
    "sbi.check_balance()"
   ]
  },
  {
   "cell_type": "code",
   "execution_count": 7,
   "id": "b7e7f720",
   "metadata": {},
   "outputs": [
    {
     "name": "stdout",
     "output_type": "stream",
     "text": [
      "Enter your pin: 1234\n",
      "Invalid pin\n"
     ]
    }
   ],
   "source": [
    "sbi.withdraw()"
   ]
  },
  {
   "cell_type": "code",
   "execution_count": 8,
   "id": "c8978690",
   "metadata": {},
   "outputs": [
    {
     "name": "stdout",
     "output_type": "stream",
     "text": [
      "Enter your pin: 1234\n",
      "Invalid pin\n"
     ]
    }
   ],
   "source": [
    "sbi.check_balance()"
   ]
  },
  {
   "cell_type": "code",
   "execution_count": 9,
   "id": "1e7f4bbc",
   "metadata": {},
   "outputs": [
    {
     "name": "stdout",
     "output_type": "stream",
     "text": [
      "Enter your pin: 1234\n",
      "Invalid pin\n"
     ]
    }
   ],
   "source": [
    "sbi.withdraw()"
   ]
  },
  {
   "cell_type": "code",
   "execution_count": 10,
   "id": "1533c8f4",
   "metadata": {},
   "outputs": [
    {
     "name": "stdout",
     "output_type": "stream",
     "text": [
      "Enter your pin: 123\n",
      "Invalid pin\n"
     ]
    }
   ],
   "source": [
    "sbi.withdraw()"
   ]
  },
  {
   "cell_type": "code",
   "execution_count": 11,
   "id": "279c25dc",
   "metadata": {},
   "outputs": [],
   "source": [
    "# How to create our own datatype in python \n",
    "# Here we will create fraction data type \n",
    "\n",
    "class Fraction:\n",
    "    \n",
    "    def __init__(self, n, d):\n",
    "        self.num = n\n",
    "        self.den = d\n",
    "        \n",
    "    def __str__(self):\n",
    "        return \"Hello\""
   ]
  },
  {
   "cell_type": "code",
   "execution_count": 12,
   "id": "50fe4cf1",
   "metadata": {},
   "outputs": [],
   "source": [
    "x = Fraction(2,4)"
   ]
  },
  {
   "cell_type": "code",
   "execution_count": 13,
   "id": "9a385106",
   "metadata": {},
   "outputs": [
    {
     "data": {
      "text/plain": [
       "__main__.Fraction"
      ]
     },
     "execution_count": 13,
     "metadata": {},
     "output_type": "execute_result"
    }
   ],
   "source": [
    "type(x)"
   ]
  },
  {
   "cell_type": "code",
   "execution_count": 14,
   "id": "4e4be633",
   "metadata": {},
   "outputs": [
    {
     "name": "stdout",
     "output_type": "stream",
     "text": [
      "Hello\n"
     ]
    }
   ],
   "source": [
    "# __str__ It is a magic method when we type to print any object of the class in Python it will search __str__ methods and execute the code of __str__ methods \n",
    "\n",
    "print(x)"
   ]
  },
  {
   "cell_type": "code",
   "execution_count": 15,
   "id": "7a6afa88",
   "metadata": {},
   "outputs": [],
   "source": [
    "# How to create our own datatype in python \n",
    "# Here we will create fraction data type \n",
    "\n",
    "class Fraction:\n",
    "    \n",
    "    def __init__(self, n, d):\n",
    "        self.num = n\n",
    "        self.den = d\n",
    "        \n",
    "    def __str__(self):\n",
    "        return \"{}/{}\".format(self.num,self.den)"
   ]
  },
  {
   "cell_type": "code",
   "execution_count": 16,
   "id": "d9ffa3dd",
   "metadata": {},
   "outputs": [
    {
     "name": "stdout",
     "output_type": "stream",
     "text": [
      "5/7\n"
     ]
    }
   ],
   "source": [
    "# We can print out created data type\n",
    "y = Fraction(5,7)\n",
    "\n",
    "print(y)"
   ]
  },
  {
   "cell_type": "code",
   "execution_count": 17,
   "id": "1620cc74",
   "metadata": {},
   "outputs": [],
   "source": [
    "# How to create our own datatype in python \n",
    "# Here we will create fraction data type \n",
    "# We will create our own addition methods __add__ for fraction\n",
    "\n",
    "class Fraction:\n",
    "    \n",
    "    def __init__(self, n, d):\n",
    "        self.num = n\n",
    "        self.den = d\n",
    "        \n",
    "    def __str__(self):\n",
    "        return \"{}/{}\".format(self.num,self.den)\n",
    "    \n",
    "    def __add__(self,other):\n",
    "        temp_num = self.num*other.den + other.num*self.den\n",
    "        temp_den = self.den*other.den\n",
    "        return \"{}/{}\".format(temp_num,temp_den)"
   ]
  },
  {
   "cell_type": "code",
   "execution_count": 18,
   "id": "b655b6ee",
   "metadata": {},
   "outputs": [],
   "source": [
    "z = Fraction(3,4)\n",
    "a = Fraction(2,6)"
   ]
  },
  {
   "cell_type": "code",
   "execution_count": 19,
   "id": "897d60a2",
   "metadata": {},
   "outputs": [
    {
     "data": {
      "text/plain": [
       "'26/24'"
      ]
     },
     "execution_count": 19,
     "metadata": {},
     "output_type": "execute_result"
    }
   ],
   "source": [
    "a + z"
   ]
  },
  {
   "cell_type": "code",
   "execution_count": 20,
   "id": "ea6b1711",
   "metadata": {},
   "outputs": [],
   "source": [
    "# How to create our own datatype in python \n",
    "# Here we will create fraction data type \n",
    "# We will create our own substaction methods __sub__ for fraction\n",
    "\n",
    "class Fraction:\n",
    "    \n",
    "    def __init__(self, n, d):\n",
    "        self.num = n\n",
    "        self.den = d\n",
    "        \n",
    "    def __str__(self):\n",
    "        return \"{}/{}\".format(self.num,self.den)\n",
    "    \n",
    "    def __sub__(self,other):\n",
    "        temp_num = self.num*other.den - other.num*self.den\n",
    "        temp_den = self.den*other.den\n",
    "        return \"{}/{}\".format(temp_num,temp_den)"
   ]
  },
  {
   "cell_type": "code",
   "execution_count": 21,
   "id": "b4911162",
   "metadata": {},
   "outputs": [],
   "source": [
    "p = Fraction(3,6)\n",
    "q = Fraction(1,4)"
   ]
  },
  {
   "cell_type": "code",
   "execution_count": 22,
   "id": "3ed61d89",
   "metadata": {},
   "outputs": [
    {
     "data": {
      "text/plain": [
       "'6/24'"
      ]
     },
     "execution_count": 22,
     "metadata": {},
     "output_type": "execute_result"
    }
   ],
   "source": [
    "p - q"
   ]
  },
  {
   "cell_type": "code",
   "execution_count": 23,
   "id": "0f297c02",
   "metadata": {},
   "outputs": [],
   "source": [
    "# How to create our own datatype in python \n",
    "# Here we will create fraction data type \n",
    "# We will create our own multiplication methods __mul__ for fraction\n",
    "\n",
    "class Fraction:\n",
    "    \n",
    "    def __init__(self, n, d):\n",
    "        self.num = n\n",
    "        self.den = d\n",
    "        \n",
    "    def __str__(self):\n",
    "        return \"{}/{}\".format(self.num,self.den)\n",
    "    \n",
    "    def __mul__(self,other):\n",
    "        temp_num = self.num*other.num\n",
    "        temp_den = self.den*other.den\n",
    "        return \"{}/{}\".format(temp_num,temp_den)"
   ]
  },
  {
   "cell_type": "code",
   "execution_count": 24,
   "id": "c41b6425",
   "metadata": {},
   "outputs": [],
   "source": [
    "p = Fraction(3,6)\n",
    "q = Fraction(1,4)"
   ]
  },
  {
   "cell_type": "code",
   "execution_count": 25,
   "id": "567cf95d",
   "metadata": {},
   "outputs": [
    {
     "data": {
      "text/plain": [
       "'3/24'"
      ]
     },
     "execution_count": 25,
     "metadata": {},
     "output_type": "execute_result"
    }
   ],
   "source": [
    "p*q"
   ]
  },
  {
   "cell_type": "code",
   "execution_count": 26,
   "id": "b7d31f98",
   "metadata": {},
   "outputs": [],
   "source": [
    "# How to create our own datatype in python \n",
    "# Here we will create fraction data type \n",
    "# We will create our own division methods __truediv__ for fraction\n",
    "\n",
    "class Fraction:\n",
    "    \n",
    "    def __init__(self, n, d):\n",
    "        self.num = n\n",
    "        self.den = d\n",
    "        \n",
    "    def __str__(self):\n",
    "        return \"{}/{}\".format(self.num,self.den)\n",
    "    \n",
    "    def __truediv__(self,other):\n",
    "        temp_num = self.num*other.den\n",
    "        temp_den = self.den*other.num\n",
    "        return \"{}/{}\".format(temp_num,temp_den)"
   ]
  },
  {
   "cell_type": "code",
   "execution_count": 27,
   "id": "be718f6a",
   "metadata": {},
   "outputs": [],
   "source": [
    "p = Fraction(3,6)\n",
    "q = Fraction(1,4)"
   ]
  },
  {
   "cell_type": "code",
   "execution_count": 28,
   "id": "73f35060",
   "metadata": {},
   "outputs": [
    {
     "data": {
      "text/plain": [
       "'12/6'"
      ]
     },
     "execution_count": 28,
     "metadata": {},
     "output_type": "execute_result"
    }
   ],
   "source": [
    "p/q"
   ]
  },
  {
   "cell_type": "code",
   "execution_count": 29,
   "id": "1ed037ce",
   "metadata": {},
   "outputs": [],
   "source": [
    "# How to create our own datatype in python \n",
    "# Here we will create fraction data type \n",
    "# We will create our own addition methods __add__ , __sub__ , __mul__ , __truediv__ for fraction operations\n",
    "\n",
    "class Fraction:\n",
    "    \n",
    "    def __init__(self, n, d):\n",
    "        self.num = n\n",
    "        self.den = d\n",
    "        \n",
    "    def __str__(self):\n",
    "        return \"{}/{}\".format(self.num,self.den)\n",
    "    \n",
    "    def __add__(self,other):\n",
    "        temp_num = self.num*other.den + other.num*self.den\n",
    "        temp_den = self.den*other.den\n",
    "        return \"{}/{}\".format(temp_num,temp_den)\n",
    "    \n",
    "    def __sub__(self,other):\n",
    "        temp_num = self.num*other.den - other.num*self.den\n",
    "        temp_den = self.den*other.den\n",
    "        return \"{}/{}\".format(temp_num,temp_den)\n",
    "    \n",
    "    def __mul__(self,other):\n",
    "        temp_num = self.num*other.num\n",
    "        temp_den = self.den*other.den\n",
    "        return \"{}/{}\".format(temp_num,temp_den)\n",
    "    \n",
    "    \n",
    "    def __truediv__(self,other):\n",
    "        temp_num = self.num*other.den\n",
    "        temp_den = self.den*other.num\n",
    "        return \"{}/{}\".format(temp_num,temp_den)"
   ]
  },
  {
   "cell_type": "code",
   "execution_count": 30,
   "id": "10d1fb64",
   "metadata": {},
   "outputs": [],
   "source": [
    "p = Fraction(3,6)\n",
    "q = Fraction(1,4)"
   ]
  },
  {
   "cell_type": "code",
   "execution_count": 31,
   "id": "c2bdcf34",
   "metadata": {},
   "outputs": [
    {
     "data": {
      "text/plain": [
       "'18/24'"
      ]
     },
     "execution_count": 31,
     "metadata": {},
     "output_type": "execute_result"
    }
   ],
   "source": [
    "p+q"
   ]
  },
  {
   "cell_type": "code",
   "execution_count": 32,
   "id": "2b7a3edd",
   "metadata": {},
   "outputs": [
    {
     "data": {
      "text/plain": [
       "'6/24'"
      ]
     },
     "execution_count": 32,
     "metadata": {},
     "output_type": "execute_result"
    }
   ],
   "source": [
    "p-q"
   ]
  },
  {
   "cell_type": "code",
   "execution_count": 33,
   "id": "5a935c1b",
   "metadata": {},
   "outputs": [
    {
     "data": {
      "text/plain": [
       "'3/24'"
      ]
     },
     "execution_count": 33,
     "metadata": {},
     "output_type": "execute_result"
    }
   ],
   "source": [
    "p*q"
   ]
  },
  {
   "cell_type": "code",
   "execution_count": 34,
   "id": "d879fa06",
   "metadata": {},
   "outputs": [
    {
     "data": {
      "text/plain": [
       "'12/6'"
      ]
     },
     "execution_count": 34,
     "metadata": {},
     "output_type": "execute_result"
    }
   ],
   "source": [
    "p/q"
   ]
  },
  {
   "cell_type": "code",
   "execution_count": 35,
   "id": "7dc755f7",
   "metadata": {},
   "outputs": [],
   "source": [
    "# Instance Variable \n",
    "# All variable defined in __init__ methods (constructor) is called instance variable, the instance variable value will be different for each object \n",
    "# here pin and balance is instance variable\n",
    "\n",
    "class Atm:\n",
    "    # constructor\n",
    "    def __init__(self):\n",
    "        self.pin = \"\"\n",
    "        self.balance = 0\n",
    "        self.menu()\n",
    "    \n",
    "    def menu(self):\n",
    "        user_input = input(\"\"\"\n",
    "                        Hello, How would you like to proceed?\n",
    "                        1. Enter 1 to create a pin\n",
    "                        2. Enter 2 to deposit\n",
    "                        3. Enter 3 to withdraw\n",
    "                        4. Enter 4 to check the balance\n",
    "                        5. Enter 5 to exit\n",
    "        \"\"\")\n",
    "        if user_input == \"1\":\n",
    "            self.create_pin()\n",
    "        elif user_input == \"2\":\n",
    "            self.deposit()\n",
    "        elif user_input == \"3\":\n",
    "            self.withdraw()\n",
    "        elif user_input == \"4\":\n",
    "            self.check_balance()\n",
    "        else:\n",
    "            print(\"Goodbye\")\n",
    "        \n",
    "    def create_pin(self):\n",
    "        self.pin = input(\"Enter your pin: \")\n",
    "        print(\"Pin set successfully\")\n",
    "        \n",
    "    def deposit(self):\n",
    "        temp_pin = input(\"Enter your pin: \")\n",
    "        if temp_pin == self.pin:\n",
    "            amount = float(input(\"Enter the amount to deposit: \"))\n",
    "            self.balance += amount\n",
    "            print(\"Deposit successful\")\n",
    "        else:\n",
    "            print(\"Invalid pin\")\n",
    "    \n",
    "    def withdraw(self):\n",
    "        temp_pin = input(\"Enter your pin: \")\n",
    "        if temp_pin == self.pin:\n",
    "            amount = float(input(\"Enter the amount to withdraw: \"))\n",
    "            if amount <= self.balance:\n",
    "                self.balance -= amount\n",
    "                print(\"Withdrawal successful\")\n",
    "            else:\n",
    "                print(\"Insufficient funds\")\n",
    "        else:\n",
    "            print(\"Invalid pin\")\n",
    "    \n",
    "    def check_balance(self):\n",
    "        temp_pin = input(\"Enter your pin: \")\n",
    "        if temp_pin == self.pin:\n",
    "            print(\"Current balance: \", self.balance)\n",
    "        else:\n",
    "            print(\"Invalid pin\")"
   ]
  },
  {
   "cell_type": "code",
   "execution_count": 36,
   "id": "cfaac593",
   "metadata": {},
   "outputs": [],
   "source": [
    "# Nothing is truly private in python"
   ]
  },
  {
   "cell_type": "code",
   "execution_count": 37,
   "id": "73622a2f",
   "metadata": {},
   "outputs": [
    {
     "name": "stdout",
     "output_type": "stream",
     "text": [
      "\n",
      "                        Hello, How would you like to proceed?\n",
      "                        1. Enter 1 to create a pin\n",
      "                        2. Enter 2 to deposit\n",
      "                        3. Enter 3 to withdraw\n",
      "                        4. Enter 4 to check the balance\n",
      "                        5. Enter 5 to exit\n",
      "        1\n",
      "Enter your pin: 123\n",
      "Pin set successfully\n"
     ]
    }
   ],
   "source": [
    "sbi = Atm()"
   ]
  },
  {
   "cell_type": "code",
   "execution_count": 40,
   "id": "a0e925eb",
   "metadata": {},
   "outputs": [
    {
     "data": {
      "text/plain": [
       "'asdf'"
      ]
     },
     "execution_count": 40,
     "metadata": {},
     "output_type": "execute_result"
    }
   ],
   "source": [
    "# Every variable and methods are accessable so we can change the value of varable\n",
    "sbi.balance"
   ]
  },
  {
   "cell_type": "code",
   "execution_count": 41,
   "id": "48aa8185",
   "metadata": {},
   "outputs": [],
   "source": [
    "sbi.balance = \"asdf\""
   ]
  },
  {
   "cell_type": "code",
   "execution_count": 46,
   "id": "fd4c5749",
   "metadata": {},
   "outputs": [
    {
     "ename": "TypeError",
     "evalue": "deposit() takes 1 positional argument but 2 were given",
     "output_type": "error",
     "traceback": [
      "\u001b[0;31m---------------------------------------------------------------------------\u001b[0m",
      "\u001b[0;31mTypeError\u001b[0m                                 Traceback (most recent call last)",
      "Cell \u001b[0;32mIn [46], line 2\u001b[0m\n\u001b[1;32m      1\u001b[0m \u001b[38;5;66;03m# that is not good practice to open our data openly otherwise any one can access and modify\u001b[39;00m\n\u001b[0;32m----> 2\u001b[0m \u001b[43msbi\u001b[49m\u001b[38;5;241;43m.\u001b[39;49m\u001b[43mdeposit\u001b[49m\u001b[43m(\u001b[49m\u001b[38;5;241;43m2500\u001b[39;49m\u001b[43m)\u001b[49m\n",
      "\u001b[0;31mTypeError\u001b[0m: deposit() takes 1 positional argument but 2 were given"
     ]
    }
   ],
   "source": [
    "# that is not good practice to open our data openly otherwise any one can access and modify\n",
    "sbi.deposit(2500)"
   ]
  },
  {
   "cell_type": "code",
   "execution_count": 47,
   "id": "57958a66",
   "metadata": {},
   "outputs": [
    {
     "name": "stdout",
     "output_type": "stream",
     "text": [
      "\n",
      "                        Hello, How would you like to proceed?\n",
      "                        1. Enter 1 to create a pin\n",
      "                        2. Enter 2 to deposit\n",
      "                        3. Enter 3 to withdraw\n",
      "                        4. Enter 4 to check the balance\n",
      "                        5. Enter 5 to exit\n",
      "        1\n",
      "Enter your pin: 1234\n",
      "Pin set successfully\n"
     ]
    }
   ],
   "source": [
    "# using __ befor the variable and methods we can hide our variable from user \n",
    "class Atm:\n",
    "    def __init__(self):\n",
    "        self.__pin = \"\"\n",
    "        self.__balance = 0\n",
    "        self.menu()\n",
    "    \n",
    "    def menu(self):\n",
    "        user_input = input(\"\"\"\n",
    "                        Hello, How would you like to proceed?\n",
    "                        1. Enter 1 to create a pin\n",
    "                        2. Enter 2 to deposit\n",
    "                        3. Enter 3 to withdraw\n",
    "                        4. Enter 4 to check the balance\n",
    "                        5. Enter 5 to exit\n",
    "        \"\"\")\n",
    "        if user_input == \"1\":\n",
    "            self.create_pin()\n",
    "        elif user_input == \"2\":\n",
    "            self.deposit()\n",
    "        elif user_input == \"3\":\n",
    "            self.withdraw()\n",
    "        elif user_input == \"4\":\n",
    "            self.check_balance()\n",
    "        else:\n",
    "            print(\"Goodbye\")\n",
    "        \n",
    "    def create_pin(self):\n",
    "        self.__pin = input(\"Enter your pin: \")\n",
    "        print(\"Pin set successfully\")\n",
    "        \n",
    "    def deposit(self):\n",
    "        temp_pin = input(\"Enter your pin: \")\n",
    "        if temp_pin == self.__pin:\n",
    "            amount = float(input(\"Enter the amount to deposit: \"))\n",
    "            self.__balance += amount\n",
    "            print(\"Deposit successful\")\n",
    "        else:\n",
    "            print(\"Invalid pin\")\n",
    "    \n",
    "    def withdraw(self):\n",
    "        temp_pin = input(\"Enter your pin: \")\n",
    "        if temp_pin == self.__pin:\n",
    "            amount = float(input(\"Enter the amount to withdraw: \"))\n",
    "            if amount <= self.__balance:\n",
    "                self.__balance -= amount\n",
    "                print(\"Withdrawal successful\")\n",
    "            else:\n",
    "                print(\"Insufficient funds\")\n",
    "        else:\n",
    "            print(\"Invalid pin\")\n",
    "    \n",
    "    def check_balance(self):\n",
    "        temp_pin = input(\"Enter your pin: \")\n",
    "        if temp_pin == self.__pin:\n",
    "            print(\"Current balance:\", self.__balance)\n",
    "        else:\n",
    "            print(\"Invalid pin\")\n",
    "\n",
    "sbi = Atm()"
   ]
  },
  {
   "cell_type": "code",
   "execution_count": 52,
   "id": "e09cae6f",
   "metadata": {},
   "outputs": [
    {
     "name": "stdout",
     "output_type": "stream",
     "text": [
      "\n",
      "                        Hello, How would you like to proceed?\n",
      "                        1. Enter 1 to create a pin\n",
      "                        2. Enter 2 to deposit\n",
      "                        3. Enter 3 to withdraw\n",
      "                        4. Enter 4 to check the balance\n",
      "                        5. Enter 5 to exit\n",
      "        1\n",
      "Enter your pin: 1234\n",
      "Pin set successfully\n"
     ]
    }
   ],
   "source": [
    "# using __ befor the methods we can hide our methods from user \n",
    "\n",
    "class Atm:\n",
    "    def __init__(self):\n",
    "        self.__pin = \"\"\n",
    "        self.__balance = 0\n",
    "        self.__menu()\n",
    "    \n",
    "    def __menu(self):\n",
    "        user_input = input(\"\"\"\n",
    "                        Hello, How would you like to proceed?\n",
    "                        1. Enter 1 to create a pin\n",
    "                        2. Enter 2 to deposit\n",
    "                        3. Enter 3 to withdraw\n",
    "                        4. Enter 4 to check the balance\n",
    "                        5. Enter 5 to exit\n",
    "        \"\"\")\n",
    "        if user_input == \"1\":\n",
    "            self.create_pin()\n",
    "        elif user_input == \"2\":\n",
    "            self.deposit()\n",
    "        elif user_input == \"3\":\n",
    "            self.withdraw()\n",
    "        elif user_input == \"4\":\n",
    "            self.check_balance()\n",
    "        else:\n",
    "            print(\"Goodbye\")\n",
    "        \n",
    "    def create_pin(self):\n",
    "        self.__pin = input(\"Enter your pin: \")\n",
    "        print(\"Pin set successfully\")\n",
    "        \n",
    "    def deposit(self):\n",
    "        temp_pin = input(\"Enter your pin: \")\n",
    "        if temp_pin == self.__pin:\n",
    "            amount = float(input(\"Enter the amount to deposit: \"))\n",
    "            self.__balance += amount\n",
    "            print(\"Deposit successful\")\n",
    "        else:\n",
    "            print(\"Invalid pin\")\n",
    "    \n",
    "    def withdraw(self):\n",
    "        temp_pin = input(\"Enter your pin: \")\n",
    "        if temp_pin == self.__pin:\n",
    "            amount = float(input(\"Enter the amount to withdraw: \"))\n",
    "            if amount <= self.__balance:\n",
    "                self.__balance -= amount\n",
    "                print(\"Withdrawal successful\")\n",
    "            else:\n",
    "                print(\"Insufficient funds\")\n",
    "        else:\n",
    "            print(\"Invalid pin\")\n",
    "    \n",
    "    def check_balance(self):\n",
    "        temp_pin = input(\"Enter your pin: \")\n",
    "        if temp_pin == self.__pin:\n",
    "            print(\"Current balance:\", self.__balance)\n",
    "        else:\n",
    "            print(\"Invalid pin\")\n",
    "\n",
    "sbi = Atm()"
   ]
  },
  {
   "cell_type": "markdown",
   "id": "9daec8e8",
   "metadata": {},
   "source": [
    "* What happend behaind the seen when we use __ before variable or methods python convert it __ClassName__variable_name or __ClassName__method_name and store at a location in memory"
   ]
  },
  {
   "cell_type": "code",
   "execution_count": 53,
   "id": "bbca3fd1",
   "metadata": {},
   "outputs": [],
   "source": [
    "# in this case what happend it will create new variable with __balance and store the value in this variable there is no effect on private variable as will know private variable store on memory location with _classname__variable name\n",
    "sbi.__balance = \"asadsfbsdfgds\""
   ]
  },
  {
   "cell_type": "code",
   "execution_count": 55,
   "id": "2217b696",
   "metadata": {},
   "outputs": [
    {
     "name": "stdout",
     "output_type": "stream",
     "text": [
      "Enter your pin: 1234\n",
      "Enter the amount to deposit: 125000\n",
      "Deposit successful\n"
     ]
    }
   ],
   "source": [
    "sbi.deposit()"
   ]
  },
  {
   "cell_type": "code",
   "execution_count": 94,
   "id": "15b58bf9",
   "metadata": {},
   "outputs": [],
   "source": [
    "# But as we know private variable and methods store in memory using _ClassName__variable_name and methods _className__method_name \n",
    "# So if we know the class name variable name and methods name we can modify the data at private variable memory location and private methods memory location.\n",
    "\n",
    "class Atm:\n",
    "    def __init__(self):\n",
    "        self.__pin = \"\"\n",
    "        self.__balance = 0\n",
    "        self.__menu()\n",
    "    \n",
    "    def __menu(self):\n",
    "        user_input = input(\"\"\"\n",
    "                        Hello, How would you like to proceed?\n",
    "                        1. Enter 1 to create a pin\n",
    "                        2. Enter 2 to deposit\n",
    "                        3. Enter 3 to withdraw\n",
    "                        4. Enter 4 to check the balance\n",
    "                        5. Enter 5 to exit\n",
    "        \"\"\")\n",
    "        if user_input == \"1\":\n",
    "            self.create_pin()\n",
    "        elif user_input == \"2\":\n",
    "            self.deposit()\n",
    "        elif user_input == \"3\":\n",
    "            self.withdraw()\n",
    "        elif user_input == \"4\":\n",
    "            self.check_balance()\n",
    "        else:\n",
    "            print(\"Goodbye\")\n",
    "        \n",
    "    def create_pin(self):\n",
    "        self.__pin = input(\"Enter your pin: \")\n",
    "        print(\"Pin set successfully\")\n",
    "        \n",
    "    def deposit(self):\n",
    "        temp_pin = input(\"Enter your pin: \")\n",
    "        if temp_pin == self.__pin:\n",
    "            amount = float(input(\"Enter the amount to deposit: \"))\n",
    "            self.__balance += amount\n",
    "            print(\"Deposit successful\")\n",
    "        else:\n",
    "            print(\"Invalid pin\")\n",
    "    \n",
    "    def withdraw(self):\n",
    "        temp_pin = input(\"Enter your pin: \")\n",
    "        if temp_pin == self.__pin:\n",
    "            amount = float(input(\"Enter the amount to withdraw: \"))\n",
    "            if amount <= self.__balance:\n",
    "                self.__balance -= amount\n",
    "                print(\"Withdrawal successful\")\n",
    "            else:\n",
    "                print(\"Insufficient funds\")\n",
    "        else:\n",
    "            print(\"Invalid pin\")\n",
    "    \n",
    "    def check_balance(self):\n",
    "        temp_pin = input(\"Enter your pin: \")\n",
    "        if temp_pin == self.__pin:\n",
    "            print(\"Current balance:\", self.__balance)\n",
    "        else:\n",
    "            print(\"Invalid pin\")"
   ]
  },
  {
   "cell_type": "code",
   "execution_count": 95,
   "id": "17089322",
   "metadata": {},
   "outputs": [
    {
     "name": "stdout",
     "output_type": "stream",
     "text": [
      "\n",
      "                        Hello, How would you like to proceed?\n",
      "                        1. Enter 1 to create a pin\n",
      "                        2. Enter 2 to deposit\n",
      "                        3. Enter 3 to withdraw\n",
      "                        4. Enter 4 to check the balance\n",
      "                        5. Enter 5 to exit\n",
      "        1\n",
      "Enter your pin: 1234\n",
      "Pin set successfully\n"
     ]
    }
   ],
   "source": [
    "hdfc = Atm()"
   ]
  },
  {
   "cell_type": "code",
   "execution_count": 96,
   "id": "6669983d",
   "metadata": {},
   "outputs": [
    {
     "name": "stdout",
     "output_type": "stream",
     "text": [
      "Enter your pin: 1234\n",
      "Current balance: 0\n"
     ]
    }
   ],
   "source": [
    "hdfc.check_balance()"
   ]
  },
  {
   "cell_type": "code",
   "execution_count": 97,
   "id": "7e9d69e3",
   "metadata": {},
   "outputs": [
    {
     "name": "stdout",
     "output_type": "stream",
     "text": [
      "Enter your pin: 1234\n",
      "Enter the amount to deposit: 10000\n",
      "Deposit successful\n"
     ]
    }
   ],
   "source": [
    "hdfc.deposit()"
   ]
  },
  {
   "cell_type": "code",
   "execution_count": 98,
   "id": "ff79e09c",
   "metadata": {},
   "outputs": [
    {
     "name": "stdout",
     "output_type": "stream",
     "text": [
      "Enter your pin: 1234\n",
      "Current balance: 10000.0\n"
     ]
    }
   ],
   "source": [
    "hdfc.check_balance()"
   ]
  },
  {
   "cell_type": "code",
   "execution_count": 99,
   "id": "b516936f",
   "metadata": {},
   "outputs": [],
   "source": [
    "hdfc._Atm__balance = \"asadsdfgdfg\""
   ]
  },
  {
   "cell_type": "code",
   "execution_count": 100,
   "id": "3f010561",
   "metadata": {},
   "outputs": [
    {
     "name": "stdout",
     "output_type": "stream",
     "text": [
      "Enter your pin: 1234\n",
      "Enter the amount to deposit: 10000\n"
     ]
    },
    {
     "ename": "TypeError",
     "evalue": "can only concatenate str (not \"float\") to str",
     "output_type": "error",
     "traceback": [
      "\u001b[0;31m---------------------------------------------------------------------------\u001b[0m",
      "\u001b[0;31mTypeError\u001b[0m                                 Traceback (most recent call last)",
      "Cell \u001b[0;32mIn [100], line 1\u001b[0m\n\u001b[0;32m----> 1\u001b[0m \u001b[43mhdfc\u001b[49m\u001b[38;5;241;43m.\u001b[39;49m\u001b[43mdeposit\u001b[49m\u001b[43m(\u001b[49m\u001b[43m)\u001b[49m\n",
      "Cell \u001b[0;32mIn [94], line 38\u001b[0m, in \u001b[0;36mAtm.deposit\u001b[0;34m(self)\u001b[0m\n\u001b[1;32m     36\u001b[0m \u001b[38;5;28;01mif\u001b[39;00m temp_pin \u001b[38;5;241m==\u001b[39m \u001b[38;5;28mself\u001b[39m\u001b[38;5;241m.\u001b[39m__pin:\n\u001b[1;32m     37\u001b[0m     amount \u001b[38;5;241m=\u001b[39m \u001b[38;5;28mfloat\u001b[39m(\u001b[38;5;28minput\u001b[39m(\u001b[38;5;124m\"\u001b[39m\u001b[38;5;124mEnter the amount to deposit: \u001b[39m\u001b[38;5;124m\"\u001b[39m))\n\u001b[0;32m---> 38\u001b[0m     \u001b[38;5;28mself\u001b[39m\u001b[38;5;241m.\u001b[39m__balance \u001b[38;5;241m+\u001b[39m\u001b[38;5;241m=\u001b[39m amount\n\u001b[1;32m     39\u001b[0m     \u001b[38;5;28mprint\u001b[39m(\u001b[38;5;124m\"\u001b[39m\u001b[38;5;124mDeposit successful\u001b[39m\u001b[38;5;124m\"\u001b[39m)\n\u001b[1;32m     40\u001b[0m \u001b[38;5;28;01melse\u001b[39;00m:\n",
      "\u001b[0;31mTypeError\u001b[0m: can only concatenate str (not \"float\") to str"
     ]
    }
   ],
   "source": [
    "hdfc.deposit()"
   ]
  },
  {
   "cell_type": "code",
   "execution_count": 101,
   "id": "8e678e16",
   "metadata": {},
   "outputs": [
    {
     "name": "stdout",
     "output_type": "stream",
     "text": [
      "Enter your pin: 1234\n",
      "Current balance: asadsdfgdfg\n"
     ]
    }
   ],
   "source": [
    "hdfc.check_balance()"
   ]
  },
  {
   "cell_type": "markdown",
   "id": "df2b3525",
   "metadata": {},
   "source": [
    "* Nothing in python is truly private above example showing that\n",
    "* If you and your project partner working on same project he know all class and variable name he can modify the private variable values also"
   ]
  },
  {
   "cell_type": "code",
   "execution_count": 102,
   "id": "53ab7771",
   "metadata": {},
   "outputs": [],
   "source": [
    "# to see and change the private variable in methods we use getter and setter methods\n",
    "\n",
    "class Atm:\n",
    "    \n",
    "    def __init__(self):\n",
    "        self.__pin = \"\"\n",
    "        self.__balance = 0\n",
    "        self.__menu()\n",
    "        \n",
    "        \n",
    "    def get_pin(self):\n",
    "        return self.__pin\n",
    "    \n",
    "    \n",
    "    def set_pin(self,new_pin):\n",
    "        self.__pin = new_pin\n",
    "        print(\"pin changed\")\n",
    "    \n",
    "    def __menu(self):\n",
    "        user_input = input(\"\"\"\n",
    "                        Hello, How would you like to proceed?\n",
    "                        1. Enter 1 to create a pin\n",
    "                        2. Enter 2 to deposit\n",
    "                        3. Enter 3 to withdraw\n",
    "                        4. Enter 4 to check the balance\n",
    "                        5. Enter 5 to exit\n",
    "        \"\"\")\n",
    "        if user_input == \"1\":\n",
    "            self.create_pin()\n",
    "        elif user_input == \"2\":\n",
    "            self.deposit()\n",
    "        elif user_input == \"3\":\n",
    "            self.withdraw()\n",
    "        elif user_input == \"4\":\n",
    "            self.check_balance()\n",
    "        else:\n",
    "            print(\"Goodbye\")\n",
    "        \n",
    "    def create_pin(self):\n",
    "        self.__pin = input(\"Enter your pin: \")\n",
    "        print(\"Pin set successfully\")\n",
    "        \n",
    "    def deposit(self):\n",
    "        temp_pin = input(\"Enter your pin: \")\n",
    "        if temp_pin == self.__pin:\n",
    "            amount = float(input(\"Enter the amount to deposit: \"))\n",
    "            self.__balance += amount\n",
    "            print(\"Deposit successful\")\n",
    "        else:\n",
    "            print(\"Invalid pin\")\n",
    "    \n",
    "    def withdraw(self):\n",
    "        temp_pin = input(\"Enter your pin: \")\n",
    "        if temp_pin == self.__pin:\n",
    "            amount = float(input(\"Enter the amount to withdraw: \"))\n",
    "            if amount <= self.__balance:\n",
    "                self.__balance -= amount\n",
    "                print(\"Withdrawal successful\")\n",
    "            else:\n",
    "                print(\"Insufficient funds\")\n",
    "        else:\n",
    "            print(\"Invalid pin\")\n",
    "    \n",
    "    def check_balance(self):\n",
    "        temp_pin = input(\"Enter your pin: \")\n",
    "        if temp_pin == self.__pin:\n",
    "            print(\"Current balance:\", self.__balance)\n",
    "        else:\n",
    "            print(\"Invalid pin\")"
   ]
  },
  {
   "cell_type": "code",
   "execution_count": 103,
   "id": "a9e64d1c",
   "metadata": {},
   "outputs": [
    {
     "name": "stdout",
     "output_type": "stream",
     "text": [
      "\n",
      "                        Hello, How would you like to proceed?\n",
      "                        1. Enter 1 to create a pin\n",
      "                        2. Enter 2 to deposit\n",
      "                        3. Enter 3 to withdraw\n",
      "                        4. Enter 4 to check the balance\n",
      "                        5. Enter 5 to exit\n",
      "        1\n",
      "Enter your pin: 1234\n",
      "Pin set successfully\n"
     ]
    }
   ],
   "source": [
    "sbi = Atm()"
   ]
  },
  {
   "cell_type": "code",
   "execution_count": 104,
   "id": "6ad0a537",
   "metadata": {},
   "outputs": [
    {
     "data": {
      "text/plain": [
       "'1234'"
      ]
     },
     "execution_count": 104,
     "metadata": {},
     "output_type": "execute_result"
    }
   ],
   "source": [
    "sbi.get_pin()"
   ]
  },
  {
   "cell_type": "code",
   "execution_count": 106,
   "id": "29dd2a4e",
   "metadata": {},
   "outputs": [
    {
     "name": "stdout",
     "output_type": "stream",
     "text": [
      "pin changed\n"
     ]
    }
   ],
   "source": [
    "sbi.set_pin(\"Narendra\")"
   ]
  },
  {
   "cell_type": "code",
   "execution_count": 107,
   "id": "a34bb751",
   "metadata": {},
   "outputs": [
    {
     "data": {
      "text/plain": [
       "'Narendra'"
      ]
     },
     "execution_count": 107,
     "metadata": {},
     "output_type": "execute_result"
    }
   ],
   "source": [
    "sbi.get_pin()"
   ]
  },
  {
   "cell_type": "markdown",
   "id": "e1e798f5",
   "metadata": {},
   "source": [
    "* Again we are able to change the same pin using getter and setter methods then what is benfits of using getter and setter methods?\n",
    "\n",
    "* using getter and setter methods we can able to write our own logic for changing the value \n",
    "\n",
    "* in below exam there is logic for change in pin should be always numeric value"
   ]
  },
  {
   "cell_type": "code",
   "execution_count": 118,
   "id": "18438d61",
   "metadata": {},
   "outputs": [],
   "source": [
    "# to see and change the private variable in methods we use getter and setter methods\n",
    "\n",
    "class Atm:\n",
    "    \n",
    "    def __init__(self):\n",
    "        self.__pin = \"\"\n",
    "        self.__balance = 0\n",
    "        self.__menu()\n",
    "        \n",
    "        \n",
    "    def get_pin(self):\n",
    "        return self.__pin\n",
    "    \n",
    "    \n",
    "    def set_pin(self,new_pin):\n",
    "        if type(new_pin) == str:\n",
    "            self.__pin = new_pin\n",
    "            print(\"pin changed\")\n",
    "        else:\n",
    "            print(\"Not allowed\")\n",
    "            \n",
    "    \n",
    "    def __menu(self):\n",
    "        user_input = input(\"\"\"\n",
    "                        Hello, How would you like to proceed?\n",
    "                        1. Enter 1 to create a pin\n",
    "                        2. Enter 2 to deposit\n",
    "                        3. Enter 3 to withdraw\n",
    "                        4. Enter 4 to check the balance\n",
    "                        5. Enter 5 to exit\n",
    "        \"\"\")\n",
    "        if user_input == \"1\":\n",
    "            self.create_pin()\n",
    "        elif user_input == \"2\":\n",
    "            self.deposit()\n",
    "        elif user_input == \"3\":\n",
    "            self.withdraw()\n",
    "        elif user_input == \"4\":\n",
    "            self.check_balance()\n",
    "        else:\n",
    "            print(\"Goodbye\")\n",
    "        \n",
    "    def create_pin(self):\n",
    "        self.__pin = input(\"Enter your pin: \")\n",
    "        print(\"Pin set successfully\")\n",
    "        \n",
    "    def deposit(self):\n",
    "        temp_pin = input(\"Enter your pin: \")\n",
    "        if temp_pin == self.__pin:\n",
    "            amount = float(input(\"Enter the amount to deposit: \"))\n",
    "            self.__balance += amount\n",
    "            print(\"Deposit successful\")\n",
    "        else:\n",
    "            print(\"Invalid pin\")\n",
    "    \n",
    "    def withdraw(self):\n",
    "        temp_pin = input(\"Enter your pin: \")\n",
    "        if temp_pin == self.__pin:\n",
    "            amount = float(input(\"Enter the amount to withdraw: \"))\n",
    "            if amount <= self.__balance:\n",
    "                self.__balance -= amount\n",
    "                print(\"Withdrawal successful\")\n",
    "            else:\n",
    "                print(\"Insufficient funds\")\n",
    "        else:\n",
    "            print(\"Invalid pin\")\n",
    "    \n",
    "    def check_balance(self):\n",
    "        temp_pin = input(\"Enter your pin: \")\n",
    "        if temp_pin == self.__pin:\n",
    "            print(\"Current balance:\", self.__balance)\n",
    "        else:\n",
    "            print(\"Invalid pin\")"
   ]
  },
  {
   "cell_type": "code",
   "execution_count": 120,
   "id": "dbec9b5c",
   "metadata": {},
   "outputs": [
    {
     "name": "stdout",
     "output_type": "stream",
     "text": [
      "\n",
      "                        Hello, How would you like to proceed?\n",
      "                        1. Enter 1 to create a pin\n",
      "                        2. Enter 2 to deposit\n",
      "                        3. Enter 3 to withdraw\n",
      "                        4. Enter 4 to check the balance\n",
      "                        5. Enter 5 to exit\n",
      "        1\n",
      "Enter your pin: 1234\n",
      "Pin set successfully\n"
     ]
    }
   ],
   "source": [
    "hdfc = Atm()"
   ]
  },
  {
   "cell_type": "code",
   "execution_count": 121,
   "id": "fb6dbd17",
   "metadata": {},
   "outputs": [
    {
     "data": {
      "text/plain": [
       "'1234'"
      ]
     },
     "execution_count": 121,
     "metadata": {},
     "output_type": "execute_result"
    }
   ],
   "source": [
    "hdfc.get_pin()"
   ]
  },
  {
   "cell_type": "code",
   "execution_count": 122,
   "id": "bb31e82e",
   "metadata": {},
   "outputs": [
    {
     "name": "stdout",
     "output_type": "stream",
     "text": [
      "Not allowed\n"
     ]
    }
   ],
   "source": [
    "hdfc.set_pin(4.5)"
   ]
  },
  {
   "cell_type": "code",
   "execution_count": 123,
   "id": "1ed36c35",
   "metadata": {},
   "outputs": [
    {
     "name": "stdout",
     "output_type": "stream",
     "text": [
      "pin changed\n"
     ]
    }
   ],
   "source": [
    "hdfc.set_pin(\"12345\")"
   ]
  },
  {
   "cell_type": "code",
   "execution_count": 124,
   "id": "ff81c4dc",
   "metadata": {},
   "outputs": [
    {
     "data": {
      "text/plain": [
       "'12345'"
      ]
     },
     "execution_count": 124,
     "metadata": {},
     "output_type": "execute_result"
    }
   ],
   "source": [
    "hdfc.get_pin()"
   ]
  },
  {
   "cell_type": "code",
   "execution_count": 125,
   "id": "91e5a516",
   "metadata": {},
   "outputs": [],
   "source": [
    "# Referance varable \n",
    "\n",
    "class Atm:\n",
    "    \n",
    "    def __init__(self):\n",
    "        self.__pin = \"\"\n",
    "        self.__balance = 0\n",
    "        self.__menu()\n",
    "        \n",
    "        \n",
    "    def get_pin(self):\n",
    "        return self.__pin\n",
    "    \n",
    "    \n",
    "    def set_pin(self,new_pin):\n",
    "        if type(new_pin) == str:\n",
    "            self.__pin = new_pin\n",
    "            print(\"pin changed\")\n",
    "        else:\n",
    "            print(\"Not allowed\")\n",
    "            \n",
    "    \n",
    "    def __menu(self):\n",
    "        user_input = input(\"\"\"\n",
    "                        Hello, How would you like to proceed?\n",
    "                        1. Enter 1 to create a pin\n",
    "                        2. Enter 2 to deposit\n",
    "                        3. Enter 3 to withdraw\n",
    "                        4. Enter 4 to check the balance\n",
    "                        5. Enter 5 to exit\n",
    "        \"\"\")\n",
    "        if user_input == \"1\":\n",
    "            self.create_pin()\n",
    "        elif user_input == \"2\":\n",
    "            self.deposit()\n",
    "        elif user_input == \"3\":\n",
    "            self.withdraw()\n",
    "        elif user_input == \"4\":\n",
    "            self.check_balance()\n",
    "        else:\n",
    "            print(\"Goodbye\")\n",
    "        \n",
    "    def create_pin(self):\n",
    "        self.__pin = input(\"Enter your pin: \")\n",
    "        print(\"Pin set successfully\")\n",
    "        \n",
    "    def deposit(self):\n",
    "        temp_pin = input(\"Enter your pin: \")\n",
    "        if temp_pin == self.__pin:\n",
    "            amount = float(input(\"Enter the amount to deposit: \"))\n",
    "            self.__balance += amount\n",
    "            print(\"Deposit successful\")\n",
    "        else:\n",
    "            print(\"Invalid pin\")\n",
    "    \n",
    "    def withdraw(self):\n",
    "        temp_pin = input(\"Enter your pin: \")\n",
    "        if temp_pin == self.__pin:\n",
    "            amount = float(input(\"Enter the amount to withdraw: \"))\n",
    "            if amount <= self.__balance:\n",
    "                self.__balance -= amount\n",
    "                print(\"Withdrawal successful\")\n",
    "            else:\n",
    "                print(\"Insufficient funds\")\n",
    "        else:\n",
    "            print(\"Invalid pin\")\n",
    "    \n",
    "    def check_balance(self):\n",
    "        temp_pin = input(\"Enter your pin: \")\n",
    "        if temp_pin == self.__pin:\n",
    "            print(\"Current balance:\", self.__balance)\n",
    "        else:\n",
    "            print(\"Invalid pin\")"
   ]
  },
  {
   "cell_type": "code",
   "execution_count": 126,
   "id": "f9519312",
   "metadata": {},
   "outputs": [
    {
     "name": "stdout",
     "output_type": "stream",
     "text": [
      "\n",
      "                        Hello, How would you like to proceed?\n",
      "                        1. Enter 1 to create a pin\n",
      "                        2. Enter 2 to deposit\n",
      "                        3. Enter 3 to withdraw\n",
      "                        4. Enter 4 to check the balance\n",
      "                        5. Enter 5 to exit\n",
      "        1\n",
      "Enter your pin: 1234\n",
      "Pin set successfully\n"
     ]
    }
   ],
   "source": [
    "# The Variable which is used to store the object crefrance called refrence varable \n",
    "# here Atm()is object and sbi is variable holding the refrence of Atm() object so sbi is refrance variable\n",
    "\n",
    "sbi = Atm()"
   ]
  },
  {
   "cell_type": "code",
   "execution_count": null,
   "id": "cd51f598",
   "metadata": {},
   "outputs": [],
   "source": [
    "# Pass By refrence \n",
    "\n"
   ]
  }
 ],
 "metadata": {
  "kernelspec": {
   "display_name": "Python 3",
   "language": "python",
   "name": "python3"
  },
  "language_info": {
   "codemirror_mode": {
    "name": "ipython",
    "version": 3
   },
   "file_extension": ".py",
   "mimetype": "text/x-python",
   "name": "python",
   "nbconvert_exporter": "python",
   "pygments_lexer": "ipython3",
   "version": "3.8.8"
  }
 },
 "nbformat": 4,
 "nbformat_minor": 5
}
