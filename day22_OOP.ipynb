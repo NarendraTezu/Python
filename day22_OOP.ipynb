{
 "cells": [
  {
   "cell_type": "code",
   "execution_count": 1,
   "id": "a35f8db7",
   "metadata": {},
   "outputs": [],
   "source": [
    "# __init__ is a constructor in python its mean when we careate a object of the class constructor will call autometically\n",
    "class Atm:\n",
    "    # constructor\n",
    "    \n",
    "    def __init__(self):\n",
    "        \n",
    "        print(\"Hello\")\n",
    "    \n",
    "    def menu(self):\n",
    "        pass\n",
    "        "
   ]
  },
  {
   "cell_type": "code",
   "execution_count": 2,
   "id": "d314f979",
   "metadata": {},
   "outputs": [
    {
     "name": "stdout",
     "output_type": "stream",
     "text": [
      "Hello\n"
     ]
    }
   ],
   "source": [
    "# creating object of ATM class\n",
    "ptr = Atm()"
   ]
  },
  {
   "cell_type": "code",
   "execution_count": 3,
   "id": "8b578b28",
   "metadata": {},
   "outputs": [],
   "source": [
    "class Atm:\n",
    "    # constructor\n",
    "    def __init__(self):\n",
    "        self.pin = \"\"\n",
    "        self.balance = 0\n",
    "        self.menu()\n",
    "    \n",
    "    def menu(self):\n",
    "        user_input = input(\"\"\"\n",
    "                        Hello, How would you like to proceed?\n",
    "                        1. Enter 1 to create a pin\n",
    "                        2. Enter 2 to deposit\n",
    "                        3. Enter 3 to withdraw\n",
    "                        4. Enter 4 to check the balance\n",
    "                        5. Enter 5 to exit\n",
    "        \"\"\")\n",
    "        if user_input == \"1\":\n",
    "            self.create_pin()\n",
    "        elif user_input == \"2\":\n",
    "            self.deposit()\n",
    "        elif user_input == \"3\":\n",
    "            self.withdraw()\n",
    "        elif user_input == \"4\":\n",
    "            self.check_balance()\n",
    "        else:\n",
    "            print(\"Goodbye\")\n",
    "        \n",
    "    def create_pin(self):\n",
    "        self.pin = input(\"Enter your pin: \")\n",
    "        print(\"Pin set successfully\")\n",
    "        \n",
    "    def deposit(self):\n",
    "        temp_pin = input(\"Enter your pin: \")\n",
    "        if temp_pin == self.pin:\n",
    "            amount = float(input(\"Enter the amount to deposit: \"))\n",
    "            self.balance += amount\n",
    "            print(\"Deposit successful\")\n",
    "        else:\n",
    "            print(\"Invalid pin\")\n",
    "    \n",
    "    def withdraw(self):\n",
    "        temp_pin = input(\"Enter your pin: \")\n",
    "        if temp_pin == self.pin:\n",
    "            amount = float(input(\"Enter the amount to withdraw: \"))\n",
    "            if amount <= self.balance:\n",
    "                self.balance -= amount\n",
    "                print(\"Withdrawal successful\")\n",
    "            else:\n",
    "                print(\"Insufficient funds\")\n",
    "        else:\n",
    "            print(\"Invalid pin\")\n",
    "    \n",
    "    def check_balance(self):\n",
    "        temp_pin = input(\"Enter your pin: \")\n",
    "        if temp_pin == self.pin:\n",
    "            print(\"Current balance: \", self.balance)\n",
    "        else:\n",
    "            print(\"Invalid pin\")"
   ]
  },
  {
   "cell_type": "code",
   "execution_count": 4,
   "id": "e06900d0",
   "metadata": {},
   "outputs": [
    {
     "name": "stdout",
     "output_type": "stream",
     "text": [
      "\n",
      "                        Hello, How would you like to proceed?\n",
      "                        1. Enter 1 to create a pin\n",
      "                        2. Enter 2 to deposit\n",
      "                        3. Enter 3 to withdraw\n",
      "                        4. Enter 4 to check the balance\n",
      "                        5. Enter 5 to exit\n",
      "        123\n",
      "Goodbye\n"
     ]
    }
   ],
   "source": [
    "sbi = Atm()"
   ]
  },
  {
   "cell_type": "code",
   "execution_count": 5,
   "id": "12110d80",
   "metadata": {},
   "outputs": [
    {
     "name": "stdout",
     "output_type": "stream",
     "text": [
      "Enter your pin: 1234\n",
      "Invalid pin\n"
     ]
    }
   ],
   "source": [
    "sbi.deposit()"
   ]
  },
  {
   "cell_type": "code",
   "execution_count": 6,
   "id": "5ea464c4",
   "metadata": {},
   "outputs": [
    {
     "name": "stdout",
     "output_type": "stream",
     "text": [
      "Enter your pin: 1200\n",
      "Invalid pin\n"
     ]
    }
   ],
   "source": [
    "sbi.check_balance()"
   ]
  },
  {
   "cell_type": "code",
   "execution_count": 7,
   "id": "b7e7f720",
   "metadata": {},
   "outputs": [
    {
     "name": "stdout",
     "output_type": "stream",
     "text": [
      "Enter your pin: 1234\n",
      "Invalid pin\n"
     ]
    }
   ],
   "source": [
    "sbi.withdraw()"
   ]
  },
  {
   "cell_type": "code",
   "execution_count": 8,
   "id": "c8978690",
   "metadata": {},
   "outputs": [
    {
     "name": "stdout",
     "output_type": "stream",
     "text": [
      "Enter your pin: 1234\n",
      "Invalid pin\n"
     ]
    }
   ],
   "source": [
    "sbi.check_balance()"
   ]
  },
  {
   "cell_type": "code",
   "execution_count": 9,
   "id": "1e7f4bbc",
   "metadata": {},
   "outputs": [
    {
     "name": "stdout",
     "output_type": "stream",
     "text": [
      "Enter your pin: 1234\n",
      "Invalid pin\n"
     ]
    }
   ],
   "source": [
    "sbi.withdraw()"
   ]
  },
  {
   "cell_type": "code",
   "execution_count": 10,
   "id": "1533c8f4",
   "metadata": {},
   "outputs": [
    {
     "name": "stdout",
     "output_type": "stream",
     "text": [
      "Enter your pin: 123\n",
      "Invalid pin\n"
     ]
    }
   ],
   "source": [
    "sbi.withdraw()"
   ]
  },
  {
   "cell_type": "code",
   "execution_count": 11,
   "id": "279c25dc",
   "metadata": {},
   "outputs": [],
   "source": [
    "# How to create our own datatype in python \n",
    "# Here we will create fraction data type \n",
    "\n",
    "class Fraction:\n",
    "    \n",
    "    def __init__(self, n, d):\n",
    "        self.num = n\n",
    "        self.den = d\n",
    "        \n",
    "    def __str__(self):\n",
    "        return \"Hello\""
   ]
  },
  {
   "cell_type": "code",
   "execution_count": 12,
   "id": "50fe4cf1",
   "metadata": {},
   "outputs": [],
   "source": [
    "x = Fraction(2,4)"
   ]
  },
  {
   "cell_type": "code",
   "execution_count": 13,
   "id": "9a385106",
   "metadata": {},
   "outputs": [
    {
     "data": {
      "text/plain": [
       "__main__.Fraction"
      ]
     },
     "execution_count": 13,
     "metadata": {},
     "output_type": "execute_result"
    }
   ],
   "source": [
    "type(x)"
   ]
  },
  {
   "cell_type": "code",
   "execution_count": 14,
   "id": "4e4be633",
   "metadata": {},
   "outputs": [
    {
     "name": "stdout",
     "output_type": "stream",
     "text": [
      "Hello\n"
     ]
    }
   ],
   "source": [
    "# __str__ It is a magic method when we type to print any object of the class in Python it will search __str__ methods and execute the code of __str__ methods \n",
    "\n",
    "print(x)"
   ]
  },
  {
   "cell_type": "code",
   "execution_count": 15,
   "id": "7a6afa88",
   "metadata": {},
   "outputs": [],
   "source": [
    "# How to create our own datatype in python \n",
    "# Here we will create fraction data type \n",
    "\n",
    "class Fraction:\n",
    "    \n",
    "    def __init__(self, n, d):\n",
    "        self.num = n\n",
    "        self.den = d\n",
    "        \n",
    "    def __str__(self):\n",
    "        return \"{}/{}\".format(self.num,self.den)"
   ]
  },
  {
   "cell_type": "code",
   "execution_count": 16,
   "id": "d9ffa3dd",
   "metadata": {},
   "outputs": [
    {
     "name": "stdout",
     "output_type": "stream",
     "text": [
      "5/7\n"
     ]
    }
   ],
   "source": [
    "# We can print out created data type\n",
    "y = Fraction(5,7)\n",
    "\n",
    "print(y)"
   ]
  },
  {
   "cell_type": "code",
   "execution_count": 17,
   "id": "1620cc74",
   "metadata": {},
   "outputs": [],
   "source": [
    "# How to create our own datatype in python \n",
    "# Here we will create fraction data type \n",
    "# We will create our own addition methods __add__ for fraction\n",
    "\n",
    "class Fraction:\n",
    "    \n",
    "    def __init__(self, n, d):\n",
    "        self.num = n\n",
    "        self.den = d\n",
    "        \n",
    "    def __str__(self):\n",
    "        return \"{}/{}\".format(self.num,self.den)\n",
    "    \n",
    "    def __add__(self,other):\n",
    "        temp_num = self.num*other.den + other.num*self.den\n",
    "        temp_den = self.den*other.den\n",
    "        return \"{}/{}\".format(temp_num,temp_den)"
   ]
  },
  {
   "cell_type": "code",
   "execution_count": 18,
   "id": "b655b6ee",
   "metadata": {},
   "outputs": [],
   "source": [
    "z = Fraction(3,4)\n",
    "a = Fraction(2,6)"
   ]
  },
  {
   "cell_type": "code",
   "execution_count": 19,
   "id": "897d60a2",
   "metadata": {},
   "outputs": [
    {
     "data": {
      "text/plain": [
       "'26/24'"
      ]
     },
     "execution_count": 19,
     "metadata": {},
     "output_type": "execute_result"
    }
   ],
   "source": [
    "a + z"
   ]
  },
  {
   "cell_type": "code",
   "execution_count": 20,
   "id": "ea6b1711",
   "metadata": {},
   "outputs": [],
   "source": [
    "# How to create our own datatype in python \n",
    "# Here we will create fraction data type \n",
    "# We will create our own substaction methods __sub__ for fraction\n",
    "\n",
    "class Fraction:\n",
    "    \n",
    "    def __init__(self, n, d):\n",
    "        self.num = n\n",
    "        self.den = d\n",
    "        \n",
    "    def __str__(self):\n",
    "        return \"{}/{}\".format(self.num,self.den)\n",
    "    \n",
    "    def __sub__(self,other):\n",
    "        temp_num = self.num*other.den - other.num*self.den\n",
    "        temp_den = self.den*other.den\n",
    "        return \"{}/{}\".format(temp_num,temp_den)"
   ]
  },
  {
   "cell_type": "code",
   "execution_count": 21,
   "id": "b4911162",
   "metadata": {},
   "outputs": [],
   "source": [
    "p = Fraction(3,6)\n",
    "q = Fraction(1,4)"
   ]
  },
  {
   "cell_type": "code",
   "execution_count": 22,
   "id": "3ed61d89",
   "metadata": {},
   "outputs": [
    {
     "data": {
      "text/plain": [
       "'6/24'"
      ]
     },
     "execution_count": 22,
     "metadata": {},
     "output_type": "execute_result"
    }
   ],
   "source": [
    "p - q"
   ]
  },
  {
   "cell_type": "code",
   "execution_count": 23,
   "id": "0f297c02",
   "metadata": {},
   "outputs": [],
   "source": [
    "# How to create our own datatype in python \n",
    "# Here we will create fraction data type \n",
    "# We will create our own multiplication methods __mul__ for fraction\n",
    "\n",
    "class Fraction:\n",
    "    \n",
    "    def __init__(self, n, d):\n",
    "        self.num = n\n",
    "        self.den = d\n",
    "        \n",
    "    def __str__(self):\n",
    "        return \"{}/{}\".format(self.num,self.den)\n",
    "    \n",
    "    def __mul__(self,other):\n",
    "        temp_num = self.num*other.num\n",
    "        temp_den = self.den*other.den\n",
    "        return \"{}/{}\".format(temp_num,temp_den)"
   ]
  },
  {
   "cell_type": "code",
   "execution_count": 24,
   "id": "c41b6425",
   "metadata": {},
   "outputs": [],
   "source": [
    "p = Fraction(3,6)\n",
    "q = Fraction(1,4)"
   ]
  },
  {
   "cell_type": "code",
   "execution_count": 25,
   "id": "567cf95d",
   "metadata": {},
   "outputs": [
    {
     "data": {
      "text/plain": [
       "'3/24'"
      ]
     },
     "execution_count": 25,
     "metadata": {},
     "output_type": "execute_result"
    }
   ],
   "source": [
    "p*q"
   ]
  },
  {
   "cell_type": "code",
   "execution_count": 26,
   "id": "b7d31f98",
   "metadata": {},
   "outputs": [],
   "source": [
    "# How to create our own datatype in python \n",
    "# Here we will create fraction data type \n",
    "# We will create our own division methods __truediv__ for fraction\n",
    "\n",
    "class Fraction:\n",
    "    \n",
    "    def __init__(self, n, d):\n",
    "        self.num = n\n",
    "        self.den = d\n",
    "        \n",
    "    def __str__(self):\n",
    "        return \"{}/{}\".format(self.num,self.den)\n",
    "    \n",
    "    def __truediv__(self,other):\n",
    "        temp_num = self.num*other.den\n",
    "        temp_den = self.den*other.num\n",
    "        return \"{}/{}\".format(temp_num,temp_den)"
   ]
  },
  {
   "cell_type": "code",
   "execution_count": 27,
   "id": "be718f6a",
   "metadata": {},
   "outputs": [],
   "source": [
    "p = Fraction(3,6)\n",
    "q = Fraction(1,4)"
   ]
  },
  {
   "cell_type": "code",
   "execution_count": 28,
   "id": "73f35060",
   "metadata": {},
   "outputs": [
    {
     "data": {
      "text/plain": [
       "'12/6'"
      ]
     },
     "execution_count": 28,
     "metadata": {},
     "output_type": "execute_result"
    }
   ],
   "source": [
    "p/q"
   ]
  },
  {
   "cell_type": "code",
   "execution_count": 29,
   "id": "1ed037ce",
   "metadata": {},
   "outputs": [],
   "source": [
    "# How to create our own datatype in python \n",
    "# Here we will create fraction data type \n",
    "# We will create our own addition methods __add__ , __sub__ , __mul__ , __truediv__ for fraction operations\n",
    "\n",
    "class Fraction:\n",
    "    \n",
    "    def __init__(self, n, d):\n",
    "        self.num = n\n",
    "        self.den = d\n",
    "        \n",
    "    def __str__(self):\n",
    "        return \"{}/{}\".format(self.num,self.den)\n",
    "    \n",
    "    def __add__(self,other):\n",
    "        temp_num = self.num*other.den + other.num*self.den\n",
    "        temp_den = self.den*other.den\n",
    "        return \"{}/{}\".format(temp_num,temp_den)\n",
    "    \n",
    "    def __sub__(self,other):\n",
    "        temp_num = self.num*other.den - other.num*self.den\n",
    "        temp_den = self.den*other.den\n",
    "        return \"{}/{}\".format(temp_num,temp_den)\n",
    "    \n",
    "    def __mul__(self,other):\n",
    "        temp_num = self.num*other.num\n",
    "        temp_den = self.den*other.den\n",
    "        return \"{}/{}\".format(temp_num,temp_den)\n",
    "    \n",
    "    \n",
    "    def __truediv__(self,other):\n",
    "        temp_num = self.num*other.den\n",
    "        temp_den = self.den*other.num\n",
    "        return \"{}/{}\".format(temp_num,temp_den)"
   ]
  },
  {
   "cell_type": "code",
   "execution_count": 30,
   "id": "10d1fb64",
   "metadata": {},
   "outputs": [],
   "source": [
    "p = Fraction(3,6)\n",
    "q = Fraction(1,4)"
   ]
  },
  {
   "cell_type": "code",
   "execution_count": 31,
   "id": "c2bdcf34",
   "metadata": {},
   "outputs": [
    {
     "data": {
      "text/plain": [
       "'18/24'"
      ]
     },
     "execution_count": 31,
     "metadata": {},
     "output_type": "execute_result"
    }
   ],
   "source": [
    "p+q"
   ]
  },
  {
   "cell_type": "code",
   "execution_count": 32,
   "id": "2b7a3edd",
   "metadata": {},
   "outputs": [
    {
     "data": {
      "text/plain": [
       "'6/24'"
      ]
     },
     "execution_count": 32,
     "metadata": {},
     "output_type": "execute_result"
    }
   ],
   "source": [
    "p-q"
   ]
  },
  {
   "cell_type": "code",
   "execution_count": 33,
   "id": "5a935c1b",
   "metadata": {},
   "outputs": [
    {
     "data": {
      "text/plain": [
       "'3/24'"
      ]
     },
     "execution_count": 33,
     "metadata": {},
     "output_type": "execute_result"
    }
   ],
   "source": [
    "p*q"
   ]
  },
  {
   "cell_type": "code",
   "execution_count": 34,
   "id": "d879fa06",
   "metadata": {},
   "outputs": [
    {
     "data": {
      "text/plain": [
       "'12/6'"
      ]
     },
     "execution_count": 34,
     "metadata": {},
     "output_type": "execute_result"
    }
   ],
   "source": [
    "p/q"
   ]
  },
  {
   "cell_type": "code",
   "execution_count": 35,
   "id": "7dc755f7",
   "metadata": {},
   "outputs": [],
   "source": [
    "# Instance Variable \n",
    "# All variable defined in __init__ methods (constructor) is called instance variable, the instance variable value will be different for each object \n",
    "# here pin and balance is instance variable\n",
    "\n",
    "class Atm:\n",
    "    # constructor\n",
    "    def __init__(self):\n",
    "        self.pin = \"\"\n",
    "        self.balance = 0\n",
    "        self.menu()\n",
    "    \n",
    "    def menu(self):\n",
    "        user_input = input(\"\"\"\n",
    "                        Hello, How would you like to proceed?\n",
    "                        1. Enter 1 to create a pin\n",
    "                        2. Enter 2 to deposit\n",
    "                        3. Enter 3 to withdraw\n",
    "                        4. Enter 4 to check the balance\n",
    "                        5. Enter 5 to exit\n",
    "        \"\"\")\n",
    "        if user_input == \"1\":\n",
    "            self.create_pin()\n",
    "        elif user_input == \"2\":\n",
    "            self.deposit()\n",
    "        elif user_input == \"3\":\n",
    "            self.withdraw()\n",
    "        elif user_input == \"4\":\n",
    "            self.check_balance()\n",
    "        else:\n",
    "            print(\"Goodbye\")\n",
    "        \n",
    "    def create_pin(self):\n",
    "        self.pin = input(\"Enter your pin: \")\n",
    "        print(\"Pin set successfully\")\n",
    "        \n",
    "    def deposit(self):\n",
    "        temp_pin = input(\"Enter your pin: \")\n",
    "        if temp_pin == self.pin:\n",
    "            amount = float(input(\"Enter the amount to deposit: \"))\n",
    "            self.balance += amount\n",
    "            print(\"Deposit successful\")\n",
    "        else:\n",
    "            print(\"Invalid pin\")\n",
    "    \n",
    "    def withdraw(self):\n",
    "        temp_pin = input(\"Enter your pin: \")\n",
    "        if temp_pin == self.pin:\n",
    "            amount = float(input(\"Enter the amount to withdraw: \"))\n",
    "            if amount <= self.balance:\n",
    "                self.balance -= amount\n",
    "                print(\"Withdrawal successful\")\n",
    "            else:\n",
    "                print(\"Insufficient funds\")\n",
    "        else:\n",
    "            print(\"Invalid pin\")\n",
    "    \n",
    "    def check_balance(self):\n",
    "        temp_pin = input(\"Enter your pin: \")\n",
    "        if temp_pin == self.pin:\n",
    "            print(\"Current balance: \", self.balance)\n",
    "        else:\n",
    "            print(\"Invalid pin\")"
   ]
  },
  {
   "cell_type": "code",
   "execution_count": 36,
   "id": "cfaac593",
   "metadata": {},
   "outputs": [],
   "source": [
    "# Nothing is truly private in python"
   ]
  },
  {
   "cell_type": "code",
   "execution_count": 37,
   "id": "73622a2f",
   "metadata": {},
   "outputs": [
    {
     "name": "stdout",
     "output_type": "stream",
     "text": [
      "\n",
      "                        Hello, How would you like to proceed?\n",
      "                        1. Enter 1 to create a pin\n",
      "                        2. Enter 2 to deposit\n",
      "                        3. Enter 3 to withdraw\n",
      "                        4. Enter 4 to check the balance\n",
      "                        5. Enter 5 to exit\n",
      "        1\n",
      "Enter your pin: 123\n",
      "Pin set successfully\n"
     ]
    }
   ],
   "source": [
    "sbi = Atm()"
   ]
  },
  {
   "cell_type": "code",
   "execution_count": 40,
   "id": "a0e925eb",
   "metadata": {},
   "outputs": [
    {
     "data": {
      "text/plain": [
       "'asdf'"
      ]
     },
     "execution_count": 40,
     "metadata": {},
     "output_type": "execute_result"
    }
   ],
   "source": [
    "# Every variable and methods are accessable so we can change the value of varable\n",
    "sbi.balance"
   ]
  },
  {
   "cell_type": "code",
   "execution_count": 41,
   "id": "48aa8185",
   "metadata": {},
   "outputs": [],
   "source": [
    "sbi.balance = \"asdf\""
   ]
  },
  {
   "cell_type": "code",
   "execution_count": 46,
   "id": "fd4c5749",
   "metadata": {},
   "outputs": [
    {
     "ename": "TypeError",
     "evalue": "deposit() takes 1 positional argument but 2 were given",
     "output_type": "error",
     "traceback": [
      "\u001b[0;31m---------------------------------------------------------------------------\u001b[0m",
      "\u001b[0;31mTypeError\u001b[0m                                 Traceback (most recent call last)",
      "Cell \u001b[0;32mIn [46], line 2\u001b[0m\n\u001b[1;32m      1\u001b[0m \u001b[38;5;66;03m# that is not good practice to open our data openly otherwise any one can access and modify\u001b[39;00m\n\u001b[0;32m----> 2\u001b[0m \u001b[43msbi\u001b[49m\u001b[38;5;241;43m.\u001b[39;49m\u001b[43mdeposit\u001b[49m\u001b[43m(\u001b[49m\u001b[38;5;241;43m2500\u001b[39;49m\u001b[43m)\u001b[49m\n",
      "\u001b[0;31mTypeError\u001b[0m: deposit() takes 1 positional argument but 2 were given"
     ]
    }
   ],
   "source": [
    "# that is not good practice to open our data openly otherwise any one can access and modify\n",
    "sbi.deposit(2500)"
   ]
  },
  {
   "cell_type": "code",
   "execution_count": 47,
   "id": "57958a66",
   "metadata": {},
   "outputs": [
    {
     "name": "stdout",
     "output_type": "stream",
     "text": [
      "\n",
      "                        Hello, How would you like to proceed?\n",
      "                        1. Enter 1 to create a pin\n",
      "                        2. Enter 2 to deposit\n",
      "                        3. Enter 3 to withdraw\n",
      "                        4. Enter 4 to check the balance\n",
      "                        5. Enter 5 to exit\n",
      "        1\n",
      "Enter your pin: 1234\n",
      "Pin set successfully\n"
     ]
    }
   ],
   "source": [
    "# using __ befor the variable and methods we can hide our variable from user \n",
    "class Atm:\n",
    "    def __init__(self):\n",
    "        self.__pin = \"\"\n",
    "        self.__balance = 0\n",
    "        self.menu()\n",
    "    \n",
    "    def menu(self):\n",
    "        user_input = input(\"\"\"\n",
    "                        Hello, How would you like to proceed?\n",
    "                        1. Enter 1 to create a pin\n",
    "                        2. Enter 2 to deposit\n",
    "                        3. Enter 3 to withdraw\n",
    "                        4. Enter 4 to check the balance\n",
    "                        5. Enter 5 to exit\n",
    "        \"\"\")\n",
    "        if user_input == \"1\":\n",
    "            self.create_pin()\n",
    "        elif user_input == \"2\":\n",
    "            self.deposit()\n",
    "        elif user_input == \"3\":\n",
    "            self.withdraw()\n",
    "        elif user_input == \"4\":\n",
    "            self.check_balance()\n",
    "        else:\n",
    "            print(\"Goodbye\")\n",
    "        \n",
    "    def create_pin(self):\n",
    "        self.__pin = input(\"Enter your pin: \")\n",
    "        print(\"Pin set successfully\")\n",
    "        \n",
    "    def deposit(self):\n",
    "        temp_pin = input(\"Enter your pin: \")\n",
    "        if temp_pin == self.__pin:\n",
    "            amount = float(input(\"Enter the amount to deposit: \"))\n",
    "            self.__balance += amount\n",
    "            print(\"Deposit successful\")\n",
    "        else:\n",
    "            print(\"Invalid pin\")\n",
    "    \n",
    "    def withdraw(self):\n",
    "        temp_pin = input(\"Enter your pin: \")\n",
    "        if temp_pin == self.__pin:\n",
    "            amount = float(input(\"Enter the amount to withdraw: \"))\n",
    "            if amount <= self.__balance:\n",
    "                self.__balance -= amount\n",
    "                print(\"Withdrawal successful\")\n",
    "            else:\n",
    "                print(\"Insufficient funds\")\n",
    "        else:\n",
    "            print(\"Invalid pin\")\n",
    "    \n",
    "    def check_balance(self):\n",
    "        temp_pin = input(\"Enter your pin: \")\n",
    "        if temp_pin == self.__pin:\n",
    "            print(\"Current balance:\", self.__balance)\n",
    "        else:\n",
    "            print(\"Invalid pin\")\n",
    "\n",
    "sbi = Atm()"
   ]
  },
  {
   "cell_type": "code",
   "execution_count": 52,
   "id": "e09cae6f",
   "metadata": {},
   "outputs": [
    {
     "name": "stdout",
     "output_type": "stream",
     "text": [
      "\n",
      "                        Hello, How would you like to proceed?\n",
      "                        1. Enter 1 to create a pin\n",
      "                        2. Enter 2 to deposit\n",
      "                        3. Enter 3 to withdraw\n",
      "                        4. Enter 4 to check the balance\n",
      "                        5. Enter 5 to exit\n",
      "        1\n",
      "Enter your pin: 1234\n",
      "Pin set successfully\n"
     ]
    }
   ],
   "source": [
    "# using __ befor the methods we can hide our methods from user \n",
    "\n",
    "class Atm:\n",
    "    def __init__(self):\n",
    "        self.__pin = \"\"\n",
    "        self.__balance = 0\n",
    "        self.__menu()\n",
    "    \n",
    "    def __menu(self):\n",
    "        user_input = input(\"\"\"\n",
    "                        Hello, How would you like to proceed?\n",
    "                        1. Enter 1 to create a pin\n",
    "                        2. Enter 2 to deposit\n",
    "                        3. Enter 3 to withdraw\n",
    "                        4. Enter 4 to check the balance\n",
    "                        5. Enter 5 to exit\n",
    "        \"\"\")\n",
    "        if user_input == \"1\":\n",
    "            self.create_pin()\n",
    "        elif user_input == \"2\":\n",
    "            self.deposit()\n",
    "        elif user_input == \"3\":\n",
    "            self.withdraw()\n",
    "        elif user_input == \"4\":\n",
    "            self.check_balance()\n",
    "        else:\n",
    "            print(\"Goodbye\")\n",
    "        \n",
    "    def create_pin(self):\n",
    "        self.__pin = input(\"Enter your pin: \")\n",
    "        print(\"Pin set successfully\")\n",
    "        \n",
    "    def deposit(self):\n",
    "        temp_pin = input(\"Enter your pin: \")\n",
    "        if temp_pin == self.__pin:\n",
    "            amount = float(input(\"Enter the amount to deposit: \"))\n",
    "            self.__balance += amount\n",
    "            print(\"Deposit successful\")\n",
    "        else:\n",
    "            print(\"Invalid pin\")\n",
    "    \n",
    "    def withdraw(self):\n",
    "        temp_pin = input(\"Enter your pin: \")\n",
    "        if temp_pin == self.__pin:\n",
    "            amount = float(input(\"Enter the amount to withdraw: \"))\n",
    "            if amount <= self.__balance:\n",
    "                self.__balance -= amount\n",
    "                print(\"Withdrawal successful\")\n",
    "            else:\n",
    "                print(\"Insufficient funds\")\n",
    "        else:\n",
    "            print(\"Invalid pin\")\n",
    "    \n",
    "    def check_balance(self):\n",
    "        temp_pin = input(\"Enter your pin: \")\n",
    "        if temp_pin == self.__pin:\n",
    "            print(\"Current balance:\", self.__balance)\n",
    "        else:\n",
    "            print(\"Invalid pin\")\n",
    "\n",
    "sbi = Atm()"
   ]
  },
  {
   "cell_type": "markdown",
   "id": "9daec8e8",
   "metadata": {},
   "source": [
    "* What happend behaind the seen when we use __ before variable or methods python convert it __ClassName__variable_name or __ClassName__method_name and store at a location in memory"
   ]
  },
  {
   "cell_type": "code",
   "execution_count": 53,
   "id": "bbca3fd1",
   "metadata": {},
   "outputs": [],
   "source": [
    "# in this case what happend it will create new variable with __balance and store the value in this variable there is no effect on private variable as will know private variable store on memory location with _classname__variable name\n",
    "sbi.__balance = \"asadsfbsdfgds\""
   ]
  },
  {
   "cell_type": "code",
   "execution_count": 55,
   "id": "2217b696",
   "metadata": {},
   "outputs": [
    {
     "name": "stdout",
     "output_type": "stream",
     "text": [
      "Enter your pin: 1234\n",
      "Enter the amount to deposit: 125000\n",
      "Deposit successful\n"
     ]
    }
   ],
   "source": [
    "sbi.deposit()"
   ]
  },
  {
   "cell_type": "code",
   "execution_count": 94,
   "id": "15b58bf9",
   "metadata": {},
   "outputs": [],
   "source": [
    "# But as we know private variable and methods store in memory using _ClassName__variable_name and methods _className__method_name \n",
    "# So if we know the class name variable name and methods name we can modify the data at private variable memory location and private methods memory location.\n",
    "\n",
    "class Atm:\n",
    "    def __init__(self):\n",
    "        self.__pin = \"\"\n",
    "        self.__balance = 0\n",
    "        self.__menu()\n",
    "    \n",
    "    def __menu(self):\n",
    "        user_input = input(\"\"\"\n",
    "                        Hello, How would you like to proceed?\n",
    "                        1. Enter 1 to create a pin\n",
    "                        2. Enter 2 to deposit\n",
    "                        3. Enter 3 to withdraw\n",
    "                        4. Enter 4 to check the balance\n",
    "                        5. Enter 5 to exit\n",
    "        \"\"\")\n",
    "        if user_input == \"1\":\n",
    "            self.create_pin()\n",
    "        elif user_input == \"2\":\n",
    "            self.deposit()\n",
    "        elif user_input == \"3\":\n",
    "            self.withdraw()\n",
    "        elif user_input == \"4\":\n",
    "            self.check_balance()\n",
    "        else:\n",
    "            print(\"Goodbye\")\n",
    "        \n",
    "    def create_pin(self):\n",
    "        self.__pin = input(\"Enter your pin: \")\n",
    "        print(\"Pin set successfully\")\n",
    "        \n",
    "    def deposit(self):\n",
    "        temp_pin = input(\"Enter your pin: \")\n",
    "        if temp_pin == self.__pin:\n",
    "            amount = float(input(\"Enter the amount to deposit: \"))\n",
    "            self.__balance += amount\n",
    "            print(\"Deposit successful\")\n",
    "        else:\n",
    "            print(\"Invalid pin\")\n",
    "    \n",
    "    def withdraw(self):\n",
    "        temp_pin = input(\"Enter your pin: \")\n",
    "        if temp_pin == self.__pin:\n",
    "            amount = float(input(\"Enter the amount to withdraw: \"))\n",
    "            if amount <= self.__balance:\n",
    "                self.__balance -= amount\n",
    "                print(\"Withdrawal successful\")\n",
    "            else:\n",
    "                print(\"Insufficient funds\")\n",
    "        else:\n",
    "            print(\"Invalid pin\")\n",
    "    \n",
    "    def check_balance(self):\n",
    "        temp_pin = input(\"Enter your pin: \")\n",
    "        if temp_pin == self.__pin:\n",
    "            print(\"Current balance:\", self.__balance)\n",
    "        else:\n",
    "            print(\"Invalid pin\")"
   ]
  },
  {
   "cell_type": "code",
   "execution_count": 95,
   "id": "17089322",
   "metadata": {},
   "outputs": [
    {
     "name": "stdout",
     "output_type": "stream",
     "text": [
      "\n",
      "                        Hello, How would you like to proceed?\n",
      "                        1. Enter 1 to create a pin\n",
      "                        2. Enter 2 to deposit\n",
      "                        3. Enter 3 to withdraw\n",
      "                        4. Enter 4 to check the balance\n",
      "                        5. Enter 5 to exit\n",
      "        1\n",
      "Enter your pin: 1234\n",
      "Pin set successfully\n"
     ]
    }
   ],
   "source": [
    "hdfc = Atm()"
   ]
  },
  {
   "cell_type": "code",
   "execution_count": 96,
   "id": "6669983d",
   "metadata": {},
   "outputs": [
    {
     "name": "stdout",
     "output_type": "stream",
     "text": [
      "Enter your pin: 1234\n",
      "Current balance: 0\n"
     ]
    }
   ],
   "source": [
    "hdfc.check_balance()"
   ]
  },
  {
   "cell_type": "code",
   "execution_count": 97,
   "id": "7e9d69e3",
   "metadata": {},
   "outputs": [
    {
     "name": "stdout",
     "output_type": "stream",
     "text": [
      "Enter your pin: 1234\n",
      "Enter the amount to deposit: 10000\n",
      "Deposit successful\n"
     ]
    }
   ],
   "source": [
    "hdfc.deposit()"
   ]
  },
  {
   "cell_type": "code",
   "execution_count": 98,
   "id": "ff79e09c",
   "metadata": {},
   "outputs": [
    {
     "name": "stdout",
     "output_type": "stream",
     "text": [
      "Enter your pin: 1234\n",
      "Current balance: 10000.0\n"
     ]
    }
   ],
   "source": [
    "hdfc.check_balance()"
   ]
  },
  {
   "cell_type": "code",
   "execution_count": 99,
   "id": "b516936f",
   "metadata": {},
   "outputs": [],
   "source": [
    "hdfc._Atm__balance = \"asadsdfgdfg\""
   ]
  },
  {
   "cell_type": "code",
   "execution_count": 100,
   "id": "3f010561",
   "metadata": {},
   "outputs": [
    {
     "name": "stdout",
     "output_type": "stream",
     "text": [
      "Enter your pin: 1234\n",
      "Enter the amount to deposit: 10000\n"
     ]
    },
    {
     "ename": "TypeError",
     "evalue": "can only concatenate str (not \"float\") to str",
     "output_type": "error",
     "traceback": [
      "\u001b[0;31m---------------------------------------------------------------------------\u001b[0m",
      "\u001b[0;31mTypeError\u001b[0m                                 Traceback (most recent call last)",
      "Cell \u001b[0;32mIn [100], line 1\u001b[0m\n\u001b[0;32m----> 1\u001b[0m \u001b[43mhdfc\u001b[49m\u001b[38;5;241;43m.\u001b[39;49m\u001b[43mdeposit\u001b[49m\u001b[43m(\u001b[49m\u001b[43m)\u001b[49m\n",
      "Cell \u001b[0;32mIn [94], line 38\u001b[0m, in \u001b[0;36mAtm.deposit\u001b[0;34m(self)\u001b[0m\n\u001b[1;32m     36\u001b[0m \u001b[38;5;28;01mif\u001b[39;00m temp_pin \u001b[38;5;241m==\u001b[39m \u001b[38;5;28mself\u001b[39m\u001b[38;5;241m.\u001b[39m__pin:\n\u001b[1;32m     37\u001b[0m     amount \u001b[38;5;241m=\u001b[39m \u001b[38;5;28mfloat\u001b[39m(\u001b[38;5;28minput\u001b[39m(\u001b[38;5;124m\"\u001b[39m\u001b[38;5;124mEnter the amount to deposit: \u001b[39m\u001b[38;5;124m\"\u001b[39m))\n\u001b[0;32m---> 38\u001b[0m     \u001b[38;5;28mself\u001b[39m\u001b[38;5;241m.\u001b[39m__balance \u001b[38;5;241m+\u001b[39m\u001b[38;5;241m=\u001b[39m amount\n\u001b[1;32m     39\u001b[0m     \u001b[38;5;28mprint\u001b[39m(\u001b[38;5;124m\"\u001b[39m\u001b[38;5;124mDeposit successful\u001b[39m\u001b[38;5;124m\"\u001b[39m)\n\u001b[1;32m     40\u001b[0m \u001b[38;5;28;01melse\u001b[39;00m:\n",
      "\u001b[0;31mTypeError\u001b[0m: can only concatenate str (not \"float\") to str"
     ]
    }
   ],
   "source": [
    "hdfc.deposit()"
   ]
  },
  {
   "cell_type": "code",
   "execution_count": 101,
   "id": "8e678e16",
   "metadata": {},
   "outputs": [
    {
     "name": "stdout",
     "output_type": "stream",
     "text": [
      "Enter your pin: 1234\n",
      "Current balance: asadsdfgdfg\n"
     ]
    }
   ],
   "source": [
    "hdfc.check_balance()"
   ]
  },
  {
   "cell_type": "markdown",
   "id": "df2b3525",
   "metadata": {},
   "source": [
    "* Nothing in python is truly private above example showing that\n",
    "* If you and your project partner working on same project he know all class and variable name he can modify the private variable values also"
   ]
  },
  {
   "cell_type": "code",
   "execution_count": 102,
   "id": "53ab7771",
   "metadata": {},
   "outputs": [],
   "source": [
    "# to see and change the private variable in methods we use getter and setter methods\n",
    "\n",
    "class Atm:\n",
    "    \n",
    "    def __init__(self):\n",
    "        self.__pin = \"\"\n",
    "        self.__balance = 0\n",
    "        self.__menu()\n",
    "        \n",
    "        \n",
    "    def get_pin(self):\n",
    "        return self.__pin\n",
    "    \n",
    "    \n",
    "    def set_pin(self,new_pin):\n",
    "        self.__pin = new_pin\n",
    "        print(\"pin changed\")\n",
    "    \n",
    "    def __menu(self):\n",
    "        user_input = input(\"\"\"\n",
    "                        Hello, How would you like to proceed?\n",
    "                        1. Enter 1 to create a pin\n",
    "                        2. Enter 2 to deposit\n",
    "                        3. Enter 3 to withdraw\n",
    "                        4. Enter 4 to check the balance\n",
    "                        5. Enter 5 to exit\n",
    "        \"\"\")\n",
    "        if user_input == \"1\":\n",
    "            self.create_pin()\n",
    "        elif user_input == \"2\":\n",
    "            self.deposit()\n",
    "        elif user_input == \"3\":\n",
    "            self.withdraw()\n",
    "        elif user_input == \"4\":\n",
    "            self.check_balance()\n",
    "        else:\n",
    "            print(\"Goodbye\")\n",
    "        \n",
    "    def create_pin(self):\n",
    "        self.__pin = input(\"Enter your pin: \")\n",
    "        print(\"Pin set successfully\")\n",
    "        \n",
    "    def deposit(self):\n",
    "        temp_pin = input(\"Enter your pin: \")\n",
    "        if temp_pin == self.__pin:\n",
    "            amount = float(input(\"Enter the amount to deposit: \"))\n",
    "            self.__balance += amount\n",
    "            print(\"Deposit successful\")\n",
    "        else:\n",
    "            print(\"Invalid pin\")\n",
    "    \n",
    "    def withdraw(self):\n",
    "        temp_pin = input(\"Enter your pin: \")\n",
    "        if temp_pin == self.__pin:\n",
    "            amount = float(input(\"Enter the amount to withdraw: \"))\n",
    "            if amount <= self.__balance:\n",
    "                self.__balance -= amount\n",
    "                print(\"Withdrawal successful\")\n",
    "            else:\n",
    "                print(\"Insufficient funds\")\n",
    "        else:\n",
    "            print(\"Invalid pin\")\n",
    "    \n",
    "    def check_balance(self):\n",
    "        temp_pin = input(\"Enter your pin: \")\n",
    "        if temp_pin == self.__pin:\n",
    "            print(\"Current balance:\", self.__balance)\n",
    "        else:\n",
    "            print(\"Invalid pin\")"
   ]
  },
  {
   "cell_type": "code",
   "execution_count": 103,
   "id": "a9e64d1c",
   "metadata": {},
   "outputs": [
    {
     "name": "stdout",
     "output_type": "stream",
     "text": [
      "\n",
      "                        Hello, How would you like to proceed?\n",
      "                        1. Enter 1 to create a pin\n",
      "                        2. Enter 2 to deposit\n",
      "                        3. Enter 3 to withdraw\n",
      "                        4. Enter 4 to check the balance\n",
      "                        5. Enter 5 to exit\n",
      "        1\n",
      "Enter your pin: 1234\n",
      "Pin set successfully\n"
     ]
    }
   ],
   "source": [
    "sbi = Atm()"
   ]
  },
  {
   "cell_type": "code",
   "execution_count": 104,
   "id": "6ad0a537",
   "metadata": {},
   "outputs": [
    {
     "data": {
      "text/plain": [
       "'1234'"
      ]
     },
     "execution_count": 104,
     "metadata": {},
     "output_type": "execute_result"
    }
   ],
   "source": [
    "sbi.get_pin()"
   ]
  },
  {
   "cell_type": "code",
   "execution_count": 106,
   "id": "29dd2a4e",
   "metadata": {},
   "outputs": [
    {
     "name": "stdout",
     "output_type": "stream",
     "text": [
      "pin changed\n"
     ]
    }
   ],
   "source": [
    "sbi.set_pin(\"Narendra\")"
   ]
  },
  {
   "cell_type": "code",
   "execution_count": 107,
   "id": "a34bb751",
   "metadata": {},
   "outputs": [
    {
     "data": {
      "text/plain": [
       "'Narendra'"
      ]
     },
     "execution_count": 107,
     "metadata": {},
     "output_type": "execute_result"
    }
   ],
   "source": [
    "sbi.get_pin()"
   ]
  },
  {
   "cell_type": "markdown",
   "id": "e1e798f5",
   "metadata": {},
   "source": [
    "* Again we are able to change the same pin using getter and setter methods then what is benfits of using getter and setter methods?\n",
    "\n",
    "* using getter and setter methods we can able to write our own logic for changing the value \n",
    "\n",
    "* in below exam there is logic for change in pin should be always numeric value"
   ]
  },
  {
   "cell_type": "code",
   "execution_count": 118,
   "id": "18438d61",
   "metadata": {},
   "outputs": [],
   "source": [
    "# to see and change the private variable in methods we use getter and setter methods\n",
    "\n",
    "class Atm:\n",
    "    \n",
    "    def __init__(self):\n",
    "        self.__pin = \"\"\n",
    "        self.__balance = 0\n",
    "        self.__menu()\n",
    "        \n",
    "        \n",
    "    def get_pin(self):\n",
    "        return self.__pin\n",
    "    \n",
    "    \n",
    "    def set_pin(self,new_pin):\n",
    "        if type(new_pin) == str:\n",
    "            self.__pin = new_pin\n",
    "            print(\"pin changed\")\n",
    "        else:\n",
    "            print(\"Not allowed\")\n",
    "            \n",
    "    \n",
    "    def __menu(self):\n",
    "        user_input = input(\"\"\"\n",
    "                        Hello, How would you like to proceed?\n",
    "                        1. Enter 1 to create a pin\n",
    "                        2. Enter 2 to deposit\n",
    "                        3. Enter 3 to withdraw\n",
    "                        4. Enter 4 to check the balance\n",
    "                        5. Enter 5 to exit\n",
    "        \"\"\")\n",
    "        if user_input == \"1\":\n",
    "            self.create_pin()\n",
    "        elif user_input == \"2\":\n",
    "            self.deposit()\n",
    "        elif user_input == \"3\":\n",
    "            self.withdraw()\n",
    "        elif user_input == \"4\":\n",
    "            self.check_balance()\n",
    "        else:\n",
    "            print(\"Goodbye\")\n",
    "        \n",
    "    def create_pin(self):\n",
    "        self.__pin = input(\"Enter your pin: \")\n",
    "        print(\"Pin set successfully\")\n",
    "        \n",
    "    def deposit(self):\n",
    "        temp_pin = input(\"Enter your pin: \")\n",
    "        if temp_pin == self.__pin:\n",
    "            amount = float(input(\"Enter the amount to deposit: \"))\n",
    "            self.__balance += amount\n",
    "            print(\"Deposit successful\")\n",
    "        else:\n",
    "            print(\"Invalid pin\")\n",
    "    \n",
    "    def withdraw(self):\n",
    "        temp_pin = input(\"Enter your pin: \")\n",
    "        if temp_pin == self.__pin:\n",
    "            amount = float(input(\"Enter the amount to withdraw: \"))\n",
    "            if amount <= self.__balance:\n",
    "                self.__balance -= amount\n",
    "                print(\"Withdrawal successful\")\n",
    "            else:\n",
    "                print(\"Insufficient funds\")\n",
    "        else:\n",
    "            print(\"Invalid pin\")\n",
    "    \n",
    "    def check_balance(self):\n",
    "        temp_pin = input(\"Enter your pin: \")\n",
    "        if temp_pin == self.__pin:\n",
    "            print(\"Current balance:\", self.__balance)\n",
    "        else:\n",
    "            print(\"Invalid pin\")"
   ]
  },
  {
   "cell_type": "code",
   "execution_count": 120,
   "id": "dbec9b5c",
   "metadata": {},
   "outputs": [
    {
     "name": "stdout",
     "output_type": "stream",
     "text": [
      "\n",
      "                        Hello, How would you like to proceed?\n",
      "                        1. Enter 1 to create a pin\n",
      "                        2. Enter 2 to deposit\n",
      "                        3. Enter 3 to withdraw\n",
      "                        4. Enter 4 to check the balance\n",
      "                        5. Enter 5 to exit\n",
      "        1\n",
      "Enter your pin: 1234\n",
      "Pin set successfully\n"
     ]
    }
   ],
   "source": [
    "hdfc = Atm()"
   ]
  },
  {
   "cell_type": "code",
   "execution_count": 121,
   "id": "fb6dbd17",
   "metadata": {},
   "outputs": [
    {
     "data": {
      "text/plain": [
       "'1234'"
      ]
     },
     "execution_count": 121,
     "metadata": {},
     "output_type": "execute_result"
    }
   ],
   "source": [
    "hdfc.get_pin()"
   ]
  },
  {
   "cell_type": "code",
   "execution_count": 122,
   "id": "bb31e82e",
   "metadata": {},
   "outputs": [
    {
     "name": "stdout",
     "output_type": "stream",
     "text": [
      "Not allowed\n"
     ]
    }
   ],
   "source": [
    "hdfc.set_pin(4.5)"
   ]
  },
  {
   "cell_type": "code",
   "execution_count": 123,
   "id": "1ed36c35",
   "metadata": {},
   "outputs": [
    {
     "name": "stdout",
     "output_type": "stream",
     "text": [
      "pin changed\n"
     ]
    }
   ],
   "source": [
    "hdfc.set_pin(\"12345\")"
   ]
  },
  {
   "cell_type": "code",
   "execution_count": 124,
   "id": "ff81c4dc",
   "metadata": {},
   "outputs": [
    {
     "data": {
      "text/plain": [
       "'12345'"
      ]
     },
     "execution_count": 124,
     "metadata": {},
     "output_type": "execute_result"
    }
   ],
   "source": [
    "hdfc.get_pin()"
   ]
  },
  {
   "cell_type": "code",
   "execution_count": 125,
   "id": "91e5a516",
   "metadata": {},
   "outputs": [],
   "source": [
    "# Referance varable \n",
    "\n",
    "class Atm:\n",
    "    \n",
    "    def __init__(self):\n",
    "        self.__pin = \"\"\n",
    "        self.__balance = 0\n",
    "        self.__menu()\n",
    "        \n",
    "        \n",
    "    def get_pin(self):\n",
    "        return self.__pin\n",
    "    \n",
    "    \n",
    "    def set_pin(self,new_pin):\n",
    "        if type(new_pin) == str:\n",
    "            self.__pin = new_pin\n",
    "            print(\"pin changed\")\n",
    "        else:\n",
    "            print(\"Not allowed\")\n",
    "            \n",
    "    \n",
    "    def __menu(self):\n",
    "        user_input = input(\"\"\"\n",
    "                        Hello, How would you like to proceed?\n",
    "                        1. Enter 1 to create a pin\n",
    "                        2. Enter 2 to deposit\n",
    "                        3. Enter 3 to withdraw\n",
    "                        4. Enter 4 to check the balance\n",
    "                        5. Enter 5 to exit\n",
    "        \"\"\")\n",
    "        if user_input == \"1\":\n",
    "            self.create_pin()\n",
    "        elif user_input == \"2\":\n",
    "            self.deposit()\n",
    "        elif user_input == \"3\":\n",
    "            self.withdraw()\n",
    "        elif user_input == \"4\":\n",
    "            self.check_balance()\n",
    "        else:\n",
    "            print(\"Goodbye\")\n",
    "        \n",
    "    def create_pin(self):\n",
    "        self.__pin = input(\"Enter your pin: \")\n",
    "        print(\"Pin set successfully\")\n",
    "        \n",
    "    def deposit(self):\n",
    "        temp_pin = input(\"Enter your pin: \")\n",
    "        if temp_pin == self.__pin:\n",
    "            amount = float(input(\"Enter the amount to deposit: \"))\n",
    "            self.__balance += amount\n",
    "            print(\"Deposit successful\")\n",
    "        else:\n",
    "            print(\"Invalid pin\")\n",
    "    \n",
    "    def withdraw(self):\n",
    "        temp_pin = input(\"Enter your pin: \")\n",
    "        if temp_pin == self.__pin:\n",
    "            amount = float(input(\"Enter the amount to withdraw: \"))\n",
    "            if amount <= self.__balance:\n",
    "                self.__balance -= amount\n",
    "                print(\"Withdrawal successful\")\n",
    "            else:\n",
    "                print(\"Insufficient funds\")\n",
    "        else:\n",
    "            print(\"Invalid pin\")\n",
    "    \n",
    "    def check_balance(self):\n",
    "        temp_pin = input(\"Enter your pin: \")\n",
    "        if temp_pin == self.__pin:\n",
    "            print(\"Current balance:\", self.__balance)\n",
    "        else:\n",
    "            print(\"Invalid pin\")"
   ]
  },
  {
   "cell_type": "code",
   "execution_count": 126,
   "id": "f9519312",
   "metadata": {},
   "outputs": [
    {
     "name": "stdout",
     "output_type": "stream",
     "text": [
      "\n",
      "                        Hello, How would you like to proceed?\n",
      "                        1. Enter 1 to create a pin\n",
      "                        2. Enter 2 to deposit\n",
      "                        3. Enter 3 to withdraw\n",
      "                        4. Enter 4 to check the balance\n",
      "                        5. Enter 5 to exit\n",
      "        1\n",
      "Enter your pin: 1234\n",
      "Pin set successfully\n"
     ]
    }
   ],
   "source": [
    "# The Variable which is used to store the object crefrance called refrence varable \n",
    "# here Atm()is object and sbi is variable holding the refrence of Atm() object so sbi is refrance variable\n",
    "\n",
    "sbi = Atm()"
   ]
  },
  {
   "cell_type": "code",
   "execution_count": 131,
   "id": "cd51f598",
   "metadata": {},
   "outputs": [],
   "source": [
    "# Pass By refrence \n",
    "class Customer:\n",
    "    def __init__(self, name):\n",
    "        self.name = name\n",
    "            \n",
    "\n",
    "def greet(customer):\n",
    "    print(\"Hello\",customer.name)\n",
    "\n",
    "cust = Customer(\"Narnedra\")"
   ]
  },
  {
   "cell_type": "code",
   "execution_count": 132,
   "id": "61c2499d",
   "metadata": {},
   "outputs": [
    {
     "name": "stdout",
     "output_type": "stream",
     "text": [
      "Narnedra\n"
     ]
    }
   ],
   "source": [
    "print(cust.name)"
   ]
  },
  {
   "cell_type": "code",
   "execution_count": 134,
   "id": "9dc1bf69",
   "metadata": {},
   "outputs": [
    {
     "name": "stdout",
     "output_type": "stream",
     "text": [
      "Hello Narnedra\n"
     ]
    }
   ],
   "source": [
    "# passing class boject as argument to a function greet \n",
    "greet(cust)"
   ]
  },
  {
   "cell_type": "code",
   "execution_count": 144,
   "id": "156a6d0a",
   "metadata": {},
   "outputs": [],
   "source": [
    "# Pass By refrence \n",
    "class Customer:\n",
    "    def __init__(self, name, gender):\n",
    "        self.name = name\n",
    "        self.gender = gender\n",
    "            \n",
    "\n",
    "def greet(customer):\n",
    "    if customer.gender == \"male\":\n",
    "        print(\"Hello\",customer.name,\"Sir\")\n",
    "    else:\n",
    "        print(\"Hello\",customer.name,\"Ma'am\")\n",
    "\n",
    "cust = Customer(\"Narnedra\",\"male\")"
   ]
  },
  {
   "cell_type": "code",
   "execution_count": 145,
   "id": "4d38f735",
   "metadata": {},
   "outputs": [
    {
     "name": "stdout",
     "output_type": "stream",
     "text": [
      "Hello Narnedra Sir\n"
     ]
    }
   ],
   "source": [
    "# passing class boject as argument to a function greet \n",
    "greet(cust)"
   ]
  },
  {
   "cell_type": "code",
   "execution_count": 146,
   "id": "f0ca5577",
   "metadata": {},
   "outputs": [
    {
     "name": "stdout",
     "output_type": "stream",
     "text": [
      "Hello Varsha Ma'am\n"
     ]
    }
   ],
   "source": [
    "cust1 = Customer(\"Varsha\",\"female\")\n",
    "# passing class boject as argument to a function greet \n",
    "greet(cust1)"
   ]
  },
  {
   "cell_type": "code",
   "execution_count": 147,
   "id": "d0d5f3e7",
   "metadata": {},
   "outputs": [],
   "source": [
    "# Pass By refrence \n",
    "class Customer:\n",
    "    def __init__(self, name, gender):\n",
    "        self.name = name\n",
    "        self.gender = gender\n",
    "            \n",
    "\n",
    "def greet(customer):\n",
    "    if customer.gender == \"male\":\n",
    "        print(\"Hello\",customer.name,\"Sir\")\n",
    "    else:\n",
    "        print(\"Hello\",customer.name,\"Ma'am\")\n",
    "    \n",
    "    cust2 = Customer(\"Ravi\",\"male\")\n",
    "    return cust2\n",
    "\n",
    "cust = Customer(\"Narnedra\",\"male\")"
   ]
  },
  {
   "cell_type": "code",
   "execution_count": 152,
   "id": "5d2d97d8",
   "metadata": {},
   "outputs": [
    {
     "name": "stdout",
     "output_type": "stream",
     "text": [
      "Hello Narnedra Sir\n",
      "Ravi\n"
     ]
    }
   ],
   "source": [
    "# here we are seeing we can pass object as argument and get return as object\n",
    "new_cust = greet(cust)\n",
    "print(new_cust.name)"
   ]
  },
  {
   "cell_type": "code",
   "execution_count": 154,
   "id": "3aa9ed89",
   "metadata": {},
   "outputs": [
    {
     "name": "stdout",
     "output_type": "stream",
     "text": [
      "140680677987136\n",
      "140680677987136\n"
     ]
    }
   ],
   "source": [
    "# Pass By refrence means we are passing just refrence of the object so id will bw same working just like alising\n",
    "class Customer:\n",
    "    def __init__(self, name):\n",
    "        self.name = name\n",
    "            \n",
    "\n",
    "def greet(customer):\n",
    "    print(id(customer))\n",
    "\n",
    "cust = Customer(\"Narnedra\")\n",
    "\n",
    "print(id(cust))\n",
    "greet(cust)"
   ]
  },
  {
   "cell_type": "code",
   "execution_count": 156,
   "id": "48eea784",
   "metadata": {},
   "outputs": [
    {
     "name": "stdout",
     "output_type": "stream",
     "text": [
      "140680677987184\n",
      "Ravi\n",
      "140680677987184\n",
      "Ravi\n"
     ]
    }
   ],
   "source": [
    "# class object value can be cahnge \n",
    "# So we can say class object is mutable datatype\n",
    "# so pass by refrance if we send mutable data type it can be change but immutable datatype can't be change\n",
    "\n",
    "# Pass By refrence means we are passing just refrence of the object so id will bw same working just like alising\n",
    "class Customer:\n",
    "    def __init__(self, name):\n",
    "        self.name = name\n",
    "            \n",
    "\n",
    "def greet(customer):\n",
    "    customer.name = \"Ravi\"\n",
    "    print(customer.name)\n",
    "    print(id(customer))\n",
    "\n",
    "cust = Customer(\"Narnedra\")\n",
    "\n",
    "print(id(cust))\n",
    "greet(cust)\n",
    "\n",
    "print(cust.name)"
   ]
  },
  {
   "cell_type": "code",
   "execution_count": 158,
   "id": "346f071f",
   "metadata": {},
   "outputs": [
    {
     "name": "stdout",
     "output_type": "stream",
     "text": [
      "Narendra 28\n",
      "Ravi 29\n",
      "Bhanu 30\n"
     ]
    }
   ],
   "source": [
    "# collection of objects\n",
    "\n",
    "class Customer:\n",
    "    \n",
    "    def __init__(self,name,age):\n",
    "        self.name = name\n",
    "        self.age = age\n",
    "\n",
    "c1 = Customer(\"Narendra\",28)\n",
    "c2 = Customer(\"Ravi\",29)\n",
    "c3 = Customer(\"Bhanu\",30)\n",
    "\n",
    "l = [c1,c2,c3]\n",
    "\n",
    "for i in l:\n",
    "    print(i.name, i.age)"
   ]
  },
  {
   "cell_type": "code",
   "execution_count": 159,
   "id": "560aca15",
   "metadata": {},
   "outputs": [
    {
     "name": "stdout",
     "output_type": "stream",
     "text": [
      "I am Narendra I am  28\n",
      "I am Ravi I am  29\n",
      "I am Bhanu I am  30\n"
     ]
    }
   ],
   "source": [
    "# collection of objects\n",
    "\n",
    "class Customer:\n",
    "    \n",
    "    def __init__(self,name,age):\n",
    "        self.name = name\n",
    "        self.age = age\n",
    "        \n",
    "    def intro(self):\n",
    "        print(\"I am\", self.name, \"I am \", self.age)\n",
    "\n",
    "c1 = Customer(\"Narendra\",28)\n",
    "c2 = Customer(\"Ravi\",29)\n",
    "c3 = Customer(\"Bhanu\",30)\n",
    "\n",
    "l = [c1,c2,c3]\n",
    "\n",
    "for i in l:\n",
    "    i.intro()"
   ]
  },
  {
   "cell_type": "code",
   "execution_count": 160,
   "id": "784cc727",
   "metadata": {},
   "outputs": [],
   "source": [
    "# static keywords in python\n",
    "# using __ befor the methods we can hide our methods from user \n",
    "\n",
    "class Atm:\n",
    "    \n",
    "    counter = 1\n",
    "    def __init__(self):\n",
    "        self.__pin = \"\"\n",
    "        self.__balance = 0\n",
    "        self.sno = Atm.counter\n",
    "        Atm.counter = Atm.counter + 1\n",
    "        self.__menu()\n",
    "    \n",
    "    def __menu(self):\n",
    "        user_input = input(\"\"\"\n",
    "                        Hello, How would you like to proceed?\n",
    "                        1. Enter 1 to create a pin\n",
    "                        2. Enter 2 to deposit\n",
    "                        3. Enter 3 to withdraw\n",
    "                        4. Enter 4 to check the balance\n",
    "                        5. Enter 5 to exit\n",
    "        \"\"\")\n",
    "        if user_input == \"1\":\n",
    "            self.create_pin()\n",
    "        elif user_input == \"2\":\n",
    "            self.deposit()\n",
    "        elif user_input == \"3\":\n",
    "            self.withdraw()\n",
    "        elif user_input == \"4\":\n",
    "            self.check_balance()\n",
    "        else:\n",
    "            print(\"Goodbye\")\n",
    "        \n",
    "    def create_pin(self):\n",
    "        self.__pin = input(\"Enter your pin: \")\n",
    "        print(\"Pin set successfully\")\n",
    "        \n",
    "    def deposit(self):\n",
    "        temp_pin = input(\"Enter your pin: \")\n",
    "        if temp_pin == self.__pin:\n",
    "            amount = float(input(\"Enter the amount to deposit: \"))\n",
    "            self.__balance += amount\n",
    "            print(\"Deposit successful\")\n",
    "        else:\n",
    "            print(\"Invalid pin\")\n",
    "    \n",
    "    def withdraw(self):\n",
    "        temp_pin = input(\"Enter your pin: \")\n",
    "        if temp_pin == self.__pin:\n",
    "            amount = float(input(\"Enter the amount to withdraw: \"))\n",
    "            if amount <= self.__balance:\n",
    "                self.__balance -= amount\n",
    "                print(\"Withdrawal successful\")\n",
    "            else:\n",
    "                print(\"Insufficient funds\")\n",
    "        else:\n",
    "            print(\"Invalid pin\")\n",
    "    \n",
    "    def check_balance(self):\n",
    "        temp_pin = input(\"Enter your pin: \")\n",
    "        if temp_pin == self.__pin:\n",
    "            print(\"Current balance:\", self.__balance)\n",
    "        else:\n",
    "            print(\"Invalid pin\")\n"
   ]
  },
  {
   "cell_type": "code",
   "execution_count": 161,
   "id": "3d61313a",
   "metadata": {},
   "outputs": [
    {
     "name": "stdout",
     "output_type": "stream",
     "text": [
      "\n",
      "                        Hello, How would you like to proceed?\n",
      "                        1. Enter 1 to create a pin\n",
      "                        2. Enter 2 to deposit\n",
      "                        3. Enter 3 to withdraw\n",
      "                        4. Enter 4 to check the balance\n",
      "                        5. Enter 5 to exit\n",
      "        1\n",
      "Enter your pin: 1234\n",
      "Pin set successfully\n"
     ]
    }
   ],
   "source": [
    "sbi = Atm()"
   ]
  },
  {
   "cell_type": "code",
   "execution_count": 162,
   "id": "6640eae5",
   "metadata": {},
   "outputs": [
    {
     "data": {
      "text/plain": [
       "1"
      ]
     },
     "execution_count": 162,
     "metadata": {},
     "output_type": "execute_result"
    }
   ],
   "source": [
    "sbi.sno"
   ]
  },
  {
   "cell_type": "code",
   "execution_count": 163,
   "id": "06c01e08",
   "metadata": {},
   "outputs": [
    {
     "name": "stdout",
     "output_type": "stream",
     "text": [
      "\n",
      "                        Hello, How would you like to proceed?\n",
      "                        1. Enter 1 to create a pin\n",
      "                        2. Enter 2 to deposit\n",
      "                        3. Enter 3 to withdraw\n",
      "                        4. Enter 4 to check the balance\n",
      "                        5. Enter 5 to exit\n",
      "        1\n",
      "Enter your pin: 1234\n",
      "Pin set successfully\n"
     ]
    }
   ],
   "source": [
    "c2 = Atm()"
   ]
  },
  {
   "cell_type": "code",
   "execution_count": 164,
   "id": "0233e9af",
   "metadata": {},
   "outputs": [
    {
     "data": {
      "text/plain": [
       "2"
      ]
     },
     "execution_count": 164,
     "metadata": {},
     "output_type": "execute_result"
    }
   ],
   "source": [
    "c2.sno"
   ]
  },
  {
   "cell_type": "code",
   "execution_count": 167,
   "id": "6a57a195",
   "metadata": {},
   "outputs": [
    {
     "name": "stdout",
     "output_type": "stream",
     "text": [
      "233227\n"
     ]
    }
   ],
   "source": [
    "# Aggregation \n",
    "# Has a relationship\n",
    "# for example customer has a address called aggregations\n",
    "\n",
    "class Customer:\n",
    "    \n",
    "    def __init__(self,name,gender,address):\n",
    "        self.name = name\n",
    "        self.gender = gender\n",
    "        self.address = address\n",
    "      \n",
    "    \n",
    "\n",
    "class Address:\n",
    "    \n",
    "    def __init__(self,city,pincode,state):\n",
    "        self.city = city\n",
    "        self.pincode = pincode\n",
    "        self.state = state\n",
    "\n",
    "        \n",
    "add = Address(\"Ghazipur\", \"233227\", \"U.P.\")\n",
    "cust = Customer(\"Narendra\",\"Male\", add)\n",
    "\n",
    "print(cust.address.pincode)"
   ]
  },
  {
   "cell_type": "code",
   "execution_count": 168,
   "id": "cbf02a8e",
   "metadata": {},
   "outputs": [],
   "source": [
    "# Inherantince is used to write DRY\n",
    "\n",
    "class User:\n",
    "    \n",
    "    def login(self):\n",
    "        print(\"login\")\n",
    "        \n",
    "    def register(self):\n",
    "        print(\"register\")\n",
    "        \n",
    "        \n",
    "class Student(User):\n",
    "    \n",
    "    def enroll(self):\n",
    "        print(\"enroll\")\n",
    "        \n",
    "    def review(self):\n",
    "        print(\"review\")"
   ]
  },
  {
   "cell_type": "code",
   "execution_count": 173,
   "id": "69fca562",
   "metadata": {},
   "outputs": [
    {
     "name": "stdout",
     "output_type": "stream",
     "text": [
      "enroll\n"
     ]
    }
   ],
   "source": [
    "# child class can use all parants methods \n",
    "stu1 = Student()\n",
    "\n",
    "stu1.enroll()"
   ]
  },
  {
   "cell_type": "code",
   "execution_count": 174,
   "id": "2c8b7b47",
   "metadata": {},
   "outputs": [
    {
     "name": "stdout",
     "output_type": "stream",
     "text": [
      "review\n"
     ]
    }
   ],
   "source": [
    "stu1.review()"
   ]
  },
  {
   "cell_type": "code",
   "execution_count": 175,
   "id": "6d8dd785",
   "metadata": {},
   "outputs": [
    {
     "name": "stdout",
     "output_type": "stream",
     "text": [
      "login\n"
     ]
    }
   ],
   "source": [
    "stu1.login()"
   ]
  },
  {
   "cell_type": "code",
   "execution_count": 176,
   "id": "58b67ff3",
   "metadata": {},
   "outputs": [
    {
     "name": "stdout",
     "output_type": "stream",
     "text": [
      "register\n"
     ]
    }
   ],
   "source": [
    "stu1.register()"
   ]
  },
  {
   "cell_type": "code",
   "execution_count": 179,
   "id": "09251e7e",
   "metadata": {},
   "outputs": [
    {
     "name": "stdout",
     "output_type": "stream",
     "text": [
      "inside phone constructor\n"
     ]
    }
   ],
   "source": [
    "# if child class don't have constructor then when we will create object it will execute Parents class constcture\n",
    "\n",
    "class Phone:\n",
    "    def __init__(self,price,brand,camara):\n",
    "        print(\"inside phone constructor\")\n",
    "        self.price = price\n",
    "        self.brand = brand\n",
    "        self.camara = camara\n",
    "        \n",
    "        \n",
    "        \n",
    "class SmartPhone(Phone):\n",
    "    pass\n",
    "\n",
    "\n",
    "s = SmartPhone(200000,\"apple\",13)"
   ]
  },
  {
   "cell_type": "code",
   "execution_count": 180,
   "id": "a74603e6",
   "metadata": {},
   "outputs": [
    {
     "data": {
      "text/plain": [
       "'apple'"
      ]
     },
     "execution_count": 180,
     "metadata": {},
     "output_type": "execute_result"
    }
   ],
   "source": [
    "s.brand"
   ]
  },
  {
   "cell_type": "code",
   "execution_count": 181,
   "id": "3cea69b9",
   "metadata": {},
   "outputs": [
    {
     "name": "stdout",
     "output_type": "stream",
     "text": [
      "inside phone constructor\n"
     ]
    }
   ],
   "source": [
    "# As we know child class not  able to access private member of the Parants class\n",
    "class Phone:\n",
    "    def __init__(self,price,brand,camara):\n",
    "        print(\"inside phone constructor\")\n",
    "        self.price = price\n",
    "        self.__brand = brand\n",
    "        self.camara = camara\n",
    "        \n",
    "        \n",
    "        \n",
    "class SmartPhone(Phone):\n",
    "    pass\n",
    "\n",
    "\n",
    "s = SmartPhone(200000,\"apple\",13)"
   ]
  },
  {
   "cell_type": "code",
   "execution_count": 183,
   "id": "d8e35131",
   "metadata": {},
   "outputs": [
    {
     "ename": "AttributeError",
     "evalue": "'SmartPhone' object has no attribute '__brand'",
     "output_type": "error",
     "traceback": [
      "\u001b[0;31m---------------------------------------------------------------------------\u001b[0m",
      "\u001b[0;31mAttributeError\u001b[0m                            Traceback (most recent call last)",
      "Cell \u001b[0;32mIn [183], line 1\u001b[0m\n\u001b[0;32m----> 1\u001b[0m \u001b[43ms\u001b[49m\u001b[38;5;241;43m.\u001b[39;49m\u001b[43m__brand\u001b[49m\n",
      "\u001b[0;31mAttributeError\u001b[0m: 'SmartPhone' object has no attribute '__brand'"
     ]
    }
   ],
   "source": [
    "s.__brand"
   ]
  },
  {
   "cell_type": "markdown",
   "id": "5f184005",
   "metadata": {},
   "source": [
    "* Methods Overriding \n",
    "* Methods Overloading\n",
    "* Operator Overloading"
   ]
  },
  {
   "cell_type": "code",
   "execution_count": 187,
   "id": "4b012916",
   "metadata": {},
   "outputs": [
    {
     "name": "stdout",
     "output_type": "stream",
     "text": [
      "inside phone constructor\n",
      "apple\n",
      "Child Buying a smartphone\n"
     ]
    }
   ],
   "source": [
    "# Child class inharrite the prants class which is having constcture but child class don't have constcture.\n",
    "# Both class having methods with same name when we create a object of child class which methods will class parants class or child class?\n",
    "\n",
    "# if child class don't have constructor then when we will create object it will execute Parents class constcture\n",
    "# But methods will be call from child class this concept is known as method overriding\n",
    "\n",
    "class Phone:\n",
    "    def __init__(self,price,brand,camara):\n",
    "        print(\"inside phone constructor\")\n",
    "        self.price = price\n",
    "        self.brand = brand\n",
    "        self.camara = camara\n",
    "        \n",
    "    def buy(self):\n",
    "        print(\"Parants Buying a smartphone\")\n",
    "        \n",
    "        \n",
    "        \n",
    "class SmartPhone(Phone):\n",
    "    \n",
    "    def buy(self):\n",
    "        print(\"Child Buying a smartphone\")\n",
    "\n",
    "\n",
    "s = SmartPhone(200000,\"apple\",13)\n",
    "print(s.brand)\n",
    "s.buy()"
   ]
  },
  {
   "cell_type": "code",
   "execution_count": 192,
   "id": "6935279c",
   "metadata": {},
   "outputs": [
    {
     "name": "stdout",
     "output_type": "stream",
     "text": [
      "100\n",
      "This is in child class\n"
     ]
    }
   ],
   "source": [
    "# When we create the object of child class we are able to fatch member of both class \n",
    "class Parent:\n",
    "    \n",
    "    def __init__(self,num):\n",
    "        self.__num=num\n",
    "    \n",
    "    def get_num(self):\n",
    "        return self.__num\n",
    "    \n",
    "\n",
    "class Child(Parent):\n",
    "    \n",
    "    def show(self):\n",
    "        print(\"This is in child class\")\n",
    "        \n",
    "        \n",
    "son = Child(100)\n",
    "print(son.get_num())\n",
    "son.show()"
   ]
  },
  {
   "cell_type": "code",
   "execution_count": 194,
   "id": "57e83cc8",
   "metadata": {},
   "outputs": [
    {
     "ename": "AttributeError",
     "evalue": "'Child' object has no attribute '_Parent__num'",
     "output_type": "error",
     "traceback": [
      "\u001b[0;31m---------------------------------------------------------------------------\u001b[0m",
      "\u001b[0;31mAttributeError\u001b[0m                            Traceback (most recent call last)",
      "Cell \u001b[0;32mIn [194], line 22\u001b[0m\n\u001b[1;32m     18\u001b[0m         \u001b[38;5;28;01mreturn\u001b[39;00m \u001b[38;5;28mself\u001b[39m\u001b[38;5;241m.\u001b[39m__val\n\u001b[1;32m     21\u001b[0m son \u001b[38;5;241m=\u001b[39m Child(\u001b[38;5;241m100\u001b[39m,\u001b[38;5;241m10\u001b[39m)\n\u001b[0;32m---> 22\u001b[0m \u001b[38;5;28mprint\u001b[39m(\u001b[38;5;124m\"\u001b[39m\u001b[38;5;124mParent num\u001b[39m\u001b[38;5;124m\"\u001b[39m,\u001b[43mson\u001b[49m\u001b[38;5;241;43m.\u001b[39;49m\u001b[43mget_num\u001b[49m\u001b[43m(\u001b[49m\u001b[43m)\u001b[49m)\n",
      "Cell \u001b[0;32mIn [194], line 9\u001b[0m, in \u001b[0;36mParent.get_num\u001b[0;34m(self)\u001b[0m\n\u001b[1;32m      8\u001b[0m \u001b[38;5;28;01mdef\u001b[39;00m \u001b[38;5;21mget_num\u001b[39m(\u001b[38;5;28mself\u001b[39m):\n\u001b[0;32m----> 9\u001b[0m     \u001b[38;5;28;01mreturn\u001b[39;00m \u001b[38;5;28;43mself\u001b[39;49m\u001b[38;5;241;43m.\u001b[39;49m\u001b[43m__num\u001b[49m\n",
      "\u001b[0;31mAttributeError\u001b[0m: 'Child' object has no attribute '_Parent__num'"
     ]
    }
   ],
   "source": [
    "# if chile class have their own constcuter then parents class conster will not call\n",
    "\n",
    "class Parent:\n",
    "    \n",
    "    def __init__(self,num):\n",
    "        self.__num=num\n",
    "    \n",
    "    def get_num(self):\n",
    "        return self.__num\n",
    "    \n",
    "\n",
    "class Child(Parent):\n",
    "    \n",
    "    def __init__(self,val,num):\n",
    "        self.__val = val\n",
    "    \n",
    "    def get_val(self):\n",
    "        return self.__val\n",
    "        \n",
    "        \n",
    "son = Child(100,10)\n",
    "print(\"Parent num\",son.get_num())"
   ]
  },
  {
   "cell_type": "code",
   "execution_count": 196,
   "id": "34e93e0e",
   "metadata": {},
   "outputs": [
    {
     "name": "stdout",
     "output_type": "stream",
     "text": [
      "class A 100\n"
     ]
    }
   ],
   "source": [
    "# in this example it's \n",
    "\n",
    "class A:\n",
    "    def __init__(self):\n",
    "        self.var1 = 100\n",
    "        \n",
    "    def display1(self,var):\n",
    "        print(\"class A\", self.var1)\n",
    "        \n",
    "    \n",
    "class B(A):\n",
    "    \n",
    "    def display2(self,var1):\n",
    "        print(\"class B\", self.var1)\n",
    "        \n",
    "    \n",
    "obj = B()\n",
    "obj.display1(200)"
   ]
  },
  {
   "cell_type": "code",
   "execution_count": 199,
   "id": "be38f2fc",
   "metadata": {},
   "outputs": [
    {
     "name": "stdout",
     "output_type": "stream",
     "text": [
      "Inside phone constructor\n",
      "Buying a smartphone\n",
      "Buying a phone\n"
     ]
    }
   ],
   "source": [
    "# What is super keyword in python how it's work?\n",
    "# Super keyword is used to call parents class methods in child class or child class methods\n",
    "# Super should be first statement in mathodes\n",
    "\n",
    "\n",
    "class Phone:\n",
    "    \n",
    "    def __init__(self, price,brand,camara):\n",
    "        print(\"Inside phone constructor\")\n",
    "        self.__price = price\n",
    "        self.__brand = brand\n",
    "        self.camara = camara\n",
    "        \n",
    "    def buy(self):\n",
    "        print(\"Buying a phone\")\n",
    "            \n",
    "            \n",
    "class SmartPhone(Phone):\n",
    "    \n",
    "    def buy(self):\n",
    "        print(\"Buying a smartphone\")\n",
    "        super().buy()\n",
    "        \n",
    "        \n",
    "s = SmartPhone(20000,\"redmi\",12)\n",
    "s.buy()"
   ]
  },
  {
   "cell_type": "code",
   "execution_count": 202,
   "id": "40cd3504",
   "metadata": {},
   "outputs": [
    {
     "name": "stdout",
     "output_type": "stream",
     "text": [
      "Inside phone constructor\n",
      "Inside smartphone constructor\n",
      "Buying a smartphone\n",
      "Buying a phone\n"
     ]
    }
   ],
   "source": [
    "class Phone:\n",
    "    \n",
    "    def __init__(self, price,brand,camara):\n",
    "        print(\"Inside phone constructor\")\n",
    "        self.__price = price\n",
    "        self.brand = brand\n",
    "        self.camara = camara\n",
    "        \n",
    "    def buy(self):\n",
    "        print(\"Buying a phone\")\n",
    "            \n",
    "            \n",
    "class SmartPhone(Phone):\n",
    "    \n",
    "    def __init__(self,price,brand,camara,os,ram):\n",
    "        super().__init__(price,brand,camara)\n",
    "        self.os = os\n",
    "        self.ram = ram\n",
    "        print(\"Inside smartphone constructor\")\n",
    "        \n",
    "        \n",
    "    def buy(self):\n",
    "        print(\"Buying a smartphone\")\n",
    "        super().buy()\n",
    "        \n",
    "        \n",
    "s = SmartPhone(20000,\"redmi\",12, \"android\", \"8GB\")\n",
    "s.os\n",
    "s.brand\n",
    "s.buy()"
   ]
  },
  {
   "cell_type": "markdown",
   "id": "936cde06",
   "metadata": {},
   "source": [
    "* Single lavel Inheritance\n",
    "* Multi lavel Inheritance\n",
    "* Hierarchacal Inheritance\n",
    "* Multiple Inheritance"
   ]
  },
  {
   "cell_type": "code",
   "execution_count": 203,
   "id": "ec2d1d44",
   "metadata": {},
   "outputs": [
    {
     "name": "stdout",
     "output_type": "stream",
     "text": [
      "100\n",
      "This is in child class\n"
     ]
    }
   ],
   "source": [
    "# Single lavel Inheritance\n",
    "\n",
    "class Parent:\n",
    "    \n",
    "    def __init__(self,num):\n",
    "        self.__num=num\n",
    "    \n",
    "    def get_num(self):\n",
    "        return self.__num\n",
    "    \n",
    "\n",
    "class Child(Parent):\n",
    "    \n",
    "    def show(self):\n",
    "        print(\"This is in child class\")\n",
    "        \n",
    "        \n",
    "son = Child(100)\n",
    "print(son.get_num())\n",
    "son.show()"
   ]
  },
  {
   "cell_type": "code",
   "execution_count": 204,
   "id": "5a1e0eff",
   "metadata": {},
   "outputs": [],
   "source": [
    "# Multi lavel Inheritance\n",
    "\n",
    "class Product:\n",
    "    def review(self):\n",
    "        print(\"Product customer revier\")\n",
    "\n",
    "\n",
    "class Phone(Product):\n",
    "    \n",
    "    def __init__(self, price,brand,camara):\n",
    "        print(\"Inside phone constructor\")\n",
    "        self.__price = price\n",
    "        self.__brand = brand\n",
    "        self.camara = camara\n",
    "        \n",
    "    def buy(self):\n",
    "        print(\"Buying a phone\")\n",
    "            \n",
    "            \n",
    "class SmartPhone(Phone):\n",
    "    \n",
    "    def buy(self):\n",
    "        print(\"Buying a smartphone\")\n",
    "        super().buy()\n"
   ]
  },
  {
   "cell_type": "code",
   "execution_count": 206,
   "id": "77bda563",
   "metadata": {},
   "outputs": [
    {
     "name": "stdout",
     "output_type": "stream",
     "text": [
      "Inside phone constructor\n",
      "Buying a smartphone\n",
      "Buying a phone\n",
      "Product customer revier\n"
     ]
    }
   ],
   "source": [
    "s = SmartPhone(20000,\"redmi\",12)\n",
    "s.buy()\n",
    "s.review()"
   ]
  },
  {
   "cell_type": "code",
   "execution_count": 214,
   "id": "b3b225e3",
   "metadata": {},
   "outputs": [],
   "source": [
    "# Hierarchacal Inheritance\n",
    "\n",
    "class Product:\n",
    "    def review(self):\n",
    "        print(\"Product customer revier\")\n",
    "\n",
    "\n",
    "class Phone(Product):\n",
    "    \n",
    "    def __init__(self, price,brand,camara):\n",
    "        print(\"Inside phone constructor\")\n",
    "        self.__price = price\n",
    "        self.__brand = brand\n",
    "        self.camara = camara\n",
    "        \n",
    "    def buy(self):\n",
    "        print(\"Buying a phone\")\n",
    "            \n",
    "            \n",
    "class SmartPhone(Product):\n",
    "    \n",
    "    def buy(self):\n",
    "        print(\"Buying a smartphone\")\n",
    "        super().buy()\n"
   ]
  },
  {
   "cell_type": "code",
   "execution_count": 215,
   "id": "0424b124",
   "metadata": {},
   "outputs": [
    {
     "name": "stdout",
     "output_type": "stream",
     "text": [
      "Product customer revier\n"
     ]
    }
   ],
   "source": [
    "s = SmartPhone()\n",
    "s.review()"
   ]
  },
  {
   "cell_type": "code",
   "execution_count": 216,
   "id": "f1797606",
   "metadata": {},
   "outputs": [
    {
     "name": "stdout",
     "output_type": "stream",
     "text": [
      "Inside phone constructor\n",
      "Product customer revier\n"
     ]
    }
   ],
   "source": [
    "s1 = Phone(20000,\"redmi\",12)\n",
    "s1.review()"
   ]
  },
  {
   "cell_type": "code",
   "execution_count": null,
   "id": "2ce5bb40",
   "metadata": {},
   "outputs": [],
   "source": [
    "# Multiple Inheritance\n",
    "# Hierarchacal Inheritance\n",
    "\n",
    "class Product:\n",
    "    def review(self):\n",
    "        print(\"Product customer revier\")\n",
    "\n",
    "\n",
    "class Phone():\n",
    "    \n",
    "    def __init__(self, price,brand,camara):\n",
    "        print(\"Inside phone constructor\")\n",
    "        self.__price = price\n",
    "        self.__brand = brand\n",
    "        self.camara = camara\n",
    "        \n",
    "    def buy(self):\n",
    "        print(\"Buying a phone\")\n",
    "            \n",
    "            \n",
    "class SmartPhone(Product,Phone):\n",
    "    \n",
    "    def buy(self):\n",
    "        print(\"Buying a smartphone\")\n",
    "        super().buy()\n"
   ]
  },
  {
   "cell_type": "code",
   "execution_count": 217,
   "id": "2447c733",
   "metadata": {},
   "outputs": [
    {
     "name": "stdout",
     "output_type": "stream",
     "text": [
      "Inside phone constructor\n",
      "Buying a phone\n",
      "Product customer revier\n"
     ]
    }
   ],
   "source": [
    "s1 = Phone(20000,\"redmi\",12)\n",
    "s1.buy()\n",
    "s1.review()"
   ]
  },
  {
   "cell_type": "code",
   "execution_count": 225,
   "id": "895ad447",
   "metadata": {},
   "outputs": [],
   "source": [
    "# if both class having same methods child class will print first inharrit class methods then serch secon, third ...\n",
    "\n",
    "class Product:\n",
    "    def review(self):\n",
    "        print(\"Product customer revier\")\n",
    "    \n",
    "    def buy(self):\n",
    "        print(\"Buy a product\")\n",
    "\n",
    "\n",
    "class Phone():\n",
    "    \n",
    "    def __init__(self, price,brand,camara):\n",
    "        print(\"Inside phone constructor\")\n",
    "        self.__price = price\n",
    "        self.__brand = brand\n",
    "        self.camara = camara\n",
    "        \n",
    "    def buy(self):\n",
    "        print(\"Buying a phone\")\n",
    "            \n",
    "            \n",
    "class SmartPhone(Product,Phone):\n",
    "    \n",
    "    def purchage(self):\n",
    "        print(\"Buying a smartphone\")\n",
    "        "
   ]
  },
  {
   "cell_type": "code",
   "execution_count": 226,
   "id": "d82b45d8",
   "metadata": {},
   "outputs": [
    {
     "name": "stdout",
     "output_type": "stream",
     "text": [
      "Inside phone constructor\n",
      "Buy a product\n"
     ]
    }
   ],
   "source": [
    "s1 = SmartPhone(20000,\"redmi\",12)\n",
    "s1.buy()"
   ]
  },
  {
   "cell_type": "code",
   "execution_count": 230,
   "id": "51fd9c4f",
   "metadata": {},
   "outputs": [
    {
     "name": "stdout",
     "output_type": "stream",
     "text": [
      "70\n"
     ]
    }
   ],
   "source": [
    "# What is the output\n",
    "\n",
    "class A:\n",
    "    def m1(self):\n",
    "        return 20\n",
    "    \n",
    "    \n",
    "class B(A):\n",
    "    def m1(self):\n",
    "        return 30\n",
    "    \n",
    "    def m2(self):\n",
    "        return 40\n",
    "    \n",
    "    \n",
    "class C(B):\n",
    "    def m2(self):\n",
    "        return 20\n",
    "    \n",
    "    \n",
    "obj1 = A()\n",
    "obj2 = B()\n",
    "obj3 = C()\n",
    "\n",
    "print(obj1.m1()+obj3.m1()+obj3.m2())\n",
    "\n",
    "    "
   ]
  },
  {
   "cell_type": "code",
   "execution_count": 231,
   "id": "d143a450",
   "metadata": {},
   "outputs": [
    {
     "ename": "RecursionError",
     "evalue": "maximum recursion depth exceeded",
     "output_type": "error",
     "traceback": [
      "\u001b[0;31m---------------------------------------------------------------------------\u001b[0m",
      "\u001b[0;31mRecursionError\u001b[0m                            Traceback (most recent call last)",
      "Cell \u001b[0;32mIn [231], line 21\u001b[0m\n\u001b[1;32m     18\u001b[0m         \u001b[38;5;28;01mreturn\u001b[39;00m val\n\u001b[1;32m     20\u001b[0m obj\u001b[38;5;241m=\u001b[39mC()\n\u001b[0;32m---> 21\u001b[0m \u001b[38;5;28mprint\u001b[39m(\u001b[43mobj\u001b[49m\u001b[38;5;241;43m.\u001b[39;49m\u001b[43mm1\u001b[49m\u001b[43m(\u001b[49m\u001b[43m)\u001b[49m)\n",
      "Cell \u001b[0;32mIn [231], line 17\u001b[0m, in \u001b[0;36mC.m1\u001b[0;34m(self)\u001b[0m\n\u001b[1;32m     16\u001b[0m \u001b[38;5;28;01mdef\u001b[39;00m \u001b[38;5;21mm1\u001b[39m(\u001b[38;5;28mself\u001b[39m):\n\u001b[0;32m---> 17\u001b[0m     val \u001b[38;5;241m=\u001b[39m \u001b[38;5;28;43mself\u001b[39;49m\u001b[38;5;241;43m.\u001b[39;49m\u001b[43mm1\u001b[49m\u001b[43m(\u001b[49m\u001b[43m)\u001b[49m\u001b[38;5;241m+\u001b[39m\u001b[38;5;241m20\u001b[39m\n\u001b[1;32m     18\u001b[0m     \u001b[38;5;28;01mreturn\u001b[39;00m val\n",
      "Cell \u001b[0;32mIn [231], line 17\u001b[0m, in \u001b[0;36mC.m1\u001b[0;34m(self)\u001b[0m\n\u001b[1;32m     16\u001b[0m \u001b[38;5;28;01mdef\u001b[39;00m \u001b[38;5;21mm1\u001b[39m(\u001b[38;5;28mself\u001b[39m):\n\u001b[0;32m---> 17\u001b[0m     val \u001b[38;5;241m=\u001b[39m \u001b[38;5;28;43mself\u001b[39;49m\u001b[38;5;241;43m.\u001b[39;49m\u001b[43mm1\u001b[49m\u001b[43m(\u001b[49m\u001b[43m)\u001b[49m\u001b[38;5;241m+\u001b[39m\u001b[38;5;241m20\u001b[39m\n\u001b[1;32m     18\u001b[0m     \u001b[38;5;28;01mreturn\u001b[39;00m val\n",
      "    \u001b[0;31m[... skipping similar frames: C.m1 at line 17 (2970 times)]\u001b[0m\n",
      "Cell \u001b[0;32mIn [231], line 17\u001b[0m, in \u001b[0;36mC.m1\u001b[0;34m(self)\u001b[0m\n\u001b[1;32m     16\u001b[0m \u001b[38;5;28;01mdef\u001b[39;00m \u001b[38;5;21mm1\u001b[39m(\u001b[38;5;28mself\u001b[39m):\n\u001b[0;32m---> 17\u001b[0m     val \u001b[38;5;241m=\u001b[39m \u001b[38;5;28;43mself\u001b[39;49m\u001b[38;5;241;43m.\u001b[39;49m\u001b[43mm1\u001b[49m\u001b[43m(\u001b[49m\u001b[43m)\u001b[49m\u001b[38;5;241m+\u001b[39m\u001b[38;5;241m20\u001b[39m\n\u001b[1;32m     18\u001b[0m     \u001b[38;5;28;01mreturn\u001b[39;00m val\n",
      "\u001b[0;31mRecursionError\u001b[0m: maximum recursion depth exceeded"
     ]
    }
   ],
   "source": [
    "# What is the output\n",
    "\n",
    "class A:\n",
    "    def m1(self):\n",
    "        return 20\n",
    "    \n",
    "    \n",
    "class B(A):\n",
    "    \n",
    "    def m1(self):\n",
    "        val = super().m1()+30\n",
    "        return val\n",
    "    \n",
    "    \n",
    "class C(B):\n",
    "    def m1(self):\n",
    "        val = self.m1()+20\n",
    "        return val\n",
    "    \n",
    "obj=C()\n",
    "print(obj.m1())"
   ]
  },
  {
   "cell_type": "code",
   "execution_count": 233,
   "id": "3df9085b",
   "metadata": {},
   "outputs": [
    {
     "ename": "TypeError",
     "evalue": "area() missing 1 required positional argument: 'b'",
     "output_type": "error",
     "traceback": [
      "\u001b[0;31m---------------------------------------------------------------------------\u001b[0m",
      "\u001b[0;31mTypeError\u001b[0m                                 Traceback (most recent call last)",
      "Cell \u001b[0;32mIn [233], line 16\u001b[0m\n\u001b[1;32m     11\u001b[0m         \u001b[38;5;28;01mreturn\u001b[39;00m l\u001b[38;5;241m*\u001b[39mB\n\u001b[1;32m     14\u001b[0m obj \u001b[38;5;241m=\u001b[39m Gometry()\n\u001b[0;32m---> 16\u001b[0m \u001b[43mobj\u001b[49m\u001b[38;5;241;43m.\u001b[39;49m\u001b[43marea\u001b[49m\u001b[43m(\u001b[49m\u001b[38;5;241;43m4\u001b[39;49m\u001b[43m)\u001b[49m\n",
      "\u001b[0;31mTypeError\u001b[0m: area() missing 1 required positional argument: 'b'"
     ]
    }
   ],
   "source": [
    "# Polymorphism \n",
    "\n",
    "# Method Overloading - Same method can behave different for different input\n",
    "# Method overloading not possible normaly in python but using default argument we can achive\n",
    "class Gometry:\n",
    "    \n",
    "    def area(self,radius):\n",
    "        return 3.14*radius*radius\n",
    "    \n",
    "    def area(self,l,b):\n",
    "        return l*B\n",
    "    \n",
    "    \n",
    "obj = Gometry()\n",
    "\n",
    "obj.area(4)\n",
    "    "
   ]
  },
  {
   "cell_type": "code",
   "execution_count": 234,
   "id": "4e5b6a4f",
   "metadata": {},
   "outputs": [],
   "source": [
    "# Operator overloading \n",
    "# + is only operator in python which support opretor overloading "
   ]
  },
  {
   "cell_type": "code",
   "execution_count": null,
   "id": "da0a0e1c",
   "metadata": {},
   "outputs": [],
   "source": []
  }
 ],
 "metadata": {
  "kernelspec": {
   "display_name": "Python 3",
   "language": "python",
   "name": "python3"
  },
  "language_info": {
   "codemirror_mode": {
    "name": "ipython",
    "version": 3
   },
   "file_extension": ".py",
   "mimetype": "text/x-python",
   "name": "python",
   "nbconvert_exporter": "python",
   "pygments_lexer": "ipython3",
   "version": "3.8.8"
  }
 },
 "nbformat": 4,
 "nbformat_minor": 5
}
