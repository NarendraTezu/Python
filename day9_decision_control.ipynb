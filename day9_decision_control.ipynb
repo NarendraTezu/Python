{
 "cells": [
  {
   "cell_type": "markdown",
   "id": "825e97a0",
   "metadata": {},
   "source": [
    "### Control statement\n",
    "The control statement in Python is used to make decisions based on conditions. It allows you to execute a block of code when a condition is true and another block of code when the condition is false"
   ]
  },
  {
   "cell_type": "code",
   "execution_count": 1,
   "id": "aed00278",
   "metadata": {},
   "outputs": [
    {
     "name": "stdout",
     "output_type": "stream",
     "text": [
      "You are eligible to vote!\n"
     ]
    }
   ],
   "source": [
    "age = 18\n",
    "\n",
    "if age >= 18:\n",
    "    print(\"You are eligible to vote!\")\n",
    "else:\n",
    "    print(\"You are not eligible to vote yet.\")"
   ]
  },
  {
   "cell_type": "code",
   "execution_count": 2,
   "id": "b30985c6",
   "metadata": {},
   "outputs": [
    {
     "name": "stdout",
     "output_type": "stream",
     "text": [
      "Your grade is: B\n"
     ]
    }
   ],
   "source": [
    "score = 80\n",
    "\n",
    "if score >= 90:\n",
    "    grade = \"A\"\n",
    "elif score >= 80:\n",
    "    grade = \"B\"\n",
    "elif score >= 70:\n",
    "    grade = \"C\"\n",
    "else:\n",
    "    grade = \"D\"\n",
    "\n",
    "print(\"Your grade is:\", grade)\n"
   ]
  },
  {
   "cell_type": "code",
   "execution_count": 3,
   "id": "2ab65c72",
   "metadata": {},
   "outputs": [
    {
     "name": "stdout",
     "output_type": "stream",
     "text": [
      "Enter your email address: nbktech@gmail.com\n",
      "Enter your password : 1234\n",
      "Welcome\n"
     ]
    }
   ],
   "source": [
    "# correct email- nbktech@gmail.com\n",
    "# password - 1234\n",
    "\n",
    "email = input(\"Enter your email address: \")\n",
    "if '@' in email:\n",
    "    password = input(\"Enter your password : \")\n",
    "\n",
    "    if email == \"nbktech@gmail.com\" and password == \"1234\":\n",
    "        print(\"Welcome\")\n",
    "    elif email == \"nbktech@gmail.com\" and password != \"1234\":\n",
    "        print(\"Password Incorrect\")\n",
    "        password = input(\"Enter your password\")\n",
    "        if password == \"1234\":\n",
    "            print(\"Finally correct\")\n",
    "        else:\n",
    "            print(\"Still incorrect\")\n",
    "    else:\n",
    "        print(\"Incorrect credentials\")\n",
    "else:\n",
    "    print(\"Enter your correct email address:\")"
   ]
  },
  {
   "cell_type": "code",
   "execution_count": null,
   "id": "501c809d",
   "metadata": {},
   "outputs": [],
   "source": []
  }
 ],
 "metadata": {
  "kernelspec": {
   "display_name": "Python 3",
   "language": "python",
   "name": "python3"
  },
  "language_info": {
   "codemirror_mode": {
    "name": "ipython",
    "version": 3
   },
   "file_extension": ".py",
   "mimetype": "text/x-python",
   "name": "python",
   "nbconvert_exporter": "python",
   "pygments_lexer": "ipython3",
   "version": "3.8.8"
  }
 },
 "nbformat": 4,
 "nbformat_minor": 5
}
