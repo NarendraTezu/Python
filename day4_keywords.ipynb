{
 "cells": [
  {
   "cell_type": "markdown",
   "id": "0187060b",
   "metadata": {},
   "source": [
    "# Keywords\n",
    "* Python is a case sensitive programimg language\n",
    "    In programming, a keyword is a word that is reserved by a program because the word has special meaning. Keyword can be commands or parameters. Every programming language haveing set of keyword that can not be used as variable name"
   ]
  },
  {
   "cell_type": "code",
   "execution_count": 1,
   "id": "5925b038",
   "metadata": {},
   "outputs": [
    {
     "name": "stdout",
     "output_type": "stream",
     "text": [
      "['False', 'None', 'True', 'and', 'as', 'assert', 'async', 'await', 'break', 'class', 'continue', 'def', 'del', 'elif', 'else', 'except', 'finally', 'for', 'from', 'global', 'if', 'import', 'in', 'is', 'lambda', 'nonlocal', 'not', 'or', 'pass', 'raise', 'return', 'try', 'while', 'with', 'yield']\n"
     ]
    }
   ],
   "source": [
    "# python has 33 keywords\n",
    "import keyword\n",
    "print(keyword.kwlist)"
   ]
  },
  {
   "cell_type": "markdown",
   "id": "86d5d6be",
   "metadata": {},
   "source": [
    "# Identifiers\n",
    "* A python identifiers is a name used to identify a variable, function, class, module or other object."
   ]
  },
  {
   "cell_type": "markdown",
   "id": "a57c50b0",
   "metadata": {},
   "source": [
    "### Rules for setting identifiers \n",
    "* can only start with an alphabet or _\n",
    "* Followed by 0 or more letter,_ and digits\n",
    "* Keywords cannot be used as an identifiers"
   ]
  },
  {
   "cell_type": "code",
   "execution_count": 1,
   "id": "dc38205d",
   "metadata": {},
   "outputs": [],
   "source": [
    "_ = \"Narendra\""
   ]
  },
  {
   "cell_type": "code",
   "execution_count": 2,
   "id": "5ebd84d3",
   "metadata": {},
   "outputs": [
    {
     "name": "stdout",
     "output_type": "stream",
     "text": [
      "Narendra\n"
     ]
    }
   ],
   "source": [
    "print(_)"
   ]
  },
  {
   "cell_type": "code",
   "execution_count": 3,
   "id": "ce209a77",
   "metadata": {},
   "outputs": [],
   "source": [
    "b = \"Narendra\""
   ]
  },
  {
   "cell_type": "code",
   "execution_count": 4,
   "id": "7b8dafd6",
   "metadata": {},
   "outputs": [
    {
     "name": "stdout",
     "output_type": "stream",
     "text": [
      "Narendra\n"
     ]
    }
   ],
   "source": [
    "print(b)"
   ]
  },
  {
   "cell_type": "code",
   "execution_count": null,
   "id": "07569f20",
   "metadata": {},
   "outputs": [],
   "source": []
  }
 ],
 "metadata": {
  "kernelspec": {
   "display_name": "Python 3",
   "language": "python",
   "name": "python3"
  },
  "language_info": {
   "codemirror_mode": {
    "name": "ipython",
    "version": 3
   },
   "file_extension": ".py",
   "mimetype": "text/x-python",
   "name": "python",
   "nbconvert_exporter": "python",
   "pygments_lexer": "ipython3",
   "version": "3.8.8"
  }
 },
 "nbformat": 4,
 "nbformat_minor": 5
}
