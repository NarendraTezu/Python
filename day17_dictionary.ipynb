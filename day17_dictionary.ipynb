{
 "cells": [
  {
   "cell_type": "markdown",
   "id": "0b926c96",
   "metadata": {},
   "source": [
    "## Dictionary\n",
    "* Dictionary has no indexing \n",
    "* Dictionary has mutable datatype\n",
    "* Dictionary key will always immutable, value can be mutable\n",
    "* Key should be unique"
   ]
  },
  {
   "cell_type": "code",
   "execution_count": 6,
   "id": "790e20cf",
   "metadata": {},
   "outputs": [
    {
     "data": {
      "text/plain": [
       "{}"
      ]
     },
     "execution_count": 6,
     "metadata": {},
     "output_type": "execute_result"
    }
   ],
   "source": [
    "# create empty dictinory\n",
    "d = {}\n",
    "d"
   ]
  },
  {
   "cell_type": "code",
   "execution_count": 7,
   "id": "c4d747f7",
   "metadata": {},
   "outputs": [
    {
     "data": {
      "text/plain": [
       "{'Name': 'Narendra', 'Gender': 'Male'}"
      ]
     },
     "execution_count": 7,
     "metadata": {},
     "output_type": "execute_result"
    }
   ],
   "source": [
    "# creating dictionary\n",
    "d1 = {\"Name\":\"Narendra\", \"Gender\":\"Male\"}\n",
    "d1"
   ]
  },
  {
   "cell_type": "code",
   "execution_count": 9,
   "id": "d7fcb196",
   "metadata": {},
   "outputs": [
    {
     "ename": "TypeError",
     "evalue": "unhashable type: 'list'",
     "output_type": "error",
     "traceback": [
      "\u001b[0;31m---------------------------------------------------------------------------\u001b[0m",
      "\u001b[0;31mTypeError\u001b[0m                                 Traceback (most recent call last)",
      "Cell \u001b[0;32mIn [9], line 2\u001b[0m\n\u001b[1;32m      1\u001b[0m \u001b[38;5;66;03m# dictnory key is immutable if we try with mutable data type we get error unhashable type: 'list'\u001b[39;00m\n\u001b[0;32m----> 2\u001b[0m d2 \u001b[38;5;241m=\u001b[39m {[\u001b[38;5;241m1\u001b[39m,\u001b[38;5;241m2\u001b[39m,\u001b[38;5;241m3\u001b[39m]:\u001b[38;5;124m\"\u001b[39m\u001b[38;5;124mNarendra\u001b[39m\u001b[38;5;124m\"\u001b[39m}\n",
      "\u001b[0;31mTypeError\u001b[0m: unhashable type: 'list'"
     ]
    }
   ],
   "source": [
    "# dictnory key is immutable if we try with mutable data type we get error unhashable type: 'list'\n",
    "d2 = {[1,2,3]:\"Narendra\"}"
   ]
  },
  {
   "cell_type": "code",
   "execution_count": 10,
   "id": "2c34c457",
   "metadata": {},
   "outputs": [],
   "source": [
    "# dictnory key is immutable if we try with mutable data type we get error unhashable type: 'list' but here we will not get any error\n",
    "d2 = {(1,2,3):\"Narendra\"}"
   ]
  },
  {
   "cell_type": "code",
   "execution_count": 12,
   "id": "374912dc",
   "metadata": {},
   "outputs": [
    {
     "data": {
      "text/plain": [
       "{(1, 2, 3): 'Narendra'}"
      ]
     },
     "execution_count": 12,
     "metadata": {},
     "output_type": "execute_result"
    }
   ],
   "source": [
    "d2"
   ]
  },
  {
   "cell_type": "code",
   "execution_count": 14,
   "id": "03fc0658",
   "metadata": {},
   "outputs": [
    {
     "data": {
      "text/plain": [
       "{'Name': 'Vipin'}"
      ]
     },
     "execution_count": 14,
     "metadata": {},
     "output_type": "execute_result"
    }
   ],
   "source": [
    "# we will duplicate keys then every key have one istance and very recent (last) instance will be apper for that key\n",
    "d3 = {\"Name\":\"Narendra\", \"Name\":\"Rahul\",\"Name\":\"Vipin\"}\n",
    "d3"
   ]
  },
  {
   "cell_type": "code",
   "execution_count": 15,
   "id": "23e84dd6",
   "metadata": {},
   "outputs": [
    {
     "data": {
      "text/plain": [
       "{'Name': 'Rohit',\n",
       " 'college': 'IITJ',\n",
       " 'Marks': {'sub1': 67, 'sub2': 78, 'sub3': 77}}"
      ]
     },
     "execution_count": 15,
     "metadata": {},
     "output_type": "execute_result"
    }
   ],
   "source": [
    "# creating 2D dictinory \n",
    "d4 = {\"Name\":\"Rohit\",\"college\":\"IITJ\",\"Marks\":{\"sub1\":67,\"sub2\":78,\"sub3\":77}}\n",
    "d4"
   ]
  },
  {
   "cell_type": "code",
   "execution_count": 16,
   "id": "58011d8a",
   "metadata": {},
   "outputs": [
    {
     "data": {
      "text/plain": [
       "{'Name': 'Rohit',\n",
       " 'college': 'IITJ',\n",
       " 'Marks': {'sub1': {'sub1_pre': 28, 'sub1_thr': 57}, 'sub2': 78, 'sub3': 77}}"
      ]
     },
     "execution_count": 16,
     "metadata": {},
     "output_type": "execute_result"
    }
   ],
   "source": [
    "# creating 3D dictinory \n",
    "d5 = {\"Name\":\"Rohit\",\"college\":\"IITJ\",\"Marks\":{\"sub1\":{\"sub1_pre\":28,\"sub1_thr\":57},\"sub2\":78,\"sub3\":77}}\n",
    "d5"
   ]
  },
  {
   "cell_type": "code",
   "execution_count": 17,
   "id": "894a27f8",
   "metadata": {},
   "outputs": [
    {
     "data": {
      "text/plain": [
       "'Rohit'"
      ]
     },
     "execution_count": 17,
     "metadata": {},
     "output_type": "execute_result"
    }
   ],
   "source": [
    "# fatching the value from dictinory always possible using key\n",
    "d5[\"Name\"]"
   ]
  },
  {
   "cell_type": "code",
   "execution_count": 18,
   "id": "f2d8a3d2",
   "metadata": {},
   "outputs": [
    {
     "data": {
      "text/plain": [
       "'IITJ'"
      ]
     },
     "execution_count": 18,
     "metadata": {},
     "output_type": "execute_result"
    }
   ],
   "source": [
    "d5[\"college\"]"
   ]
  },
  {
   "cell_type": "code",
   "execution_count": 22,
   "id": "9e82b82a",
   "metadata": {},
   "outputs": [
    {
     "data": {
      "text/plain": [
       "28"
      ]
     },
     "execution_count": 22,
     "metadata": {},
     "output_type": "execute_result"
    }
   ],
   "source": [
    "d5[\"Marks\"][\"sub1\"][\"sub1_pre\"]"
   ]
  },
  {
   "cell_type": "code",
   "execution_count": 25,
   "id": "fa4367b6",
   "metadata": {},
   "outputs": [],
   "source": [
    "# Edit value in dict \n",
    "\n",
    "d5[\"college\"] = \"Tezpur University\""
   ]
  },
  {
   "cell_type": "code",
   "execution_count": 26,
   "id": "9ebc5464",
   "metadata": {},
   "outputs": [
    {
     "data": {
      "text/plain": [
       "{'Name': 'Rohit',\n",
       " 'college': 'Tezpur University',\n",
       " 'Marks': {'sub1': {'sub1_pre': 28, 'sub1_thr': 57}, 'sub2': 78, 'sub3': 77}}"
      ]
     },
     "execution_count": 26,
     "metadata": {},
     "output_type": "execute_result"
    }
   ],
   "source": [
    "d5"
   ]
  },
  {
   "cell_type": "code",
   "execution_count": 27,
   "id": "71cedd08",
   "metadata": {},
   "outputs": [
    {
     "data": {
      "text/plain": [
       "'Rohit'"
      ]
     },
     "execution_count": 27,
     "metadata": {},
     "output_type": "execute_result"
    }
   ],
   "source": [
    "# for 1D dictinory we can access value using get funtion also\n",
    "d5.get(\"Name\")"
   ]
  },
  {
   "cell_type": "code",
   "execution_count": 28,
   "id": "cf316c83",
   "metadata": {},
   "outputs": [],
   "source": [
    "# How to add new item in dictinory (new key value pair )\n",
    "d5[\"age\"] = 28"
   ]
  },
  {
   "cell_type": "code",
   "execution_count": 29,
   "id": "3925adad",
   "metadata": {},
   "outputs": [
    {
     "data": {
      "text/plain": [
       "{'Name': 'Rohit',\n",
       " 'college': 'Tezpur University',\n",
       " 'Marks': {'sub1': {'sub1_pre': 28, 'sub1_thr': 57}, 'sub2': 78, 'sub3': 77},\n",
       " 'age': 28}"
      ]
     },
     "execution_count": 29,
     "metadata": {},
     "output_type": "execute_result"
    }
   ],
   "source": [
    "d5"
   ]
  },
  {
   "cell_type": "code",
   "execution_count": 32,
   "id": "6e009d67",
   "metadata": {},
   "outputs": [],
   "source": [
    "d5[\"Marks\"][\"sub2\"]={'sub2_pre': 26, 'sub2_thr': 59}"
   ]
  },
  {
   "cell_type": "code",
   "execution_count": 33,
   "id": "8e6b534e",
   "metadata": {},
   "outputs": [
    {
     "data": {
      "text/plain": [
       "{'Name': 'Rohit',\n",
       " 'college': 'Tezpur University',\n",
       " 'Marks': {'sub1': {'sub1_pre': 28, 'sub1_thr': 57},\n",
       "  'sub2': {'sub2_pre': 26, 'sub2_thr': 59},\n",
       "  'sub3': 77},\n",
       " 'age': 28}"
      ]
     },
     "execution_count": 33,
     "metadata": {},
     "output_type": "execute_result"
    }
   ],
   "source": [
    "d5"
   ]
  },
  {
   "cell_type": "code",
   "execution_count": 35,
   "id": "75a06ece",
   "metadata": {},
   "outputs": [
    {
     "data": {
      "text/plain": [
       "{}"
      ]
     },
     "execution_count": 35,
     "metadata": {},
     "output_type": "execute_result"
    }
   ],
   "source": [
    "# Delete value from Dictitonary\n",
    "d6 ={}\n",
    "d6"
   ]
  },
  {
   "cell_type": "code",
   "execution_count": 36,
   "id": "9fb8b83b",
   "metadata": {},
   "outputs": [],
   "source": [
    "del d6"
   ]
  },
  {
   "cell_type": "code",
   "execution_count": 37,
   "id": "88164923",
   "metadata": {},
   "outputs": [
    {
     "ename": "NameError",
     "evalue": "name 'd6' is not defined",
     "output_type": "error",
     "traceback": [
      "\u001b[0;31m---------------------------------------------------------------------------\u001b[0m",
      "\u001b[0;31mNameError\u001b[0m                                 Traceback (most recent call last)",
      "Cell \u001b[0;32mIn [37], line 1\u001b[0m\n\u001b[0;32m----> 1\u001b[0m \u001b[43md6\u001b[49m\n",
      "\u001b[0;31mNameError\u001b[0m: name 'd6' is not defined"
     ]
    }
   ],
   "source": [
    "d6"
   ]
  },
  {
   "cell_type": "code",
   "execution_count": 38,
   "id": "9b46735c",
   "metadata": {},
   "outputs": [
    {
     "data": {
      "text/plain": [
       "{'Name': 'Narendra', 'Home_address': 'Abadan Urf Bairan', 'Distt': 'Ghazipur'}"
      ]
     },
     "execution_count": 38,
     "metadata": {},
     "output_type": "execute_result"
    }
   ],
   "source": [
    "d6 = {\"Name\":\"Narendra\", \"Home_address\":\"Abadan Urf Bairan\", \"Distt\":\"Ghazipur\"}\n",
    "d6"
   ]
  },
  {
   "cell_type": "code",
   "execution_count": 39,
   "id": "820814d1",
   "metadata": {},
   "outputs": [],
   "source": [
    "del d6[\"Distt\"]"
   ]
  },
  {
   "cell_type": "code",
   "execution_count": 40,
   "id": "a48a639b",
   "metadata": {},
   "outputs": [
    {
     "data": {
      "text/plain": [
       "{'Name': 'Narendra', 'Home_address': 'Abadan Urf Bairan'}"
      ]
     },
     "execution_count": 40,
     "metadata": {},
     "output_type": "execute_result"
    }
   ],
   "source": [
    "d6"
   ]
  },
  {
   "cell_type": "code",
   "execution_count": 41,
   "id": "6bef06a9",
   "metadata": {},
   "outputs": [],
   "source": [
    "# clear function use to empty the dictnory\n",
    "d6.clear()"
   ]
  },
  {
   "cell_type": "code",
   "execution_count": 42,
   "id": "6fb2252c",
   "metadata": {},
   "outputs": [
    {
     "data": {
      "text/plain": [
       "{}"
      ]
     },
     "execution_count": 42,
     "metadata": {},
     "output_type": "execute_result"
    }
   ],
   "source": [
    "d6"
   ]
  },
  {
   "cell_type": "code",
   "execution_count": 43,
   "id": "d6f3d010",
   "metadata": {},
   "outputs": [
    {
     "data": {
      "text/plain": [
       "{'Name': 'Narendra', 'Gender': 'Male'}"
      ]
     },
     "execution_count": 43,
     "metadata": {},
     "output_type": "execute_result"
    }
   ],
   "source": [
    "# opration on dictnory\n",
    "d1"
   ]
  },
  {
   "cell_type": "code",
   "execution_count": 44,
   "id": "5ab5d133",
   "metadata": {},
   "outputs": [
    {
     "data": {
      "text/plain": [
       "{(1, 2, 3): 'Narendra'}"
      ]
     },
     "execution_count": 44,
     "metadata": {},
     "output_type": "execute_result"
    }
   ],
   "source": [
    "d2"
   ]
  },
  {
   "cell_type": "code",
   "execution_count": 45,
   "id": "2e13f573",
   "metadata": {},
   "outputs": [
    {
     "data": {
      "text/plain": [
       "{'Name': 'Vipin'}"
      ]
     },
     "execution_count": 45,
     "metadata": {},
     "output_type": "execute_result"
    }
   ],
   "source": [
    "d3"
   ]
  },
  {
   "cell_type": "code",
   "execution_count": 46,
   "id": "648f2441",
   "metadata": {},
   "outputs": [
    {
     "data": {
      "text/plain": [
       "{'Name': 'Rohit',\n",
       " 'college': 'IITJ',\n",
       " 'Marks': {'sub1': 67, 'sub2': 78, 'sub3': 77}}"
      ]
     },
     "execution_count": 46,
     "metadata": {},
     "output_type": "execute_result"
    }
   ],
   "source": [
    "d4"
   ]
  },
  {
   "cell_type": "code",
   "execution_count": 47,
   "id": "75d34551",
   "metadata": {},
   "outputs": [
    {
     "ename": "TypeError",
     "evalue": "unsupported operand type(s) for +: 'dict' and 'dict'",
     "output_type": "error",
     "traceback": [
      "\u001b[0;31m---------------------------------------------------------------------------\u001b[0m",
      "\u001b[0;31mTypeError\u001b[0m                                 Traceback (most recent call last)",
      "Cell \u001b[0;32mIn [47], line 2\u001b[0m\n\u001b[1;32m      1\u001b[0m \u001b[38;5;66;03m# concatnation will not  work for dictinary\u001b[39;00m\n\u001b[0;32m----> 2\u001b[0m \u001b[43md1\u001b[49m\u001b[38;5;241;43m+\u001b[39;49m\u001b[43md2\u001b[49m\n",
      "\u001b[0;31mTypeError\u001b[0m: unsupported operand type(s) for +: 'dict' and 'dict'"
     ]
    }
   ],
   "source": [
    "# concatnation will not  work for dictinary\n",
    "d1+d2"
   ]
  },
  {
   "cell_type": "code",
   "execution_count": 48,
   "id": "cc35f91e",
   "metadata": {},
   "outputs": [
    {
     "ename": "TypeError",
     "evalue": "unsupported operand type(s) for *: 'dict' and 'dict'",
     "output_type": "error",
     "traceback": [
      "\u001b[0;31m---------------------------------------------------------------------------\u001b[0m",
      "\u001b[0;31mTypeError\u001b[0m                                 Traceback (most recent call last)",
      "Cell \u001b[0;32mIn [48], line 2\u001b[0m\n\u001b[1;32m      1\u001b[0m \u001b[38;5;66;03m# Multiplication will not  work for dictinary\u001b[39;00m\n\u001b[0;32m----> 2\u001b[0m \u001b[43md1\u001b[49m\u001b[38;5;241;43m*\u001b[39;49m\u001b[43md2\u001b[49m\n",
      "\u001b[0;31mTypeError\u001b[0m: unsupported operand type(s) for *: 'dict' and 'dict'"
     ]
    }
   ],
   "source": [
    "# Multiplication will not  work for dictinary\n",
    "d1*d2"
   ]
  },
  {
   "cell_type": "code",
   "execution_count": 50,
   "id": "a85eec63",
   "metadata": {},
   "outputs": [
    {
     "name": "stdout",
     "output_type": "stream",
     "text": [
      "Name\n",
      "Gender\n"
     ]
    }
   ],
   "source": [
    "# when you will itterate over the dict you will only get the key in normal for loop\n",
    "for i in d1:\n",
    "    print(i)"
   ]
  },
  {
   "cell_type": "code",
   "execution_count": 54,
   "id": "e67b216b",
   "metadata": {},
   "outputs": [
    {
     "name": "stdout",
     "output_type": "stream",
     "text": [
      "Name Narendra\n",
      "Gender Male\n"
     ]
    }
   ],
   "source": [
    "# for getting the all values from dictinory using for loop \n",
    "for i in d1:\n",
    "    print(i,d1[i])"
   ]
  },
  {
   "cell_type": "code",
   "execution_count": 55,
   "id": "2e6cae44",
   "metadata": {},
   "outputs": [
    {
     "data": {
      "text/plain": [
       "False"
      ]
     },
     "execution_count": 55,
     "metadata": {},
     "output_type": "execute_result"
    }
   ],
   "source": [
    "# in dictnory membership operator will also work\n",
    "\"Narendra\" in d1"
   ]
  },
  {
   "cell_type": "code",
   "execution_count": 57,
   "id": "d2294a73",
   "metadata": {},
   "outputs": [
    {
     "data": {
      "text/plain": [
       "True"
      ]
     },
     "execution_count": 57,
     "metadata": {},
     "output_type": "execute_result"
    }
   ],
   "source": [
    "\"Gender\" in d1 # member ship operator serch in key only"
   ]
  },
  {
   "cell_type": "code",
   "execution_count": 60,
   "id": "f8f57688",
   "metadata": {},
   "outputs": [
    {
     "data": {
      "text/plain": [
       "2"
      ]
     },
     "execution_count": 60,
     "metadata": {},
     "output_type": "execute_result"
    }
   ],
   "source": [
    "# function for dictinory\n",
    "len(d1)"
   ]
  },
  {
   "cell_type": "code",
   "execution_count": 61,
   "id": "96ac9c76",
   "metadata": {},
   "outputs": [
    {
     "data": {
      "text/plain": [
       "'Gender'"
      ]
     },
     "execution_count": 61,
     "metadata": {},
     "output_type": "execute_result"
    }
   ],
   "source": [
    "min(d1)"
   ]
  },
  {
   "cell_type": "code",
   "execution_count": 62,
   "id": "8418f726",
   "metadata": {},
   "outputs": [
    {
     "data": {
      "text/plain": [
       "'Name'"
      ]
     },
     "execution_count": 62,
     "metadata": {},
     "output_type": "execute_result"
    }
   ],
   "source": [
    "max(d1)"
   ]
  },
  {
   "cell_type": "code",
   "execution_count": 64,
   "id": "b3a73cfc",
   "metadata": {},
   "outputs": [
    {
     "data": {
      "text/plain": [
       "['Gender', 'Name']"
      ]
     },
     "execution_count": 64,
     "metadata": {},
     "output_type": "execute_result"
    }
   ],
   "source": [
    "sorted(d1)"
   ]
  },
  {
   "cell_type": "code",
   "execution_count": 65,
   "id": "5baddfcd",
   "metadata": {},
   "outputs": [
    {
     "data": {
      "text/plain": [
       "dict_keys(['Name', 'Gender'])"
      ]
     },
     "execution_count": 65,
     "metadata": {},
     "output_type": "execute_result"
    }
   ],
   "source": [
    "d1.keys() # will give list of all keys"
   ]
  },
  {
   "cell_type": "code",
   "execution_count": 66,
   "id": "46eb0574",
   "metadata": {},
   "outputs": [
    {
     "data": {
      "text/plain": [
       "dict_values(['Narendra', 'Male'])"
      ]
     },
     "execution_count": 66,
     "metadata": {},
     "output_type": "execute_result"
    }
   ],
   "source": [
    "d1.values()  # will give all the values of dictinory"
   ]
  },
  {
   "cell_type": "code",
   "execution_count": null,
   "id": "664bd854",
   "metadata": {},
   "outputs": [],
   "source": []
  }
 ],
 "metadata": {
  "kernelspec": {
   "display_name": "Python 3",
   "language": "python",
   "name": "python3"
  },
  "language_info": {
   "codemirror_mode": {
    "name": "ipython",
    "version": 3
   },
   "file_extension": ".py",
   "mimetype": "text/x-python",
   "name": "python",
   "nbconvert_exporter": "python",
   "pygments_lexer": "ipython3",
   "version": "3.8.8"
  }
 },
 "nbformat": 4,
 "nbformat_minor": 5
}
