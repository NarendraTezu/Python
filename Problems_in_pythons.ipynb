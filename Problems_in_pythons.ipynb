{
 "cells": [
  {
   "cell_type": "markdown",
   "id": "b68cb68f",
   "metadata": {},
   "source": [
    "### User will input (3ages).Find the oldest one"
   ]
  },
  {
   "cell_type": "code",
   "execution_count": 1,
   "id": "d4c38d71",
   "metadata": {},
   "outputs": [
    {
     "name": "stdout",
     "output_type": "stream",
     "text": [
      "Enter you age :14\n",
      "Enter you age :23\n",
      "Enter you age :22\n",
      "Oldest age is :  23\n"
     ]
    }
   ],
   "source": [
    "age1 = int(input(\"Enter you age :\"))\n",
    "age2 = int(input(\"Enter you age :\"))\n",
    "age3 = int(input(\"Enter you age :\"))\n",
    "max = age1\n",
    "if max < age2:\n",
    "    max = age2\n",
    "if max < age3:\n",
    "    max = age3\n",
    "print(\"Oldest age is : \", max)"
   ]
  },
  {
   "cell_type": "markdown",
   "id": "98c93b47",
   "metadata": {},
   "source": [
    "### Write a program that will convert celsius value to fahrenheit"
   ]
  },
  {
   "cell_type": "code",
   "execution_count": 4,
   "id": "c50b0501",
   "metadata": {},
   "outputs": [
    {
     "name": "stdout",
     "output_type": "stream",
     "text": [
      "Enter the temprature in degree celcus : -40\n",
      "Degree in fahrenheit :  -40.0\n"
     ]
    }
   ],
   "source": [
    "td = float(input(\"Enter the temprature in degree celcus : \"))\n",
    "\n",
    "tf = (td * 9/5) + 32\n",
    "\n",
    "print(\"Degree in fahrenheit : \", tf)"
   ]
  },
  {
   "cell_type": "markdown",
   "id": "cdcae0e4",
   "metadata": {},
   "source": [
    "### User will input (2numbers).Write a program to swap the numbers"
   ]
  },
  {
   "cell_type": "code",
   "execution_count": 5,
   "id": "3ce174db",
   "metadata": {},
   "outputs": [
    {
     "name": "stdout",
     "output_type": "stream",
     "text": [
      "Enter your num1 : 23\n",
      "Enter your num2 : 44\n",
      "num1 after swap is :  44\n",
      "num2 after swap is :  23\n"
     ]
    }
   ],
   "source": [
    "num1 = int(input(\"Enter your num1 : \"))\n",
    "num2 = int(input(\"Enter your num2 : \"))\n",
    "\n",
    "num1, num2 = num2, num1\n",
    "\n",
    "print(\"num1 after swap is : \", num1)\n",
    "print(\"num2 after swap is : \", num2)"
   ]
  },
  {
   "cell_type": "markdown",
   "id": "8e00545d",
   "metadata": {},
   "source": [
    "### Write a program that will give you the sum of 3 digits"
   ]
  },
  {
   "cell_type": "code",
   "execution_count": 6,
   "id": "e60f7836",
   "metadata": {},
   "outputs": [
    {
     "name": "stdout",
     "output_type": "stream",
     "text": [
      "Enter your 3 digit number : 123\n",
      "sum of digit of the num1 is :  6\n"
     ]
    }
   ],
   "source": [
    "num1 = input(\"Enter your 3 digit number : \")\n",
    "sum_digit = 0\n",
    "for i in num1:\n",
    "    sum_digit = sum_digit + int(i)\n",
    "\n",
    "print(\"sum of digit of the num1 is : \", sum_digit)"
   ]
  },
  {
   "cell_type": "markdown",
   "id": "f4e4cc74",
   "metadata": {},
   "source": [
    "### Write a program that will reverse a four digit number.Also it checks whether the reverse is true."
   ]
  },
  {
   "cell_type": "code",
   "execution_count": 8,
   "id": "1fac7e1b",
   "metadata": {},
   "outputs": [
    {
     "name": "stdout",
     "output_type": "stream",
     "text": [
      "Enter your 4 digit number : 3443\n",
      "Reverse number is :  3443\n",
      "True\n"
     ]
    }
   ],
   "source": [
    "num1 = input(\"Enter your 4 digit number : \")\n",
    "reverse = num1[::-1]\n",
    "print(\"Reverse number is : \",reverse)\n",
    "if num1 == reverse:\n",
    "    print(\"True\")"
   ]
  },
  {
   "cell_type": "markdown",
   "id": "20ac1a13",
   "metadata": {},
   "source": [
    "### Write a program that will tell whether the number entered by the user is odd or even."
   ]
  },
  {
   "cell_type": "code",
   "execution_count": 12,
   "id": "af38f7a0",
   "metadata": {},
   "outputs": [
    {
     "name": "stdout",
     "output_type": "stream",
     "text": [
      "Enter your number : 34\n",
      "Number 34 is even\n"
     ]
    }
   ],
   "source": [
    "num1 = int(input(\"Enter your number : \"))\n",
    "if num1 % 2 == 0:\n",
    "    print(f\"Number {num1} is even\")\n",
    "else:\n",
    "    print(f\"Number {num1} is odd\")"
   ]
  },
  {
   "cell_type": "markdown",
   "id": "9f232070",
   "metadata": {},
   "source": [
    "### Write a program that will tell whether the given year is a leap year or not."
   ]
  },
  {
   "cell_type": "code",
   "execution_count": 25,
   "id": "ac432ebe",
   "metadata": {},
   "outputs": [
    {
     "name": "stdout",
     "output_type": "stream",
     "text": [
      "Enter your year : 1900\n",
      "Enter year 1900 is not leap year \n"
     ]
    }
   ],
   "source": [
    "year = int(input(\"Enter your year : \"))\n",
    "\n",
    "if year % 400 == 0:\n",
    "    print(f\"Enter year {year} is leap year \")\n",
    "elif year % 100 == 0:\n",
    "    print(f\"Enter year {year} is not leap year \")\n",
    "elif year % 4 == 0:\n",
    "    print(f\"Enter year {year} is leap year \")\n",
    "else:\n",
    "    print(f\"Enter year {year} is not leap year \")"
   ]
  },
  {
   "cell_type": "markdown",
   "id": "e8d89428",
   "metadata": {},
   "source": [
    "### Write a program to find the euclidean distance between two coordinates."
   ]
  },
  {
   "cell_type": "code",
   "execution_count": 26,
   "id": "6a0190b4",
   "metadata": {},
   "outputs": [
    {
     "name": "stdout",
     "output_type": "stream",
     "text": [
      "Enter your x1 quardiane : 5\n",
      "Enter your y1 quardiane : 6\n",
      "Enter your x2 quardiane : 3\n",
      "Enter your y2 quardiane : 4\n",
      "2.8284271247461903\n"
     ]
    }
   ],
   "source": [
    "x1 = float(input(\"Enter your x1 quardiane : \"))\n",
    "y1 = float(input(\"Enter your y1 quardiane : \"))\n",
    "x2 = float(input(\"Enter your x2 quardiane : \"))\n",
    "y2 = float(input(\"Enter your y2 quardiane : \"))\n",
    "\n",
    "distance = (((x1-x2)**2)+((y1-y2)**2))**.5\n",
    "\n",
    "print(distance)"
   ]
  },
  {
   "cell_type": "code",
   "execution_count": null,
   "id": "617baf27",
   "metadata": {},
   "outputs": [],
   "source": []
  }
 ],
 "metadata": {
  "kernelspec": {
   "display_name": "Python 3",
   "language": "python",
   "name": "python3"
  },
  "language_info": {
   "codemirror_mode": {
    "name": "ipython",
    "version": 3
   },
   "file_extension": ".py",
   "mimetype": "text/x-python",
   "name": "python",
   "nbconvert_exporter": "python",
   "pygments_lexer": "ipython3",
   "version": "3.8.8"
  }
 },
 "nbformat": 4,
 "nbformat_minor": 5
}
